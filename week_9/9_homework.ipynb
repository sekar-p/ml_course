{
 "cells": [
  {
   "cell_type": "code",
   "execution_count": 1,
   "id": "parental-stake",
   "metadata": {},
   "outputs": [
    {
     "data": {
      "text/plain": [
       "'2.7.0'"
      ]
     },
     "execution_count": 1,
     "metadata": {},
     "output_type": "execute_result"
    }
   ],
   "source": [
    "import numpy as np\n",
    "\n",
    "import tensorflow as tf\n",
    "from tensorflow import keras\n",
    "\n",
    "tf.__version__"
   ]
  },
  {
   "cell_type": "code",
   "execution_count": 2,
   "id": "advisory-logging",
   "metadata": {},
   "outputs": [],
   "source": [
    "from tensorflow.keras.preprocessing.image import load_img"
   ]
  },
  {
   "cell_type": "markdown",
   "id": "dedicated-blast",
   "metadata": {},
   "source": [
    "## Question - 1"
   ]
  },
  {
   "cell_type": "code",
   "execution_count": 3,
   "id": "important-reviewer",
   "metadata": {},
   "outputs": [],
   "source": [
    "model = keras.models.load_model('dogs_cats.h5')"
   ]
  },
  {
   "cell_type": "code",
   "execution_count": 4,
   "id": "deluxe-tournament",
   "metadata": {},
   "outputs": [
    {
     "name": "stdout",
     "output_type": "stream",
     "text": [
      "INFO:tensorflow:Assets written to: /tmp/tmp9nkruskm/assets\n"
     ]
    },
    {
     "name": "stderr",
     "output_type": "stream",
     "text": [
      "WARNING:absl:Buffer deduplication procedure will be skipped when flatbuffer library is not properly loaded\n"
     ]
    }
   ],
   "source": [
    "converter = tf.lite.TFLiteConverter.from_keras_model(model)\n",
    "\n",
    "tflite_model = converter.convert()\n",
    "\n",
    "with open('dogs_cats.tflite', 'wb') as f_out:\n",
    "    f_out.write(tflite_model)"
   ]
  },
  {
   "cell_type": "code",
   "execution_count": 5,
   "id": "worth-pitch",
   "metadata": {},
   "outputs": [
    {
     "name": "stdout",
     "output_type": "stream",
     "text": [
      "    \n",
      "275 Dec 1 18:13 Dockerfile\n",
      "8.5K Dec 1 18:16 Untitled.ipynb\n",
      "4.0K Dec 1 18:11 __pycache__\n",
      "86M Nov 25 12:32 dogs_cats.h5\n",
      "43M Dec 1 18:17 dogs_cats.tflite\n",
      "1.3K Dec 1 18:16 lambda_function.py\n",
      "98K Oct 8 2014 pug.jpg\n"
     ]
    }
   ],
   "source": [
    "!ls -lh|awk '{print $5 \" \" $6 \" \" $7 \" \" $8 \" \" $9}'"
   ]
  },
  {
   "cell_type": "markdown",
   "id": "southwest-korean",
   "metadata": {},
   "source": [
    "`Size of the converted model is 43 MB`"
   ]
  },
  {
   "cell_type": "markdown",
   "id": "exclusive-jacob",
   "metadata": {},
   "source": [
    "## Question - 2"
   ]
  },
  {
   "cell_type": "code",
   "execution_count": 6,
   "id": "loose-chrome",
   "metadata": {},
   "outputs": [],
   "source": [
    "import tensorflow.lite as tflite"
   ]
  },
  {
   "cell_type": "code",
   "execution_count": 7,
   "id": "expired-overall",
   "metadata": {},
   "outputs": [],
   "source": [
    "interpreter = tflite.Interpreter(model_path='dogs_cats.tflite')\n",
    "interpreter.allocate_tensors()\n",
    "\n",
    "input_index = interpreter.get_input_details()[0]['index']\n",
    "output_index = interpreter.get_output_details()[0]['index']"
   ]
  },
  {
   "cell_type": "code",
   "execution_count": 8,
   "id": "legitimate-glenn",
   "metadata": {},
   "outputs": [
    {
     "data": {
      "text/plain": [
       "13"
      ]
     },
     "execution_count": 8,
     "metadata": {},
     "output_type": "execute_result"
    }
   ],
   "source": [
    "output_index"
   ]
  },
  {
   "cell_type": "markdown",
   "id": "violent-pickup",
   "metadata": {},
   "source": [
    "## Question - 3"
   ]
  },
  {
   "cell_type": "code",
   "execution_count": 11,
   "id": "extra-developer",
   "metadata": {},
   "outputs": [],
   "source": [
    "from io import BytesIO\n",
    "from urllib import request\n",
    "\n",
    "from PIL import Image\n",
    "\n",
    "def download_image(url):\n",
    "    with request.urlopen(url) as resp:\n",
    "        buffer = resp.read()\n",
    "    stream = BytesIO(buffer)\n",
    "    img = Image.open(stream)\n",
    "    return img\n",
    "\n",
    "\n",
    "def prepare_image(img, target_size):\n",
    "    if img.mode != 'RGB':\n",
    "        img = img.convert('RGB')\n",
    "    img = img.resize(target_size, Image.NEAREST)\n",
    "    return img"
   ]
  },
  {
   "cell_type": "code",
   "execution_count": 12,
   "id": "floral-spoke",
   "metadata": {},
   "outputs": [],
   "source": [
    "image = download_image('https://upload.wikimedia.org/wikipedia/commons/9/9a/Pug_600.jpg')"
   ]
  },
  {
   "cell_type": "code",
   "execution_count": 13,
   "id": "applied-circuit",
   "metadata": {},
   "outputs": [],
   "source": [
    "prepared_image = prepare_image(image, (150,150))"
   ]
  },
  {
   "cell_type": "code",
   "execution_count": 14,
   "id": "concrete-soundtrack",
   "metadata": {},
   "outputs": [],
   "source": [
    "def preprocess_input(x):\n",
    "    x /= 255\n",
    "    return x"
   ]
  },
  {
   "cell_type": "code",
   "execution_count": 15,
   "id": "relevant-plate",
   "metadata": {},
   "outputs": [],
   "source": [
    "x = np.array(prepared_image, dtype='float32')\n",
    "X = np.array([x])\n",
    "\n",
    "X = preprocess_input(X)"
   ]
  },
  {
   "cell_type": "code",
   "execution_count": 16,
   "id": "center-response",
   "metadata": {},
   "outputs": [
    {
     "data": {
      "text/plain": [
       "(1, 150, 150, 3)"
      ]
     },
     "execution_count": 16,
     "metadata": {},
     "output_type": "execute_result"
    }
   ],
   "source": [
    "X.shape"
   ]
  },
  {
   "cell_type": "code",
   "execution_count": 17,
   "id": "answering-underground",
   "metadata": {},
   "outputs": [
    {
     "data": {
      "text/plain": [
       "0.7058824"
      ]
     },
     "execution_count": 17,
     "metadata": {},
     "output_type": "execute_result"
    }
   ],
   "source": [
    "X[0,0,0,0]"
   ]
  },
  {
   "cell_type": "markdown",
   "id": "fluid-criterion",
   "metadata": {},
   "source": [
    "First Pixel is 0.7058824"
   ]
  },
  {
   "cell_type": "markdown",
   "id": "unlikely-cologne",
   "metadata": {},
   "source": [
    "## Question - 4"
   ]
  },
  {
   "cell_type": "code",
   "execution_count": 18,
   "id": "announced-korean",
   "metadata": {},
   "outputs": [],
   "source": [
    "interpreter.set_tensor(input_index, X)\n",
    "interpreter.invoke()\n",
    "preds = interpreter.get_tensor(output_index)"
   ]
  },
  {
   "cell_type": "code",
   "execution_count": 19,
   "id": "adapted-jewel",
   "metadata": {},
   "outputs": [
    {
     "data": {
      "text/plain": [
       "array([0.76990855], dtype=float32)"
      ]
     },
     "execution_count": 19,
     "metadata": {},
     "output_type": "execute_result"
    }
   ],
   "source": [
    "preds[0]"
   ]
  },
  {
   "cell_type": "markdown",
   "id": "living-malaysia",
   "metadata": {},
   "source": [
    "Prediction of the model is `0.76990855`"
   ]
  },
  {
   "cell_type": "markdown",
   "id": "elect-relay",
   "metadata": {},
   "source": [
    "## Question - 5\n",
    "\n",
    "Sending build context to Docker daemon  134.7MB\n",
    "\n",
    "Step 1/5 : FROM agrigorev/zoomcamp-cats-dogs-lambda:v2\n",
    " ---> **322fc756f258**\n",
    "\n",
    "Step 2/5 : RUN pip install pillow\n",
    " ---> Using cache\n",
    " ---> 0ea978b125d4\n",
    "\n",
    "Step 3/5 : RUN pip install https://github.com/alexeygrigorev/tflite-aws-lambda/raw/main/tflite/tflite_runtime-2.7.0-cp38-cp38-linux_x86_64.whl\n",
    " ---> Using cache\n",
    " ---> e6f844100e36\n",
    "\n",
    "Step 4/5 : COPY [\"lambda_function.py\", \"./\"]\n",
    " ---> 5163b1d76453\n",
    "\n",
    "Step 5/5 : CMD [\"lambda_function.lambda_handler\"]\n",
    " ---> Running in 3c6289ba5643\n",
    "\n",
    "Removing intermediate container 3c6289ba5643\n",
    " ---> ec7810b4e5e4\n",
    "\n",
    "Successfully built ec7810b4e5e4\n",
    "Successfully tagged mlzoomcamp_test2:latest\n"
   ]
  },
  {
   "cell_type": "markdown",
   "id": "checked-detroit",
   "metadata": {},
   "source": [
    "# Question - 6"
   ]
  },
  {
   "cell_type": "code",
   "execution_count": 21,
   "id": "square-princeton",
   "metadata": {},
   "outputs": [
    {
     "data": {
      "text/plain": [
       "[0.5413472652435303]"
      ]
     },
     "execution_count": 21,
     "metadata": {},
     "output_type": "execute_result"
    }
   ],
   "source": [
    "import requests\n",
    "url = 'http://localhost:8080/2015-03-31/functions/function/invocations'\n",
    "data = {'url':'https://upload.wikimedia.org/wikipedia/commons/1/18/Vombatus_ursinus_-Maria_Island_National_Park.jpg'}\n",
    "\n",
    "resp = requests.post(url, json=data).json()\n",
    "resp"
   ]
  }
 ],
 "metadata": {
  "kernelspec": {
   "display_name": "ds_env",
   "language": "python",
   "name": "ds_env"
  },
  "language_info": {
   "codemirror_mode": {
    "name": "ipython",
    "version": 3
   },
   "file_extension": ".py",
   "mimetype": "text/x-python",
   "name": "python",
   "nbconvert_exporter": "python",
   "pygments_lexer": "ipython3",
   "version": "3.8.10"
  }
 },
 "nbformat": 4,
 "nbformat_minor": 5
}
