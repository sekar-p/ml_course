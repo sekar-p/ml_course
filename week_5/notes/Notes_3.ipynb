{
 "cells": [
  {
   "cell_type": "markdown",
   "metadata": {},
   "source": [
    "# What is Docker?\n",
    "\n",
    "Docker is an open source containerization platform. It enables developers to package applications into containers—standardized executable components combining application source code with the operating system (OS) libraries and dependencies required to run that code in any environment. Containers simplify delivery of distributed applications, and have become increasingly popular as organizations shift to cloud-native development and hybrid multicloud environments.\n",
    "\n",
    "Developers can create containers without Docker, but the platform makes it easier, simpler, and safer to build, deploy and manage containers. Docker is essentially a toolkit that enables developers to build, deploy, run, update, and stop containers using simple commands and work-saving automation through a single API.\n",
    "\n",
    "\n",
    "### Ubuntu \n",
    "- To install Docker run the command below.\n",
    "\n",
    "  - ```\n",
    "    bash\n",
    "    sudo apt-get install docker.io\n",
    "     ```\n",
    "     To run docker without `sudo`, follow [this instruction](https://docs.docker.com/engine/install/linux-postinstall/).\n",
    "  - Once our project was packed in a Docker container, we're able to run our project on any machine.\n",
    "  - First we have to make a Docker image. In Docker image file there are settings and dependecies we have in our project. To find Docker images that you need you can simply search the [Docker](https://hub.docker.com/search?type=image) website.\n",
    "  - Here a Docker file is written we'll explain it below.(There should be no comments in Docker file, So remove the comments if you want to copy it)\n",
    "  - ```\n",
    "    FROM python:3.8.12-slim                                                     # First install the python 3.8, the slim version have less size\n",
    "    RUN pip install pipenv                                                      # Install pipenv library in Docker \n",
    "    WORKDIR /app                                                                # we have created a directory in Docker named app and we're using it as work directory \n",
    "    COPY [\"Pipfile\", \"Pipfile.lock\", \"./\"]                                      # Copy the Pip files into our working derectory \n",
    "    RUN pipenv install --deploy --system                                        # install the pipenv dependecies we had from the project and deploy them \n",
    "    COPY [\"*.py\", \"churn-model.bin\", \"./\"]                                      # Copy any python files and the model we had to the working directory of Docker \n",
    "    EXPOSE 9696                                                                 # We need to expose the 9696 port because we're not able to communicate with Docker outside it\n",
    "    ENTRYPOINT [\"gunicorn\", \"--bind\", \"0.0.0.0:9696\", \"churn_serving:app\"]      # If we run the Docker image, we want our churn app to be running\n",
    "    ```\n",
    "     If we don't put the last line ENTRYPOINT, we will be in a python shell. Note that in Docker we made put in double quotes, This is because of the spaces. We have to ignore   spaces in a command and put the characters in double quotes.(See ENTRYPOINT for example)\n",
    "   - After creating the Dockerfile and writing the settings we want in it, We need to build it with the command below.\n",
    "   - ```\n",
    "      Docker built -t churn-prediction .\n",
    "     ```\n",
    "      With _-t_ command We're specifying the name churn-prediction for this Dockerfile.\n",
    "   - To run it, Simply execute the command below:\n",
    "   - ```\n",
    "      Docker run -it -p 9696:9696 churn-prediction:latest\n",
    "     ```\n",
    "     Here we use the option _-it_ in order to the Docker run from terminal and shows the result. \n",
    "     The _-p_ parameter is used to map the 9696 port of the Docker to 9696 port of our machine.(first 9696 is the Docker container port and the last is port number of our  machine)\n",
    "   - At last you've deployed your prediction app inside a Docker continer. Congratulations\n",
    "\n",
    "\n",
    "### Windows\n",
    "- You should have virtualization enabled system\n",
    "- Install Docker desktop\n",
    "- Enable the WSL engine\n",
    "\n",
    "OR To install the Docker you can just follow the instruction by Andrew Lock in this link: https://andrewlock.net/installing-docker-desktop-for-windows/\n"
   ]
  }
 ],
 "metadata": {
  "kernelspec": {
   "display_name": "ml_course",
   "language": "python",
   "name": "ml_course"
  },
  "language_info": {
   "codemirror_mode": {
    "name": "ipython",
    "version": 3
   },
   "file_extension": ".py",
   "mimetype": "text/x-python",
   "name": "python",
   "nbconvert_exporter": "python",
   "pygments_lexer": "ipython3",
   "version": "3.8.2"
  }
 },
 "nbformat": 4,
 "nbformat_minor": 4
}
