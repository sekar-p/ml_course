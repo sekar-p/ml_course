{
 "cells": [
  {
   "cell_type": "markdown",
   "metadata": {},
   "source": [
    "## Evaluation Metrics for Classification\n",
    "\n",
    "Dataset: https://www.kaggle.com/blastchar/telco-customer-churn\n",
    "\n",
    "Metric - function that compares the predictions with the actual values and outputs a single number that tells how good the predictions are"
   ]
  },
  {
   "cell_type": "markdown",
   "metadata": {},
   "source": [
    "Load the necesary modules"
   ]
  },
  {
   "cell_type": "code",
   "execution_count": 1,
   "metadata": {},
   "outputs": [],
   "source": [
    "import pandas as pd\n",
    "import numpy as np\n",
    "\n",
    "import matplotlib.pyplot as plt\n",
    "%matplotlib inline\n",
    "\n",
    "from sklearn.model_selection import train_test_split\n",
    "from sklearn.feature_extraction import DictVectorizer\n",
    "from sklearn.linear_model import LogisticRegression"
   ]
  },
  {
   "cell_type": "markdown",
   "metadata": {},
   "source": [
    "* Load the Dataset\n",
    "* Replace the _ from string values\n",
    "* Identify the categorical columns\n",
    "* Convert the totalcharges to numerical"
   ]
  },
  {
   "cell_type": "code",
   "execution_count": 2,
   "metadata": {},
   "outputs": [],
   "source": [
    "df = pd.read_csv('data-week-3.csv')\n",
    "\n",
    "df.columns = df.columns.str.lower().str.replace(' ', '_')\n",
    "\n",
    "categorical_columns = list(df.dtypes[df.dtypes == 'object'].index)\n",
    "\n",
    "for c in categorical_columns:\n",
    "    df[c] = df[c].str.lower().str.replace(' ', '_')\n",
    "\n",
    "df.totalcharges = pd.to_numeric(df.totalcharges, errors='coerce')\n",
    "df.totalcharges = df.totalcharges.fillna(0)\n",
    "\n",
    "df.churn = (df.churn == 'yes').astype(int)"
   ]
  },
  {
   "cell_type": "markdown",
   "metadata": {},
   "source": [
    "* Split the data for train and test\n",
    "* drop the target column in train and test set"
   ]
  },
  {
   "cell_type": "code",
   "execution_count": 3,
   "metadata": {},
   "outputs": [],
   "source": [
    "df_full_train, df_test = train_test_split(df, test_size=0.2, random_state=1)\n",
    "df_train, df_val = train_test_split(df_full_train, test_size=0.25, random_state=1)\n",
    "\n",
    "df_train = df_train.reset_index(drop=True)\n",
    "df_val = df_val.reset_index(drop=True)\n",
    "df_test = df_test.reset_index(drop=True)\n",
    "\n",
    "y_train = df_train.churn.values\n",
    "y_val = df_val.churn.values\n",
    "y_test = df_test.churn.values\n",
    "\n",
    "del df_train['churn']\n",
    "del df_val['churn']\n",
    "del df_test['churn']"
   ]
  },
  {
   "cell_type": "markdown",
   "metadata": {},
   "source": [
    "* Classified the data set"
   ]
  },
  {
   "cell_type": "code",
   "execution_count": 4,
   "metadata": {},
   "outputs": [],
   "source": [
    "numerical = ['tenure', 'monthlycharges', 'totalcharges']\n",
    "\n",
    "categorical = [\n",
    "    'gender',\n",
    "    'seniorcitizen',\n",
    "    'partner',\n",
    "    'dependents',\n",
    "    'phoneservice',\n",
    "    'multiplelines',\n",
    "    'internetservice',\n",
    "    'onlinesecurity',\n",
    "    'onlinebackup',\n",
    "    'deviceprotection',\n",
    "    'techsupport',\n",
    "    'streamingtv',\n",
    "    'streamingmovies',\n",
    "    'contract',\n",
    "    'paperlessbilling',\n",
    "    'paymentmethod',\n",
    "]"
   ]
  },
  {
   "cell_type": "markdown",
   "metadata": {},
   "source": [
    "* Create DictVectorizer\n",
    "* Train the converted dict values\n",
    "* Fit the model into LogisticRegression"
   ]
  },
  {
   "cell_type": "code",
   "execution_count": 5,
   "metadata": {},
   "outputs": [
    {
     "data": {
      "text/plain": [
       "LogisticRegression()"
      ]
     },
     "execution_count": 5,
     "metadata": {},
     "output_type": "execute_result"
    }
   ],
   "source": [
    "dv = DictVectorizer(sparse=False)\n",
    "\n",
    "train_dict = df_train[categorical + numerical].to_dict(orient='records')\n",
    "X_train = dv.fit_transform(train_dict)\n",
    "\n",
    "model = LogisticRegression()\n",
    "model.fit(X_train, y_train)"
   ]
  },
  {
   "cell_type": "markdown",
   "metadata": {},
   "source": [
    "Predict the value from generated model"
   ]
  },
  {
   "cell_type": "code",
   "execution_count": 6,
   "metadata": {},
   "outputs": [
    {
     "data": {
      "text/plain": [
       "0.8034066713981547"
      ]
     },
     "execution_count": 6,
     "metadata": {},
     "output_type": "execute_result"
    }
   ],
   "source": [
    "val_dict = df_val[categorical + numerical].to_dict(orient='records')\n",
    "X_val = dv.transform(val_dict)\n",
    "\n",
    "y_pred = model.predict_proba(X_val)[:, 1]\n",
    "churn_decision = (y_pred >= 0.5)\n",
    "(y_val == churn_decision).mean()"
   ]
  },
  {
   "cell_type": "markdown",
   "metadata": {},
   "source": [
    "# Accuracy and dummy model\n",
    "\n",
    "* Evaluate the model on different thresholds\n",
    "* Check the accuracy of dummy baselines\n",
    "\n",
    "\n",
    "# What is accuracy?\n",
    "Accuracy tells the how many correct predictions were made\n",
    "\n",
    "Accuracy can be calculated using below formula\n",
    "\n",
    "$Accuracy = \\cfrac{TP + TN }{TP + TN + FP + FN}$"
   ]
  },
  {
   "cell_type": "code",
   "execution_count": 7,
   "metadata": {},
   "outputs": [
    {
     "data": {
      "text/plain": [
       "1409"
      ]
     },
     "execution_count": 7,
     "metadata": {},
     "output_type": "execute_result"
    }
   ],
   "source": [
    "len(y_val)"
   ]
  },
  {
   "cell_type": "code",
   "execution_count": 8,
   "metadata": {},
   "outputs": [
    {
     "data": {
      "text/plain": [
       "1132"
      ]
     },
     "execution_count": 8,
     "metadata": {},
     "output_type": "execute_result"
    }
   ],
   "source": [
    "(y_val == churn_decision).sum()"
   ]
  },
  {
   "cell_type": "markdown",
   "metadata": {},
   "source": [
    "# What are thresholds?\n",
    "Recall that in our model, we made it such that if y_pred >= 0.5, it would be counted as 1. However, that probability can be adjusted such that we can make stricter predictions or more lenient predictions.\n",
    "\n",
    "For example, instead of 0.5, we can make it such that anything from 0.3 onwards would be counted as 1, or anything from 0.74 would be counted as 1."
   ]
  },
  {
   "cell_type": "code",
   "execution_count": 9,
   "metadata": {},
   "outputs": [
    {
     "data": {
      "text/plain": [
       "array([0.  , 0.05, 0.1 , 0.15, 0.2 , 0.25, 0.3 , 0.35, 0.4 , 0.45, 0.5 ,\n",
       "       0.55, 0.6 , 0.65, 0.7 , 0.75, 0.8 , 0.85, 0.9 , 0.95, 1.  ])"
      ]
     },
     "execution_count": 9,
     "metadata": {},
     "output_type": "execute_result"
    }
   ],
   "source": [
    "thresholds = np.linspace(0, 1, 21)\n",
    "thresholds"
   ]
  },
  {
   "cell_type": "code",
   "execution_count": 10,
   "metadata": {},
   "outputs": [],
   "source": [
    "from sklearn.metrics import accuracy_score"
   ]
  },
  {
   "cell_type": "code",
   "execution_count": 11,
   "metadata": {},
   "outputs": [],
   "source": [
    "scores = []\n",
    "for t in thresholds:\n",
    "    score = accuracy_score(y_val, y_pred >= t)\n",
    "    scores.append(score)"
   ]
  },
  {
   "cell_type": "code",
   "execution_count": 12,
   "metadata": {},
   "outputs": [
    {
     "data": {
      "text/plain": [
       "[<matplotlib.lines.Line2D at 0x12b6b15bbb0>]"
      ]
     },
     "execution_count": 12,
     "metadata": {},
     "output_type": "execute_result"
    },
    {
     "data": {
      "image/png": "[encoded data removed]",
      "text/plain": [
       "<Figure size 432x288 with 1 Axes>"
      ]
     },
     "metadata": {
      "needs_background": "light"
     },
     "output_type": "display_data"
    }
   ],
   "source": [
    "plt.plot(thresholds, scores)"
   ]
  },
  {
   "cell_type": "markdown",
   "metadata": {},
   "source": [
    "\n",
    "\n",
    "\n",
    "\n",
    "Afterthoughts of accuracy:\n",
    "\n",
    "Accuracy does not tell us how good a model is if there is a class imbalance. Only with balanced data (such as data that is 50/50, or a bit more varied than that) would accuracy be a good metric to use. We have to look at other evaluation metrics"
   ]
  },
  {
   "cell_type": "code",
   "execution_count": 13,
   "metadata": {},
   "outputs": [],
   "source": [
    "from collections import Counter"
   ]
  },
  {
   "cell_type": "code",
   "execution_count": 14,
   "metadata": {},
   "outputs": [
    {
     "data": {
      "text/plain": [
       "Counter({False: 1409})"
      ]
     },
     "execution_count": 14,
     "metadata": {},
     "output_type": "execute_result"
    }
   ],
   "source": [
    "Counter(y_pred >= 1.0)"
   ]
  },
  {
   "cell_type": "markdown",
   "metadata": {},
   "source": [
    "# Confusion table\n",
    "\n",
    "\n",
    "|   | Negative  | Positive   |\n",
    "| ------------ | ------------ | ------------ |\n",
    "|  Negative | True Negative (TN)  | False Positive (FP)  |\n",
    "|  Positive | False Negative (FN)  |  True Positive (TP) |\n",
    "\n",
    "\n",
    "Different types of errors and correct decisions\n",
    "* Arranging them in a table\n",
    "* Basics of a confusion table/matrix (as some people would call it):\n",
    "\n",
    "There will be 2 possible scenarios when there is a prediction of no churn:\n",
    "\n",
    "* The customer indeed didn't churn - also known as a true negative\n",
    "* The customer actually churned - also knows as a false negative\n",
    "\n",
    "The same thing will happen when there is a prediction of churn:\n",
    "\n",
    "* The customer indeed churned - also known as a true positive\n",
    "* The customer actually didn't churn - also known as a false positive\n",
    "These four scenarios form a confusion table/matrix."
   ]
  },
  {
   "cell_type": "code",
   "execution_count": 15,
   "metadata": {},
   "outputs": [],
   "source": [
    "actual_positive = (y_val == 1)\n",
    "actual_negative = (y_val == 0)"
   ]
  },
  {
   "cell_type": "code",
   "execution_count": 16,
   "metadata": {},
   "outputs": [],
   "source": [
    "pred_positive = (y_pred >= 0.5)\n",
    "pred_negative = (y_pred < 0.5)"
   ]
  },
  {
   "cell_type": "code",
   "execution_count": 17,
   "metadata": {},
   "outputs": [],
   "source": [
    "tn = (pred_negative & actual_negative).sum()\n",
    "tp = (pred_positive & actual_positive).sum()"
   ]
  },
  {
   "cell_type": "code",
   "execution_count": 18,
   "metadata": {},
   "outputs": [],
   "source": [
    "fn = (pred_negative & actual_positive).sum()\n",
    "fp = (pred_positive & actual_negative).sum()"
   ]
  },
  {
   "cell_type": "code",
   "execution_count": 19,
   "metadata": {},
   "outputs": [
    {
     "data": {
      "text/plain": [
       "array([[922, 101],\n",
       "       [176, 210]])"
      ]
     },
     "execution_count": 19,
     "metadata": {},
     "output_type": "execute_result"
    }
   ],
   "source": [
    "confusion_matrix = np.array([[tn, fp],\n",
    "                           [fn,tp]])\n",
    "confusion_matrix"
   ]
  },
  {
   "cell_type": "code",
   "execution_count": 20,
   "metadata": {},
   "outputs": [
    {
     "data": {
      "text/plain": [
       "array([[0.65, 0.07],\n",
       "       [0.12, 0.15]])"
      ]
     },
     "execution_count": 20,
     "metadata": {},
     "output_type": "execute_result"
    }
   ],
   "source": [
    "(confusion_matrix / confusion_matrix.sum()).round(2)"
   ]
  },
  {
   "cell_type": "markdown",
   "metadata": {},
   "source": [
    "# Precision, Recall, TPR and FPR\n",
    "\n",
    "$P(recision) = \\cfrac{TP}{TP + FP}$\n",
    "\n",
    "$R(ecall) = \\cfrac{TP}{TP + FN}$\n",
    "\n",
    "$TPR = \\cfrac{TP}{TP + FP}$\n",
    "\n",
    "$FPR = \\cfrac{FP}{FP + TN}$"
   ]
  },
  {
   "cell_type": "code",
   "execution_count": 21,
   "metadata": {},
   "outputs": [
    {
     "data": {
      "text/plain": [
       "0.6752411575562701"
      ]
     },
     "execution_count": 21,
     "metadata": {},
     "output_type": "execute_result"
    }
   ],
   "source": [
    "p = tp / (tp+fp)\n",
    "p"
   ]
  },
  {
   "cell_type": "code",
   "execution_count": 22,
   "metadata": {},
   "outputs": [
    {
     "data": {
      "text/plain": [
       "0.5440414507772021"
      ]
     },
     "execution_count": 22,
     "metadata": {},
     "output_type": "execute_result"
    }
   ],
   "source": [
    "r = tp / (tp + fn)\n",
    "r"
   ]
  },
  {
   "cell_type": "code",
   "execution_count": 23,
   "metadata": {},
   "outputs": [
    {
     "data": {
      "text/plain": [
       "0.5440414507772021"
      ]
     },
     "execution_count": 23,
     "metadata": {},
     "output_type": "execute_result"
    }
   ],
   "source": [
    "tpr = tp / (tp + fn)\n",
    "tpr"
   ]
  },
  {
   "cell_type": "code",
   "execution_count": 24,
   "metadata": {},
   "outputs": [
    {
     "data": {
      "text/plain": [
       "0.09872922776148582"
      ]
     },
     "execution_count": 24,
     "metadata": {},
     "output_type": "execute_result"
    }
   ],
   "source": [
    "fpr = fp / (fp + tn)\n",
    "fpr"
   ]
  },
  {
   "cell_type": "markdown",
   "metadata": {},
   "source": [
    "# ROC curve\n",
    "\n",
    "[![](https://ars.els-cdn.com/content/image/3-s2.0-B9780124115118000062-f06-03-9780124115118.jpg)](https://ars.els-cdn.com/content/image/3-s2.0-B9780124115118000062-f06-03-9780124115118.jpg)\n",
    "\n",
    "A receiver operating characteristic (ROC) curve is taken from a coverage curve by normalizing the axes to [0, 1]. But generally, coverage curves can be rectangular whereas ROC curves always occupy the unit square. Moreover, while in a coverage plot the area under the coverage curve gives the absolute number of correctly ranked pairs; in an ROC plot the area under the ROC curve (AUC) is the ranking accuracy (Flach, 2012). One tool that enhances the classifier performance assessment/evaluation in multiple points of operation, comparison, and selection is the ROC analysis. ROC was the methodology used for detecting radar signals during World War II and turned out to be profitable for the classifier evaluation\n",
    "\n",
    "[source: https://www.sciencedirect.com/topics/computer-science/true-positive-rate]"
   ]
  },
  {
   "cell_type": "code",
   "execution_count": 25,
   "metadata": {},
   "outputs": [],
   "source": [
    "thresholds  = np.linspace(0, 1, 101)\n",
    "scores = []\n",
    "for t in thresholds:\n",
    "    actual_positive = (y_val == 1)\n",
    "    actual_negative = (y_val == 0)\n",
    "    \n",
    "    pred_positive = (y_pred >= t)\n",
    "    pred_negative = (y_pred < t)\n",
    "    \n",
    "    tp = (pred_positive & actual_positive).sum()\n",
    "    tn = (pred_negative & actual_negative).sum()\n",
    "    fp = (pred_positive & actual_negative).sum()\n",
    "    fn = (pred_negative & actual_positive).sum()\n",
    "    scores.append((t, tp,tn,fp,fn))"
   ]
  },
  {
   "cell_type": "code",
   "execution_count": 26,
   "metadata": {},
   "outputs": [
    {
     "data": {
      "text/plain": [
       "[(0.0, 386, 0, 1023, 0), (0.01, 385, 110, 913, 1), (0.02, 384, 193, 830, 2)]"
      ]
     },
     "execution_count": 26,
     "metadata": {},
     "output_type": "execute_result"
    }
   ],
   "source": [
    "scores[:3]"
   ]
  },
  {
   "cell_type": "code",
   "execution_count": 27,
   "metadata": {},
   "outputs": [],
   "source": [
    "columns = ['threshold','tp','tn','fp','fn']\n",
    "df_scores = pd.DataFrame(scores, columns=columns)"
   ]
  },
  {
   "cell_type": "code",
   "execution_count": 28,
   "metadata": {},
   "outputs": [
    {
     "data": {
      "text/html": [
       "<div>\n",
       "<style scoped>\n",
       "    .dataframe tbody tr th:only-of-type {\n",
       "        vertical-align: middle;\n",
       "    }\n",
       "\n",
       "    .dataframe tbody tr th {\n",
       "        vertical-align: top;\n",
       "    }\n",
       "\n",
       "    .dataframe thead th {\n",
       "        text-align: right;\n",
       "    }\n",
       "</style>\n",
       "<table border=\"1\" class=\"dataframe\">\n",
       "  <thead>\n",
       "    <tr style=\"text-align: right;\">\n",
       "      <th></th>\n",
       "      <th>threshold</th>\n",
       "      <th>tp</th>\n",
       "      <th>tn</th>\n",
       "      <th>fp</th>\n",
       "      <th>fn</th>\n",
       "    </tr>\n",
       "  </thead>\n",
       "  <tbody>\n",
       "    <tr>\n",
       "      <th>0</th>\n",
       "      <td>0.00</td>\n",
       "      <td>386</td>\n",
       "      <td>0</td>\n",
       "      <td>1023</td>\n",
       "      <td>0</td>\n",
       "    </tr>\n",
       "    <tr>\n",
       "      <th>1</th>\n",
       "      <td>0.01</td>\n",
       "      <td>385</td>\n",
       "      <td>110</td>\n",
       "      <td>913</td>\n",
       "      <td>1</td>\n",
       "    </tr>\n",
       "    <tr>\n",
       "      <th>2</th>\n",
       "      <td>0.02</td>\n",
       "      <td>384</td>\n",
       "      <td>193</td>\n",
       "      <td>830</td>\n",
       "      <td>2</td>\n",
       "    </tr>\n",
       "    <tr>\n",
       "      <th>3</th>\n",
       "      <td>0.03</td>\n",
       "      <td>383</td>\n",
       "      <td>257</td>\n",
       "      <td>766</td>\n",
       "      <td>3</td>\n",
       "    </tr>\n",
       "    <tr>\n",
       "      <th>4</th>\n",
       "      <td>0.04</td>\n",
       "      <td>381</td>\n",
       "      <td>308</td>\n",
       "      <td>715</td>\n",
       "      <td>5</td>\n",
       "    </tr>\n",
       "    <tr>\n",
       "      <th>...</th>\n",
       "      <td>...</td>\n",
       "      <td>...</td>\n",
       "      <td>...</td>\n",
       "      <td>...</td>\n",
       "      <td>...</td>\n",
       "    </tr>\n",
       "    <tr>\n",
       "      <th>96</th>\n",
       "      <td>0.96</td>\n",
       "      <td>0</td>\n",
       "      <td>1023</td>\n",
       "      <td>0</td>\n",
       "      <td>386</td>\n",
       "    </tr>\n",
       "    <tr>\n",
       "      <th>97</th>\n",
       "      <td>0.97</td>\n",
       "      <td>0</td>\n",
       "      <td>1023</td>\n",
       "      <td>0</td>\n",
       "      <td>386</td>\n",
       "    </tr>\n",
       "    <tr>\n",
       "      <th>98</th>\n",
       "      <td>0.98</td>\n",
       "      <td>0</td>\n",
       "      <td>1023</td>\n",
       "      <td>0</td>\n",
       "      <td>386</td>\n",
       "    </tr>\n",
       "    <tr>\n",
       "      <th>99</th>\n",
       "      <td>0.99</td>\n",
       "      <td>0</td>\n",
       "      <td>1023</td>\n",
       "      <td>0</td>\n",
       "      <td>386</td>\n",
       "    </tr>\n",
       "    <tr>\n",
       "      <th>100</th>\n",
       "      <td>1.00</td>\n",
       "      <td>0</td>\n",
       "      <td>1023</td>\n",
       "      <td>0</td>\n",
       "      <td>386</td>\n",
       "    </tr>\n",
       "  </tbody>\n",
       "</table>\n",
       "<p>101 rows × 5 columns</p>\n",
       "</div>"
      ],
      "text/plain": [
       "     threshold   tp    tn    fp   fn\n",
       "0         0.00  386     0  1023    0\n",
       "1         0.01  385   110   913    1\n",
       "2         0.02  384   193   830    2\n",
       "3         0.03  383   257   766    3\n",
       "4         0.04  381   308   715    5\n",
       "..         ...  ...   ...   ...  ...\n",
       "96        0.96    0  1023     0  386\n",
       "97        0.97    0  1023     0  386\n",
       "98        0.98    0  1023     0  386\n",
       "99        0.99    0  1023     0  386\n",
       "100       1.00    0  1023     0  386\n",
       "\n",
       "[101 rows x 5 columns]"
      ]
     },
     "execution_count": 28,
     "metadata": {},
     "output_type": "execute_result"
    }
   ],
   "source": [
    "df_scores"
   ]
  },
  {
   "cell_type": "code",
   "execution_count": 29,
   "metadata": {},
   "outputs": [],
   "source": [
    "df_scores['tpr'] = df_scores.tp / (df_scores.tp + df_scores.fn)\n",
    "df_scores['fpr'] = df_scores.fp / (df_scores.fp + df_scores.tn)"
   ]
  },
  {
   "cell_type": "code",
   "execution_count": 30,
   "metadata": {},
   "outputs": [
    {
     "data": {
      "text/html": [
       "<div>\n",
       "<style scoped>\n",
       "    .dataframe tbody tr th:only-of-type {\n",
       "        vertical-align: middle;\n",
       "    }\n",
       "\n",
       "    .dataframe tbody tr th {\n",
       "        vertical-align: top;\n",
       "    }\n",
       "\n",
       "    .dataframe thead th {\n",
       "        text-align: right;\n",
       "    }\n",
       "</style>\n",
       "<table border=\"1\" class=\"dataframe\">\n",
       "  <thead>\n",
       "    <tr style=\"text-align: right;\">\n",
       "      <th></th>\n",
       "      <th>threshold</th>\n",
       "      <th>tp</th>\n",
       "      <th>tn</th>\n",
       "      <th>fp</th>\n",
       "      <th>fn</th>\n",
       "      <th>tpr</th>\n",
       "      <th>fpr</th>\n",
       "    </tr>\n",
       "  </thead>\n",
       "  <tbody>\n",
       "    <tr>\n",
       "      <th>0</th>\n",
       "      <td>0.0</td>\n",
       "      <td>386</td>\n",
       "      <td>0</td>\n",
       "      <td>1023</td>\n",
       "      <td>0</td>\n",
       "      <td>1.000000</td>\n",
       "      <td>1.000000</td>\n",
       "    </tr>\n",
       "    <tr>\n",
       "      <th>10</th>\n",
       "      <td>0.1</td>\n",
       "      <td>366</td>\n",
       "      <td>467</td>\n",
       "      <td>556</td>\n",
       "      <td>20</td>\n",
       "      <td>0.948187</td>\n",
       "      <td>0.543500</td>\n",
       "    </tr>\n",
       "    <tr>\n",
       "      <th>20</th>\n",
       "      <td>0.2</td>\n",
       "      <td>333</td>\n",
       "      <td>667</td>\n",
       "      <td>356</td>\n",
       "      <td>53</td>\n",
       "      <td>0.862694</td>\n",
       "      <td>0.347996</td>\n",
       "    </tr>\n",
       "    <tr>\n",
       "      <th>30</th>\n",
       "      <td>0.3</td>\n",
       "      <td>284</td>\n",
       "      <td>787</td>\n",
       "      <td>236</td>\n",
       "      <td>102</td>\n",
       "      <td>0.735751</td>\n",
       "      <td>0.230694</td>\n",
       "    </tr>\n",
       "    <tr>\n",
       "      <th>40</th>\n",
       "      <td>0.4</td>\n",
       "      <td>249</td>\n",
       "      <td>857</td>\n",
       "      <td>166</td>\n",
       "      <td>137</td>\n",
       "      <td>0.645078</td>\n",
       "      <td>0.162268</td>\n",
       "    </tr>\n",
       "    <tr>\n",
       "      <th>50</th>\n",
       "      <td>0.5</td>\n",
       "      <td>210</td>\n",
       "      <td>922</td>\n",
       "      <td>101</td>\n",
       "      <td>176</td>\n",
       "      <td>0.544041</td>\n",
       "      <td>0.098729</td>\n",
       "    </tr>\n",
       "    <tr>\n",
       "      <th>60</th>\n",
       "      <td>0.6</td>\n",
       "      <td>150</td>\n",
       "      <td>970</td>\n",
       "      <td>53</td>\n",
       "      <td>236</td>\n",
       "      <td>0.388601</td>\n",
       "      <td>0.051808</td>\n",
       "    </tr>\n",
       "    <tr>\n",
       "      <th>70</th>\n",
       "      <td>0.7</td>\n",
       "      <td>76</td>\n",
       "      <td>1003</td>\n",
       "      <td>20</td>\n",
       "      <td>310</td>\n",
       "      <td>0.196891</td>\n",
       "      <td>0.019550</td>\n",
       "    </tr>\n",
       "    <tr>\n",
       "      <th>80</th>\n",
       "      <td>0.8</td>\n",
       "      <td>13</td>\n",
       "      <td>1022</td>\n",
       "      <td>1</td>\n",
       "      <td>373</td>\n",
       "      <td>0.033679</td>\n",
       "      <td>0.000978</td>\n",
       "    </tr>\n",
       "    <tr>\n",
       "      <th>90</th>\n",
       "      <td>0.9</td>\n",
       "      <td>0</td>\n",
       "      <td>1023</td>\n",
       "      <td>0</td>\n",
       "      <td>386</td>\n",
       "      <td>0.000000</td>\n",
       "      <td>0.000000</td>\n",
       "    </tr>\n",
       "    <tr>\n",
       "      <th>100</th>\n",
       "      <td>1.0</td>\n",
       "      <td>0</td>\n",
       "      <td>1023</td>\n",
       "      <td>0</td>\n",
       "      <td>386</td>\n",
       "      <td>0.000000</td>\n",
       "      <td>0.000000</td>\n",
       "    </tr>\n",
       "  </tbody>\n",
       "</table>\n",
       "</div>"
      ],
      "text/plain": [
       "     threshold   tp    tn    fp   fn       tpr       fpr\n",
       "0          0.0  386     0  1023    0  1.000000  1.000000\n",
       "10         0.1  366   467   556   20  0.948187  0.543500\n",
       "20         0.2  333   667   356   53  0.862694  0.347996\n",
       "30         0.3  284   787   236  102  0.735751  0.230694\n",
       "40         0.4  249   857   166  137  0.645078  0.162268\n",
       "50         0.5  210   922   101  176  0.544041  0.098729\n",
       "60         0.6  150   970    53  236  0.388601  0.051808\n",
       "70         0.7   76  1003    20  310  0.196891  0.019550\n",
       "80         0.8   13  1022     1  373  0.033679  0.000978\n",
       "90         0.9    0  1023     0  386  0.000000  0.000000\n",
       "100        1.0    0  1023     0  386  0.000000  0.000000"
      ]
     },
     "execution_count": 30,
     "metadata": {},
     "output_type": "execute_result"
    }
   ],
   "source": [
    "df_scores[::10]"
   ]
  },
  {
   "cell_type": "code",
   "execution_count": 31,
   "metadata": {},
   "outputs": [
    {
     "data": {
      "text/plain": [
       "<matplotlib.legend.Legend at 0x12b6b696fa0>"
      ]
     },
     "execution_count": 31,
     "metadata": {},
     "output_type": "execute_result"
    },
    {
     "data": {
      "image/png": "[encoded data removed]",
      "text/plain": [
       "<Figure size 432x288 with 1 Axes>"
      ]
     },
     "metadata": {
      "needs_background": "light"
     },
     "output_type": "display_data"
    }
   ],
   "source": [
    "plt.plot(df_scores.threshold, df_scores['tpr'], label='TPR')\n",
    "plt.plot(df_scores.threshold, df_scores['fpr'], label='FPR')\n",
    "plt.legend()"
   ]
  },
  {
   "cell_type": "markdown",
   "metadata": {},
   "source": [
    "# Random Model\n",
    "\n",
    "Predict the value based on randomly selected values"
   ]
  },
  {
   "cell_type": "code",
   "execution_count": 32,
   "metadata": {},
   "outputs": [],
   "source": [
    "np.random.seed(1)\n",
    "y_rand = np.random.uniform(0, 1, size=len(y_val))"
   ]
  },
  {
   "cell_type": "code",
   "execution_count": 33,
   "metadata": {},
   "outputs": [
    {
     "data": {
      "text/plain": [
       "array([0.417, 0.72 , 0.   , ..., 0.774, 0.334, 0.089])"
      ]
     },
     "execution_count": 33,
     "metadata": {},
     "output_type": "execute_result"
    }
   ],
   "source": [
    "y_rand.round(3)"
   ]
  },
  {
   "cell_type": "code",
   "execution_count": 34,
   "metadata": {},
   "outputs": [],
   "source": [
    "def tpr_fpr_df(y_val, y_pred):\n",
    "    thresholds  = np.linspace(0, 1, 101)\n",
    "    scores = []\n",
    "    for t in thresholds:\n",
    "        actual_positive = (y_val == 1)\n",
    "        actual_negative = (y_val == 0)\n",
    "\n",
    "        pred_positive = (y_pred >= t)\n",
    "        pred_negative = (y_pred < t)\n",
    "\n",
    "        tp = (pred_positive & actual_positive).sum()\n",
    "        tn = (pred_negative & actual_negative).sum()\n",
    "        fp = (pred_positive & actual_negative).sum()\n",
    "        fn = (pred_negative & actual_positive).sum()\n",
    "        scores.append((t, tp,tn,fp,fn))\n",
    "    columns = ['threshold','tp','tn','fp','fn']\n",
    "    df_scores = pd.DataFrame(scores, columns=columns)\n",
    "    df_scores['tpr'] = df_scores.tp / (df_scores.tp + df_scores.fn)\n",
    "    df_scores['fpr'] = df_scores.fp / (df_scores.fp + df_scores.tn)\n",
    "    return df_scores"
   ]
  },
  {
   "cell_type": "code",
   "execution_count": 35,
   "metadata": {},
   "outputs": [],
   "source": [
    "df_rand = tpr_fpr_df(y_val, y_rand)"
   ]
  },
  {
   "cell_type": "code",
   "execution_count": 36,
   "metadata": {},
   "outputs": [
    {
     "data": {
      "text/html": [
       "<div>\n",
       "<style scoped>\n",
       "    .dataframe tbody tr th:only-of-type {\n",
       "        vertical-align: middle;\n",
       "    }\n",
       "\n",
       "    .dataframe tbody tr th {\n",
       "        vertical-align: top;\n",
       "    }\n",
       "\n",
       "    .dataframe thead th {\n",
       "        text-align: right;\n",
       "    }\n",
       "</style>\n",
       "<table border=\"1\" class=\"dataframe\">\n",
       "  <thead>\n",
       "    <tr style=\"text-align: right;\">\n",
       "      <th></th>\n",
       "      <th>threshold</th>\n",
       "      <th>tp</th>\n",
       "      <th>tn</th>\n",
       "      <th>fp</th>\n",
       "      <th>fn</th>\n",
       "      <th>tpr</th>\n",
       "      <th>fpr</th>\n",
       "    </tr>\n",
       "  </thead>\n",
       "  <tbody>\n",
       "    <tr>\n",
       "      <th>0</th>\n",
       "      <td>0.0</td>\n",
       "      <td>386</td>\n",
       "      <td>0</td>\n",
       "      <td>1023</td>\n",
       "      <td>0</td>\n",
       "      <td>1.000000</td>\n",
       "      <td>1.000000</td>\n",
       "    </tr>\n",
       "    <tr>\n",
       "      <th>10</th>\n",
       "      <td>0.1</td>\n",
       "      <td>347</td>\n",
       "      <td>100</td>\n",
       "      <td>923</td>\n",
       "      <td>39</td>\n",
       "      <td>0.898964</td>\n",
       "      <td>0.902248</td>\n",
       "    </tr>\n",
       "    <tr>\n",
       "      <th>20</th>\n",
       "      <td>0.2</td>\n",
       "      <td>307</td>\n",
       "      <td>201</td>\n",
       "      <td>822</td>\n",
       "      <td>79</td>\n",
       "      <td>0.795337</td>\n",
       "      <td>0.803519</td>\n",
       "    </tr>\n",
       "    <tr>\n",
       "      <th>30</th>\n",
       "      <td>0.3</td>\n",
       "      <td>276</td>\n",
       "      <td>299</td>\n",
       "      <td>724</td>\n",
       "      <td>110</td>\n",
       "      <td>0.715026</td>\n",
       "      <td>0.707722</td>\n",
       "    </tr>\n",
       "    <tr>\n",
       "      <th>40</th>\n",
       "      <td>0.4</td>\n",
       "      <td>237</td>\n",
       "      <td>399</td>\n",
       "      <td>624</td>\n",
       "      <td>149</td>\n",
       "      <td>0.613990</td>\n",
       "      <td>0.609971</td>\n",
       "    </tr>\n",
       "    <tr>\n",
       "      <th>50</th>\n",
       "      <td>0.5</td>\n",
       "      <td>202</td>\n",
       "      <td>505</td>\n",
       "      <td>518</td>\n",
       "      <td>184</td>\n",
       "      <td>0.523316</td>\n",
       "      <td>0.506354</td>\n",
       "    </tr>\n",
       "    <tr>\n",
       "      <th>60</th>\n",
       "      <td>0.6</td>\n",
       "      <td>161</td>\n",
       "      <td>614</td>\n",
       "      <td>409</td>\n",
       "      <td>225</td>\n",
       "      <td>0.417098</td>\n",
       "      <td>0.399804</td>\n",
       "    </tr>\n",
       "    <tr>\n",
       "      <th>70</th>\n",
       "      <td>0.7</td>\n",
       "      <td>121</td>\n",
       "      <td>721</td>\n",
       "      <td>302</td>\n",
       "      <td>265</td>\n",
       "      <td>0.313472</td>\n",
       "      <td>0.295210</td>\n",
       "    </tr>\n",
       "    <tr>\n",
       "      <th>80</th>\n",
       "      <td>0.8</td>\n",
       "      <td>78</td>\n",
       "      <td>817</td>\n",
       "      <td>206</td>\n",
       "      <td>308</td>\n",
       "      <td>0.202073</td>\n",
       "      <td>0.201369</td>\n",
       "    </tr>\n",
       "    <tr>\n",
       "      <th>90</th>\n",
       "      <td>0.9</td>\n",
       "      <td>40</td>\n",
       "      <td>922</td>\n",
       "      <td>101</td>\n",
       "      <td>346</td>\n",
       "      <td>0.103627</td>\n",
       "      <td>0.098729</td>\n",
       "    </tr>\n",
       "    <tr>\n",
       "      <th>100</th>\n",
       "      <td>1.0</td>\n",
       "      <td>0</td>\n",
       "      <td>1023</td>\n",
       "      <td>0</td>\n",
       "      <td>386</td>\n",
       "      <td>0.000000</td>\n",
       "      <td>0.000000</td>\n",
       "    </tr>\n",
       "  </tbody>\n",
       "</table>\n",
       "</div>"
      ],
      "text/plain": [
       "     threshold   tp    tn    fp   fn       tpr       fpr\n",
       "0          0.0  386     0  1023    0  1.000000  1.000000\n",
       "10         0.1  347   100   923   39  0.898964  0.902248\n",
       "20         0.2  307   201   822   79  0.795337  0.803519\n",
       "30         0.3  276   299   724  110  0.715026  0.707722\n",
       "40         0.4  237   399   624  149  0.613990  0.609971\n",
       "50         0.5  202   505   518  184  0.523316  0.506354\n",
       "60         0.6  161   614   409  225  0.417098  0.399804\n",
       "70         0.7  121   721   302  265  0.313472  0.295210\n",
       "80         0.8   78   817   206  308  0.202073  0.201369\n",
       "90         0.9   40   922   101  346  0.103627  0.098729\n",
       "100        1.0    0  1023     0  386  0.000000  0.000000"
      ]
     },
     "execution_count": 36,
     "metadata": {},
     "output_type": "execute_result"
    }
   ],
   "source": [
    "df_rand[::10]"
   ]
  },
  {
   "cell_type": "code",
   "execution_count": 37,
   "metadata": {},
   "outputs": [
    {
     "data": {
      "text/plain": [
       "<matplotlib.legend.Legend at 0x12b6b72f2e0>"
      ]
     },
     "execution_count": 37,
     "metadata": {},
     "output_type": "execute_result"
    },
    {
     "data": {
      "image/png": "[encoded data removed]",
      "text/plain": [
       "<Figure size 432x288 with 1 Axes>"
      ]
     },
     "metadata": {
      "needs_background": "light"
     },
     "output_type": "display_data"
    }
   ],
   "source": [
    "plt.plot(df_rand.threshold, df_rand['tpr'], label='TPR')\n",
    "plt.plot(df_rand.threshold, df_rand['fpr'], label='FPR')\n",
    "plt.legend()"
   ]
  },
  {
   "cell_type": "markdown",
   "metadata": {},
   "source": [
    "# Ideal Model\n",
    "\n",
    "Use the actual values from the training set and make the predictions"
   ]
  },
  {
   "cell_type": "code",
   "execution_count": 38,
   "metadata": {},
   "outputs": [],
   "source": [
    "num_neg = (y_val == 0).sum()\n",
    "num_pos = (y_val == 1).sum()"
   ]
  },
  {
   "cell_type": "code",
   "execution_count": 39,
   "metadata": {},
   "outputs": [
    {
     "data": {
      "text/plain": [
       "array([0, 0, 0, ..., 1, 1, 1])"
      ]
     },
     "execution_count": 39,
     "metadata": {},
     "output_type": "execute_result"
    }
   ],
   "source": [
    "y_ideal = np.repeat([0, 1], [num_neg, num_pos])\n",
    "y_ideal"
   ]
  },
  {
   "cell_type": "code",
   "execution_count": 40,
   "metadata": {},
   "outputs": [
    {
     "data": {
      "text/plain": [
       "array([0.00000000e+00, 7.10227273e-04, 1.42045455e-03, ...,\n",
       "       9.98579545e-01, 9.99289773e-01, 1.00000000e+00])"
      ]
     },
     "execution_count": 40,
     "metadata": {},
     "output_type": "execute_result"
    }
   ],
   "source": [
    "y_ideal_pred = np.linspace(0, 1, len(y_val))\n",
    "y_ideal_pred"
   ]
  },
  {
   "cell_type": "code",
   "execution_count": 41,
   "metadata": {},
   "outputs": [
    {
     "data": {
      "text/plain": [
       "<matplotlib.legend.Legend at 0x12b6b798a30>"
      ]
     },
     "execution_count": 41,
     "metadata": {},
     "output_type": "execute_result"
    },
    {
     "data": {
      "image/png": "[encoded data removed]",
      "text/plain": [
       "<Figure size 432x288 with 1 Axes>"
      ]
     },
     "metadata": {
      "needs_background": "light"
     },
     "output_type": "display_data"
    }
   ],
   "source": [
    "df_ideal = tpr_fpr_df(y_ideal, y_ideal_pred)\n",
    "plt.plot(df_ideal.threshold, df_ideal['tpr'], label='TPR')\n",
    "plt.plot(df_ideal.threshold, df_ideal['fpr'], label='FPR')\n",
    "plt.legend()"
   ]
  },
  {
   "cell_type": "code",
   "execution_count": 42,
   "metadata": {},
   "outputs": [
    {
     "data": {
      "text/plain": [
       "<matplotlib.legend.Legend at 0x12b6b803940>"
      ]
     },
     "execution_count": 42,
     "metadata": {},
     "output_type": "execute_result"
    },
    {
     "data": {
      "image/png": "[encoded data removed]",
      "text/plain": [
       "<Figure size 432x288 with 1 Axes>"
      ]
     },
     "metadata": {
      "needs_background": "light"
     },
     "output_type": "display_data"
    }
   ],
   "source": [
    "plt.plot(df_ideal.threshold, df_ideal['tpr'], label='TPR')\n",
    "plt.plot(df_ideal.threshold, df_ideal['fpr'], label='FPR')\n",
    "\n",
    "# plt.plot(df_rand.threshold, df_rand['tpr'], label='TPR')\n",
    "# plt.plot(df_rand.threshold, df_rand['fpr'], label='FPR')\n",
    "\n",
    "plt.plot(df_scores.threshold, df_scores['tpr'], label='TPR')\n",
    "plt.plot(df_scores.threshold, df_scores['fpr'], label='FPR')\n",
    "plt.legend()"
   ]
  },
  {
   "cell_type": "markdown",
   "metadata": {},
   "source": [
    "# ROC curve and AUC using sklearn libraries"
   ]
  },
  {
   "cell_type": "code",
   "execution_count": 43,
   "metadata": {},
   "outputs": [],
   "source": [
    "from sklearn.metrics import roc_curve\n",
    "fpr, tpr, thresholds = roc_curve(y_val, y_pred)"
   ]
  },
  {
   "cell_type": "code",
   "execution_count": 44,
   "metadata": {},
   "outputs": [
    {
     "data": {
      "text/plain": [
       "<matplotlib.legend.Legend at 0x12b6da452e0>"
      ]
     },
     "execution_count": 44,
     "metadata": {},
     "output_type": "execute_result"
    },
    {
     "data": {
      "image/png": "[encoded data removed]",
      "text/plain": [
       "<Figure size 432x288 with 1 Axes>"
      ]
     },
     "metadata": {
      "needs_background": "light"
     },
     "output_type": "display_data"
    }
   ],
   "source": [
    "plt.plot(fpr, tpr, label='Model')\n",
    "plt.plot([0, 1], [0, 1], label='Random', linestyle='--')\n",
    "plt.legend()"
   ]
  },
  {
   "cell_type": "code",
   "execution_count": 45,
   "metadata": {},
   "outputs": [
    {
     "data": {
      "text/plain": [
       "array([0, 0, 0, ..., 0, 1, 1])"
      ]
     },
     "execution_count": 45,
     "metadata": {},
     "output_type": "execute_result"
    }
   ],
   "source": [
    "y_val"
   ]
  },
  {
   "cell_type": "code",
   "execution_count": 46,
   "metadata": {},
   "outputs": [
    {
     "data": {
      "text/plain": [
       "array([0.54304201, 0.58226734, 0.46169532, 0.73942733, 0.06580641,\n",
       "       0.69174219, 0.24736811, 0.69653769, 0.21208494, 0.66509702,\n",
       "       0.4734741 , 0.34864541, 0.15046357, 0.61756132, 0.76471688,\n",
       "       0.14248396, 0.43289524, 0.27301047, 0.06885686, 0.19234033,\n",
       "       0.67062685, 0.41597207, 0.66202254, 0.58316459, 0.52439051,\n",
       "       0.43307551, 0.46856629, 0.35114877, 0.56774582, 0.32177406,\n",
       "       0.63521787, 0.74369371, 0.73843161, 0.6089276 , 0.70873063,\n",
       "       0.76477934, 0.10729572, 0.18071687, 0.54203627, 0.57942937,\n",
       "       0.43655819, 0.44059657, 0.75706846, 0.38574479, 0.69438187,\n",
       "       0.41765369, 0.75786386, 0.30225735, 0.53389686, 0.58068373,\n",
       "       0.15407375, 0.52946122, 0.78578055, 0.43643641, 0.67325446,\n",
       "       0.77440233, 0.0126373 , 0.35107602, 0.79769441, 0.58466216,\n",
       "       0.67391352, 0.24822175, 0.34497523, 0.70163142, 0.20961148,\n",
       "       0.6859309 , 0.63630383, 0.29105961, 0.66049677, 0.30802139,\n",
       "       0.50166741, 0.27182148, 0.39709269, 0.41039806, 0.49930935,\n",
       "       0.18359503, 0.33724613, 0.69443984, 0.66436939, 0.77011516,\n",
       "       0.21004397, 0.76913363, 0.13956641, 0.23172246, 0.55733602,\n",
       "       0.54207792, 0.2192965 , 0.66766767, 0.25819144, 0.72740267,\n",
       "       0.57588827, 0.12041794, 0.76693749, 0.82961706, 0.68124926,\n",
       "       0.29917083, 0.64033116, 0.33205781, 0.24012162, 0.82433926,\n",
       "       0.54768699, 0.78245356, 0.12092802, 0.78021694, 0.39584273,\n",
       "       0.52619003, 0.59986474, 0.74266133, 0.08490387, 0.62019443,\n",
       "       0.67020661, 0.46184657, 0.46103655, 0.70417424, 0.67382436,\n",
       "       0.80261989, 0.70778318, 0.25353699, 0.65203604, 0.56176258,\n",
       "       0.70889905, 0.69225414, 0.45479298, 0.24280969, 0.7289147 ,\n",
       "       0.593431  , 0.06552064, 0.59140554, 0.53007405, 0.46169532,\n",
       "       0.23203098, 0.74403663, 0.03635631, 0.66560962, 0.15223981,\n",
       "       0.39271272, 0.28131434, 0.70219565, 0.50283269, 0.20721747,\n",
       "       0.25021318, 0.78301376, 0.71872769, 0.29787141, 0.14770616,\n",
       "       0.09470159, 0.72756851, 0.13111465, 0.23275607, 0.35559899,\n",
       "       0.06314924, 0.62889282, 0.12644886, 0.19102438, 0.59091093,\n",
       "       0.45466117, 0.71926181, 0.54496896, 0.76591041, 0.73806015,\n",
       "       0.21089919, 0.55626726, 0.70490587, 0.13793864, 0.59085411,\n",
       "       0.37372024, 0.52036806, 0.30397317, 0.05328111, 0.70324936,\n",
       "       0.57360214, 0.4514389 , 0.44921385, 0.04585029, 0.54844886,\n",
       "       0.80099253, 0.54507074, 0.64143768, 0.72096759, 0.38970181,\n",
       "       0.77800622, 0.38088275, 0.62937564, 0.12916595, 0.4064979 ,\n",
       "       0.25107306, 0.59224475, 0.48096233, 0.80587197, 0.20377819,\n",
       "       0.35981156, 0.17815934, 0.66479682, 0.5967657 , 0.68643949,\n",
       "       0.70663572, 0.65126674, 0.67720584, 0.49829838, 0.69833286,\n",
       "       0.52373231, 0.59464128, 0.63059654, 0.83908555, 0.26018835,\n",
       "       0.7408815 , 0.56912578, 0.60288727, 0.29109975, 0.60475262,\n",
       "       0.74820513, 0.80414401, 0.73789987, 0.72934293, 0.50827906,\n",
       "       0.35261777, 0.07019782, 0.21198327, 0.60824866, 0.73283682,\n",
       "       0.51011605, 0.60436487, 0.67165707, 0.65454541, 0.15797839,\n",
       "       0.05563493, 0.70329008, 0.57515565, 0.27121982, 0.52171496,\n",
       "       0.38610971, 0.80286291, 0.37247426, 0.640226  , 0.42833722,\n",
       "       0.02297099, 0.69173941, 0.74487227, 0.43597005, 0.28827464,\n",
       "       0.59428701, 0.3898703 , 0.6351713 , 0.12820174, 0.43241473,\n",
       "       0.69078604, 0.08348684, 0.19363839, 0.19638351, 0.67402478,\n",
       "       0.69640641, 0.31942735, 0.00923376, 0.44963523, 0.36110957,\n",
       "       0.28523717, 0.67647809, 0.59023567, 0.06811403, 0.77063513,\n",
       "       0.66123056, 0.1852039 , 0.61128861, 0.09291614, 0.61267812,\n",
       "       0.14269696, 0.27944218, 0.27689423, 0.80172059, 0.24426972,\n",
       "       0.67055985, 0.21407997, 0.65394888, 0.57562246, 0.69260822,\n",
       "       0.77563407, 0.48721643, 0.38965321, 0.59184404, 0.5968872 ,\n",
       "       0.14006682, 0.13580853, 0.74216705, 0.17347255, 0.62795362,\n",
       "       0.04315755, 0.63318061, 0.58115868, 0.29119899, 0.63217619,\n",
       "       0.65112406, 0.22632857, 0.29583837, 0.70951715, 0.16696817,\n",
       "       0.63787478, 0.69268855, 0.72936323, 0.77393551, 0.25176158,\n",
       "       0.2436657 , 0.54714142, 0.6274392 , 0.72399277, 0.19335707,\n",
       "       0.56937304, 0.64474188, 0.70800987, 0.81614597, 0.68598084,\n",
       "       0.2886122 , 0.59012724, 0.27882123, 0.48653525, 0.43451932,\n",
       "       0.75572705, 0.62300118, 0.5870386 , 0.46157853, 0.38970026,\n",
       "       0.56953046, 0.52495993, 0.69537507, 0.32504262, 0.40815077,\n",
       "       0.72502667, 0.58634696, 0.22314659, 0.66082195, 0.71359533,\n",
       "       0.70001837, 0.31106107, 0.74070318, 0.71717954, 0.09233862,\n",
       "       0.24707813, 0.37713204, 0.83295829, 0.54614072, 0.42343958,\n",
       "       0.44983967, 0.37446402, 0.27928108, 0.23206732, 0.37245831,\n",
       "       0.51624209, 0.72638155, 0.68947257, 0.6144395 , 0.80965052,\n",
       "       0.51959362, 0.62344637, 0.73411497, 0.1326082 , 0.18817711,\n",
       "       0.2131458 , 0.68039637, 0.18814903, 0.62964194, 0.30378546,\n",
       "       0.71708969, 0.48425013, 0.38244844, 0.36092921, 0.58974769,\n",
       "       0.45088181, 0.56565712, 0.22746394, 0.29941318, 0.40826493,\n",
       "       0.67369059, 0.55867975, 0.72249652, 0.27991315, 0.64724279,\n",
       "       0.1824403 , 0.45859934, 0.52324718, 0.44393971, 0.49445575,\n",
       "       0.63961042, 0.64413641, 0.71759713, 0.03935979, 0.79976611,\n",
       "       0.83740363])"
      ]
     },
     "execution_count": 46,
     "metadata": {},
     "output_type": "execute_result"
    }
   ],
   "source": [
    "neg = y_pred[y_val == 0]\n",
    "pos = y_pred[y_val == 1]\n",
    "pos"
   ]
  },
  {
   "cell_type": "code",
   "execution_count": 47,
   "metadata": {},
   "outputs": [
    {
     "data": {
      "text/plain": [
       "0.84447"
      ]
     },
     "execution_count": 47,
     "metadata": {},
     "output_type": "execute_result"
    }
   ],
   "source": [
    "import random\n",
    "\n",
    "n = 100000\n",
    "success = 0\n",
    "\n",
    "for i in range(n):\n",
    "    pos_ind = random.randint(0, len(pos)-1)\n",
    "    neg_ind = random.randint(0, len(neg)-1)\n",
    "    if pos[pos_ind] > neg[neg_ind]:\n",
    "        success += 1\n",
    "success / n"
   ]
  },
  {
   "cell_type": "code",
   "execution_count": 48,
   "metadata": {},
   "outputs": [],
   "source": [
    "n = 50000\n",
    "pos_ind = np.random.randint(0, len(pos), size=n)\n",
    "neg_ind = np.random.randint(0, len(neg), size=n)"
   ]
  },
  {
   "cell_type": "code",
   "execution_count": 49,
   "metadata": {},
   "outputs": [
    {
     "data": {
      "text/plain": [
       "0.84486"
      ]
     },
     "execution_count": 49,
     "metadata": {},
     "output_type": "execute_result"
    }
   ],
   "source": [
    "(pos[pos_ind] > neg[neg_ind]).mean()"
   ]
  },
  {
   "cell_type": "code",
   "execution_count": 50,
   "metadata": {},
   "outputs": [],
   "source": [
    "def train(df_train, y_train, C=1.0):\n",
    "    dicts = df_train[categorical + numerical].to_dict(orient='records')\n",
    "    \n",
    "    dv = DictVectorizer(sparse=False)\n",
    "    X_train = dv.fit_transform(dicts)\n",
    "    \n",
    "    model = LogisticRegression(C=C, max_iter=1000)\n",
    "    model.fit(X_train, y_train)\n",
    "    return dv, model"
   ]
  },
  {
   "cell_type": "code",
   "execution_count": 51,
   "metadata": {},
   "outputs": [],
   "source": [
    "dv, model =  train(df_train, y_train, C=0.001)"
   ]
  },
  {
   "cell_type": "code",
   "execution_count": 52,
   "metadata": {},
   "outputs": [],
   "source": [
    "def predict(df, dv, model):\n",
    "    dicts = df[categorical + numerical].to_dict(orient='records')\n",
    "    X = dv.transform(dicts)\n",
    "    y_pred = model.predict_proba(X)[:, 1]\n",
    "    return y_pred"
   ]
  },
  {
   "cell_type": "code",
   "execution_count": 53,
   "metadata": {},
   "outputs": [
    {
     "data": {
      "text/plain": [
       "array([0.02155921, 0.33135098, 0.33602112, ..., 0.26705435, 0.71907523,\n",
       "       0.71942517])"
      ]
     },
     "execution_count": 53,
     "metadata": {},
     "output_type": "execute_result"
    }
   ],
   "source": [
    "y_pred = predict(df_val, dv, model)\n",
    "y_pred"
   ]
  }
 ],
 "metadata": {
  "kernelspec": {
   "display_name": "ml_course",
   "language": "python",
   "name": "ml_course"
  },
  "language_info": {
   "codemirror_mode": {
    "name": "ipython",
    "version": 3
   },
   "file_extension": ".py",
   "mimetype": "text/x-python",
   "name": "python",
   "nbconvert_exporter": "python",
   "pygments_lexer": "ipython3",
   "version": "3.8.2"
  }
 },
 "nbformat": 4,
 "nbformat_minor": 4
}
