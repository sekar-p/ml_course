{
 "cells": [
  {
   "cell_type": "code",
   "execution_count": 1,
   "metadata": {},
   "outputs": [],
   "source": [
    "# Import the modules at the beginning\n",
    "\n",
    "import pandas as pd\n",
    "from sklearn.metrics import mutual_info_score\n",
    "import matplotlib.pyplot as plt\n",
    "import seaborn as sns\n",
    "from sklearn.preprocessing import LabelEncoder\n",
    "import numpy as np\n"
   ]
  },
  {
   "cell_type": "code",
   "execution_count": 88,
   "metadata": {},
   "outputs": [],
   "source": [
    "import warnings\n",
    "warnings.filterwarnings(\"ignore\")"
   ]
  },
  {
   "cell_type": "markdown",
   "metadata": {},
   "source": [
    "## 1. Data Preparation"
   ]
  },
  {
   "cell_type": "code",
   "execution_count": 2,
   "metadata": {},
   "outputs": [],
   "source": [
    "df = pd.read_csv('data.csv', encoding = 'latin1') #Without encoding you'll get an error"
   ]
  },
  {
   "cell_type": "code",
   "execution_count": 3,
   "metadata": {},
   "outputs": [
    {
     "data": {
      "text/plain": [
       "(1303, 13)"
      ]
     },
     "execution_count": 3,
     "metadata": {},
     "output_type": "execute_result"
    }
   ],
   "source": [
    "df.shape"
   ]
  },
  {
   "cell_type": "code",
   "execution_count": 4,
   "metadata": {},
   "outputs": [
    {
     "data": {
      "text/html": [
       "<div>\n",
       "<style scoped>\n",
       "    .dataframe tbody tr th:only-of-type {\n",
       "        vertical-align: middle;\n",
       "    }\n",
       "\n",
       "    .dataframe tbody tr th {\n",
       "        vertical-align: top;\n",
       "    }\n",
       "\n",
       "    .dataframe thead th {\n",
       "        text-align: right;\n",
       "    }\n",
       "</style>\n",
       "<table border=\"1\" class=\"dataframe\">\n",
       "  <thead>\n",
       "    <tr style=\"text-align: right;\">\n",
       "      <th></th>\n",
       "      <th>laptop_ID</th>\n",
       "      <th>Company</th>\n",
       "      <th>Product</th>\n",
       "      <th>TypeName</th>\n",
       "      <th>Inches</th>\n",
       "      <th>ScreenResolution</th>\n",
       "      <th>Cpu</th>\n",
       "      <th>Ram</th>\n",
       "      <th>Memory</th>\n",
       "      <th>Gpu</th>\n",
       "      <th>OpSys</th>\n",
       "      <th>Weight</th>\n",
       "      <th>Price_euros</th>\n",
       "    </tr>\n",
       "  </thead>\n",
       "  <tbody>\n",
       "    <tr>\n",
       "      <th>0</th>\n",
       "      <td>1</td>\n",
       "      <td>Apple</td>\n",
       "      <td>MacBook Pro</td>\n",
       "      <td>Ultrabook</td>\n",
       "      <td>13.3</td>\n",
       "      <td>IPS Panel Retina Display 2560x1600</td>\n",
       "      <td>Intel Core i5 2.3GHz</td>\n",
       "      <td>8GB</td>\n",
       "      <td>128GB SSD</td>\n",
       "      <td>Intel Iris Plus Graphics 640</td>\n",
       "      <td>macOS</td>\n",
       "      <td>1.37kg</td>\n",
       "      <td>1339.69</td>\n",
       "    </tr>\n",
       "    <tr>\n",
       "      <th>1</th>\n",
       "      <td>2</td>\n",
       "      <td>Apple</td>\n",
       "      <td>Macbook Air</td>\n",
       "      <td>Ultrabook</td>\n",
       "      <td>13.3</td>\n",
       "      <td>1440x900</td>\n",
       "      <td>Intel Core i5 1.8GHz</td>\n",
       "      <td>8GB</td>\n",
       "      <td>128GB Flash Storage</td>\n",
       "      <td>Intel HD Graphics 6000</td>\n",
       "      <td>macOS</td>\n",
       "      <td>1.34kg</td>\n",
       "      <td>898.94</td>\n",
       "    </tr>\n",
       "    <tr>\n",
       "      <th>2</th>\n",
       "      <td>3</td>\n",
       "      <td>HP</td>\n",
       "      <td>250 G6</td>\n",
       "      <td>Notebook</td>\n",
       "      <td>15.6</td>\n",
       "      <td>Full HD 1920x1080</td>\n",
       "      <td>Intel Core i5 7200U 2.5GHz</td>\n",
       "      <td>8GB</td>\n",
       "      <td>256GB SSD</td>\n",
       "      <td>Intel HD Graphics 620</td>\n",
       "      <td>No OS</td>\n",
       "      <td>1.86kg</td>\n",
       "      <td>575.00</td>\n",
       "    </tr>\n",
       "    <tr>\n",
       "      <th>3</th>\n",
       "      <td>4</td>\n",
       "      <td>Apple</td>\n",
       "      <td>MacBook Pro</td>\n",
       "      <td>Ultrabook</td>\n",
       "      <td>15.4</td>\n",
       "      <td>IPS Panel Retina Display 2880x1800</td>\n",
       "      <td>Intel Core i7 2.7GHz</td>\n",
       "      <td>16GB</td>\n",
       "      <td>512GB SSD</td>\n",
       "      <td>AMD Radeon Pro 455</td>\n",
       "      <td>macOS</td>\n",
       "      <td>1.83kg</td>\n",
       "      <td>2537.45</td>\n",
       "    </tr>\n",
       "    <tr>\n",
       "      <th>4</th>\n",
       "      <td>5</td>\n",
       "      <td>Apple</td>\n",
       "      <td>MacBook Pro</td>\n",
       "      <td>Ultrabook</td>\n",
       "      <td>13.3</td>\n",
       "      <td>IPS Panel Retina Display 2560x1600</td>\n",
       "      <td>Intel Core i5 3.1GHz</td>\n",
       "      <td>8GB</td>\n",
       "      <td>256GB SSD</td>\n",
       "      <td>Intel Iris Plus Graphics 650</td>\n",
       "      <td>macOS</td>\n",
       "      <td>1.37kg</td>\n",
       "      <td>1803.60</td>\n",
       "    </tr>\n",
       "  </tbody>\n",
       "</table>\n",
       "</div>"
      ],
      "text/plain": [
       "   laptop_ID Company      Product   TypeName  Inches  \\\n",
       "0          1   Apple  MacBook Pro  Ultrabook    13.3   \n",
       "1          2   Apple  Macbook Air  Ultrabook    13.3   \n",
       "2          3      HP       250 G6   Notebook    15.6   \n",
       "3          4   Apple  MacBook Pro  Ultrabook    15.4   \n",
       "4          5   Apple  MacBook Pro  Ultrabook    13.3   \n",
       "\n",
       "                     ScreenResolution                         Cpu   Ram  \\\n",
       "0  IPS Panel Retina Display 2560x1600        Intel Core i5 2.3GHz   8GB   \n",
       "1                            1440x900        Intel Core i5 1.8GHz   8GB   \n",
       "2                   Full HD 1920x1080  Intel Core i5 7200U 2.5GHz   8GB   \n",
       "3  IPS Panel Retina Display 2880x1800        Intel Core i7 2.7GHz  16GB   \n",
       "4  IPS Panel Retina Display 2560x1600        Intel Core i5 3.1GHz   8GB   \n",
       "\n",
       "                Memory                           Gpu  OpSys  Weight  \\\n",
       "0            128GB SSD  Intel Iris Plus Graphics 640  macOS  1.37kg   \n",
       "1  128GB Flash Storage        Intel HD Graphics 6000  macOS  1.34kg   \n",
       "2            256GB SSD         Intel HD Graphics 620  No OS  1.86kg   \n",
       "3            512GB SSD            AMD Radeon Pro 455  macOS  1.83kg   \n",
       "4            256GB SSD  Intel Iris Plus Graphics 650  macOS  1.37kg   \n",
       "\n",
       "   Price_euros  \n",
       "0      1339.69  \n",
       "1       898.94  \n",
       "2       575.00  \n",
       "3      2537.45  \n",
       "4      1803.60  "
      ]
     },
     "execution_count": 4,
     "metadata": {},
     "output_type": "execute_result"
    }
   ],
   "source": [
    "df.head()"
   ]
  },
  {
   "cell_type": "markdown",
   "metadata": {},
   "source": [
    "## 1.2 Data Cleaning\n",
    "\n",
    "Columns and Categorical values are not in uniform order"
   ]
  },
  {
   "cell_type": "code",
   "execution_count": 5,
   "metadata": {},
   "outputs": [],
   "source": [
    "# Make the column in order\n",
    "df.columns = df.columns.str.lower()"
   ]
  },
  {
   "cell_type": "code",
   "execution_count": 6,
   "metadata": {},
   "outputs": [],
   "source": [
    "for col in df.columns:\n",
    "    if df[col].dtype == 'object':\n",
    "        df[col] = df[col].str.lower().str.replace('  ', ' ').str.replace(' ', '_')"
   ]
  },
  {
   "cell_type": "code",
   "execution_count": 7,
   "metadata": {},
   "outputs": [],
   "source": [
    "df.rename(columns={'ram':'ram_in_gb', 'weight': 'weight_in_kg', 'typename':'type_name', 'screenresolution':'screen_resolution', 'opsys': 'op_sys'}, inplace=True)"
   ]
  },
  {
   "cell_type": "code",
   "execution_count": 8,
   "metadata": {},
   "outputs": [
    {
     "data": {
      "text/plain": [
       "Index(['laptop_id', 'company', 'product', 'type_name', 'inches',\n",
       "       'screen_resolution', 'cpu', 'ram_in_gb', 'memory', 'gpu', 'op_sys',\n",
       "       'weight_in_kg', 'price_euros'],\n",
       "      dtype='object')"
      ]
     },
     "execution_count": 8,
     "metadata": {},
     "output_type": "execute_result"
    }
   ],
   "source": [
    "df.columns"
   ]
  },
  {
   "cell_type": "code",
   "execution_count": 9,
   "metadata": {},
   "outputs": [
    {
     "name": "stdout",
     "output_type": "stream",
     "text": [
      "<class 'pandas.core.frame.DataFrame'>\n",
      "RangeIndex: 1303 entries, 0 to 1302\n",
      "Data columns (total 13 columns):\n",
      " #   Column             Non-Null Count  Dtype  \n",
      "---  ------             --------------  -----  \n",
      " 0   laptop_id          1303 non-null   int64  \n",
      " 1   company            1303 non-null   object \n",
      " 2   product            1303 non-null   object \n",
      " 3   type_name          1303 non-null   object \n",
      " 4   inches             1303 non-null   float64\n",
      " 5   screen_resolution  1303 non-null   object \n",
      " 6   cpu                1303 non-null   object \n",
      " 7   ram_in_gb          1303 non-null   object \n",
      " 8   memory             1303 non-null   object \n",
      " 9   gpu                1303 non-null   object \n",
      " 10  op_sys             1303 non-null   object \n",
      " 11  weight_in_kg       1303 non-null   object \n",
      " 12  price_euros        1303 non-null   float64\n",
      "dtypes: float64(2), int64(1), object(10)\n",
      "memory usage: 132.5+ KB\n"
     ]
    }
   ],
   "source": [
    "df.info()"
   ]
  },
  {
   "cell_type": "markdown",
   "metadata": {},
   "source": [
    "Let's have more numerical coumns"
   ]
  },
  {
   "cell_type": "code",
   "execution_count": 10,
   "metadata": {},
   "outputs": [],
   "source": [
    "df['ram_in_gb'] = df['ram_in_gb'].str.replace('gb', '')\n",
    "\n",
    "df['ram_in_gb'] = pd.to_numeric(df.ram_in_gb, errors='coerce')\n",
    "\n",
    "df['weight_in_kg'] = df['weight_in_kg'].str.replace('kg', '')\n",
    "\n",
    "df['weight_in_kg'] = pd.to_numeric(df.weight_in_kg, errors='coerce')"
   ]
  },
  {
   "cell_type": "markdown",
   "metadata": {},
   "source": [
    "## 2. Exploratory Data Analysis\n",
    "\n",
    "\n",
    "My input data was like this, so which tells me that need more cleaning\n",
    "\n",
    " `{'company': 'dell',\n",
    " 'product': 'xps_13',\n",
    " 'type_name': 'ultrabook',\n",
    " 'inches': 13.3,\n",
    " 'screen_resolution': 'full_hd_1920x1080',\n",
    " 'cpu': 'intel_core_i7_7560u_2.4ghz',\n",
    " 'ram_in_gb': 8,\n",
    " 'memory': '256gb_ssd',\n",
    " 'gpu': 'intel_iris_plus_graphics_640',\n",
    " 'op_sys': 'windows_10',\n",
    " 'weight_in_kg': 1.23}`\n",
    " \n",
    "My desired input value like this\n",
    "\n",
    "`{'company': 'dell',\n",
    " 'type_name': 'ultrabook',\n",
    " 'inches': 13.3,\n",
    " 'screen_resolution': '1920x1080',\n",
    " 'screen_resolution_type': 'full_hd',\n",
    " 'touch_screen': 1,\n",
    " 'processor': 'intel_core_i7',\n",
    " 'clock_speed_ghz': 2.4,\n",
    " 'ram_in_gb': 8,\n",
    " 'memory_gb': 256,\n",
    " 'hard_disk_type': 'ssd',\n",
    " 'gpu': 'intel_iris_plus_graphics_640',\n",
    " 'op_sys': 'windows_10',\n",
    " 'weight_in_kg': 1.23}`\n",
    " "
   ]
  },
  {
   "cell_type": "code",
   "execution_count": 11,
   "metadata": {},
   "outputs": [
    {
     "name": "stdout",
     "output_type": "stream",
     "text": [
      "<class 'pandas.core.frame.DataFrame'>\n",
      "RangeIndex: 1303 entries, 0 to 1302\n",
      "Data columns (total 13 columns):\n",
      " #   Column             Non-Null Count  Dtype  \n",
      "---  ------             --------------  -----  \n",
      " 0   laptop_id          1303 non-null   int64  \n",
      " 1   company            1303 non-null   object \n",
      " 2   product            1303 non-null   object \n",
      " 3   type_name          1303 non-null   object \n",
      " 4   inches             1303 non-null   float64\n",
      " 5   screen_resolution  1303 non-null   object \n",
      " 6   cpu                1303 non-null   object \n",
      " 7   ram_in_gb          1303 non-null   int64  \n",
      " 8   memory             1303 non-null   object \n",
      " 9   gpu                1303 non-null   object \n",
      " 10  op_sys             1303 non-null   object \n",
      " 11  weight_in_kg       1303 non-null   float64\n",
      " 12  price_euros        1303 non-null   float64\n",
      "dtypes: float64(3), int64(2), object(8)\n",
      "memory usage: 132.5+ KB\n"
     ]
    }
   ],
   "source": [
    "df.info()"
   ]
  },
  {
   "cell_type": "code",
   "execution_count": 12,
   "metadata": {},
   "outputs": [],
   "source": [
    "screen_split = df['screen_resolution'].str.split('x', expand=True)\n",
    "df['y_res'] = screen_split[1]\n",
    "df['x_res'] = screen_split[0].str.replace(',','').str.findall(r'(\\d+\\.?\\d+)').apply(lambda x: pd.Series(x).astype(int))"
   ]
  },
  {
   "cell_type": "code",
   "execution_count": 13,
   "metadata": {},
   "outputs": [
    {
     "name": "stderr",
     "output_type": "stream",
     "text": [
      "C:\\Users\\SEKAR\\AppData\\Local\\Temp/ipykernel_2260/2528908102.py:2: DeprecationWarning: The default dtype for empty Series will be 'object' instead of 'float64' in a future version. Specify a dtype explicitly to silence this warning.\n",
      "  df['screen_resolution_type'] = df['screen_resolution'].str.findall(r'(full_hd|4k)').apply(lambda x: pd.Series(x))\n"
     ]
    }
   ],
   "source": [
    "df['touch_screen'] = df['screen_resolution'].str.contains('touchscreen').astype('int32')\n",
    "df['screen_resolution_type'] = df['screen_resolution'].str.findall(r'(full_hd|4k)').apply(lambda x: pd.Series(x))"
   ]
  },
  {
   "cell_type": "code",
   "execution_count": 14,
   "metadata": {},
   "outputs": [],
   "source": [
    "cpu_split = df['cpu'].str.split(r'(\\d[\\.\\d]*)ghz').apply(lambda x: pd.Series(x))"
   ]
  },
  {
   "cell_type": "code",
   "execution_count": 15,
   "metadata": {},
   "outputs": [],
   "source": [
    "df['processor'], df['clock_speed_ghz'] = cpu_split[0].str.strip('_'), cpu_split[1]"
   ]
  },
  {
   "cell_type": "code",
   "execution_count": 16,
   "metadata": {},
   "outputs": [
    {
     "data": {
      "text/plain": [
       "intel_core_i5_7200u       193\n",
       "intel_core_i7_7700hq      147\n",
       "intel_core_i7_7500u       135\n",
       "intel_core_i3_6006u        81\n",
       "intel_core_i7_8550u        73\n",
       "                         ... \n",
       "intel_xeon_e3-1535m_v6      1\n",
       "intel_core_m_7y30           1\n",
       "intel_core_i7_6920hq        1\n",
       "amd_e-series_e2-6110        1\n",
       "intel_core_i5_7500u         1\n",
       "Name: processor, Length: 91, dtype: int64"
      ]
     },
     "execution_count": 16,
     "metadata": {},
     "output_type": "execute_result"
    }
   ],
   "source": [
    "df['processor'].value_counts()"
   ]
  },
  {
   "cell_type": "code",
   "execution_count": 17,
   "metadata": {},
   "outputs": [
    {
     "name": "stderr",
     "output_type": "stream",
     "text": [
      "C:\\Users\\SEKAR\\AppData\\Local\\Temp/ipykernel_2260/2682240571.py:4: FutureWarning: The default value of regex will change from True to False in a future version.\n",
      "  df['primary_memory'] = df['primary_memory'].str.replace('1.0tb', '1tb')\n",
      "C:\\Users\\SEKAR\\AppData\\Local\\Temp/ipykernel_2260/2682240571.py:7: DeprecationWarning: The default dtype for empty Series will be 'object' instead of 'float64' in a future version. Specify a dtype explicitly to silence this warning.\n",
      "  df['secondary_memory'] = memory_split[1].str.findall(r'([\\d\\.]+[gb|tb]*)').apply(lambda x: pd.Series(x))[0]\n",
      "C:\\Users\\SEKAR\\AppData\\Local\\Temp/ipykernel_2260/2682240571.py:8: FutureWarning: The default value of regex will change from True to False in a future version.\n",
      "  df['secondary_memory'] = df['secondary_memory'].str.replace('1.0tb', '1tb')\n"
     ]
    }
   ],
   "source": [
    "df['hard_disk_type'] = df.memory.apply(lambda x: 'hybrid' if (('ssd' in x and 'hdd' in x) or 'hybrid' in x) else 'ssd' if 'ssd' in x else 'hdd')\n",
    "memory_split = df['memory'].str.split('+', expand=True)\n",
    "df['primary_memory'] = memory_split[0].str.findall(r'([\\d\\.]+[gb|tb]*)').apply(lambda x: pd.Series(x))[0]\n",
    "df['primary_memory'] = df['primary_memory'].str.replace('1.0tb', '1tb')\n",
    "df['primary_memory'].fillna('0gb', inplace=True)\n",
    "df['primary_memory'] = df['primary_memory'].apply(lambda x:  int(x.replace('tb', '')) * 1000 if 'tb' in x else int(x.replace('gb', '')) if 'gb' in x else int(x))\n",
    "df['secondary_memory'] = memory_split[1].str.findall(r'([\\d\\.]+[gb|tb]*)').apply(lambda x: pd.Series(x))[0]\n",
    "df['secondary_memory'] = df['secondary_memory'].str.replace('1.0tb', '1tb')\n",
    "df['secondary_memory'].fillna('0gb', inplace=True)\n",
    "df['secondary_memory'] = df['secondary_memory'].apply(lambda x:  int(x.replace('tb', '')) * 1000 if 'tb' in x else int(x.replace('gb', '')) if 'gb' in x else int(x))\n",
    "df['memory_gb'] = df['primary_memory'] + df['secondary_memory']"
   ]
  },
  {
   "cell_type": "code",
   "execution_count": 18,
   "metadata": {},
   "outputs": [
    {
     "name": "stdout",
     "output_type": "stream",
     "text": [
      "<class 'pandas.core.frame.DataFrame'>\n",
      "RangeIndex: 1303 entries, 0 to 1302\n",
      "Data columns (total 23 columns):\n",
      " #   Column                  Non-Null Count  Dtype  \n",
      "---  ------                  --------------  -----  \n",
      " 0   laptop_id               1303 non-null   int64  \n",
      " 1   company                 1303 non-null   object \n",
      " 2   product                 1303 non-null   object \n",
      " 3   type_name               1303 non-null   object \n",
      " 4   inches                  1303 non-null   float64\n",
      " 5   screen_resolution       1303 non-null   object \n",
      " 6   cpu                     1303 non-null   object \n",
      " 7   ram_in_gb               1303 non-null   int64  \n",
      " 8   memory                  1303 non-null   object \n",
      " 9   gpu                     1303 non-null   object \n",
      " 10  op_sys                  1303 non-null   object \n",
      " 11  weight_in_kg            1303 non-null   float64\n",
      " 12  price_euros             1303 non-null   float64\n",
      " 13  y_res                   1303 non-null   object \n",
      " 14  x_res                   1303 non-null   int32  \n",
      " 15  touch_screen            1303 non-null   int32  \n",
      " 16  screen_resolution_type  886 non-null    object \n",
      " 17  processor               1303 non-null   object \n",
      " 18  clock_speed_ghz         1303 non-null   object \n",
      " 19  hard_disk_type          1303 non-null   object \n",
      " 20  primary_memory          1303 non-null   int64  \n",
      " 21  secondary_memory        1303 non-null   int64  \n",
      " 22  memory_gb               1303 non-null   int64  \n",
      "dtypes: float64(3), int32(2), int64(5), object(13)\n",
      "memory usage: 224.1+ KB\n"
     ]
    }
   ],
   "source": [
    "df.info()"
   ]
  },
  {
   "cell_type": "markdown",
   "metadata": {},
   "source": [
    "Remove the unwanted columns since its not neccessary"
   ]
  },
  {
   "cell_type": "code",
   "execution_count": 19,
   "metadata": {},
   "outputs": [],
   "source": [
    "df = df.drop(['memory', 'primary_memory', 'secondary_memory', 'screen_resolution'], axis=True)"
   ]
  },
  {
   "cell_type": "code",
   "execution_count": 20,
   "metadata": {},
   "outputs": [
    {
     "data": {
      "text/html": [
       "<div>\n",
       "<style scoped>\n",
       "    .dataframe tbody tr th:only-of-type {\n",
       "        vertical-align: middle;\n",
       "    }\n",
       "\n",
       "    .dataframe tbody tr th {\n",
       "        vertical-align: top;\n",
       "    }\n",
       "\n",
       "    .dataframe thead th {\n",
       "        text-align: right;\n",
       "    }\n",
       "</style>\n",
       "<table border=\"1\" class=\"dataframe\">\n",
       "  <thead>\n",
       "    <tr style=\"text-align: right;\">\n",
       "      <th></th>\n",
       "      <th>laptop_id</th>\n",
       "      <th>company</th>\n",
       "      <th>product</th>\n",
       "      <th>type_name</th>\n",
       "      <th>inches</th>\n",
       "      <th>cpu</th>\n",
       "      <th>ram_in_gb</th>\n",
       "      <th>gpu</th>\n",
       "      <th>op_sys</th>\n",
       "      <th>weight_in_kg</th>\n",
       "      <th>price_euros</th>\n",
       "      <th>y_res</th>\n",
       "      <th>x_res</th>\n",
       "      <th>touch_screen</th>\n",
       "      <th>screen_resolution_type</th>\n",
       "      <th>processor</th>\n",
       "      <th>clock_speed_ghz</th>\n",
       "      <th>hard_disk_type</th>\n",
       "      <th>memory_gb</th>\n",
       "    </tr>\n",
       "  </thead>\n",
       "  <tbody>\n",
       "    <tr>\n",
       "      <th>0</th>\n",
       "      <td>1</td>\n",
       "      <td>apple</td>\n",
       "      <td>macbook_pro</td>\n",
       "      <td>ultrabook</td>\n",
       "      <td>13.3</td>\n",
       "      <td>intel_core_i5_2.3ghz</td>\n",
       "      <td>8</td>\n",
       "      <td>intel_iris_plus_graphics_640</td>\n",
       "      <td>macos</td>\n",
       "      <td>1.37</td>\n",
       "      <td>1339.69</td>\n",
       "      <td>1600</td>\n",
       "      <td>2560</td>\n",
       "      <td>0</td>\n",
       "      <td>NaN</td>\n",
       "      <td>intel_core_i5</td>\n",
       "      <td>2.3</td>\n",
       "      <td>ssd</td>\n",
       "      <td>128</td>\n",
       "    </tr>\n",
       "    <tr>\n",
       "      <th>1</th>\n",
       "      <td>2</td>\n",
       "      <td>apple</td>\n",
       "      <td>macbook_air</td>\n",
       "      <td>ultrabook</td>\n",
       "      <td>13.3</td>\n",
       "      <td>intel_core_i5_1.8ghz</td>\n",
       "      <td>8</td>\n",
       "      <td>intel_hd_graphics_6000</td>\n",
       "      <td>macos</td>\n",
       "      <td>1.34</td>\n",
       "      <td>898.94</td>\n",
       "      <td>900</td>\n",
       "      <td>1440</td>\n",
       "      <td>0</td>\n",
       "      <td>NaN</td>\n",
       "      <td>intel_core_i5</td>\n",
       "      <td>1.8</td>\n",
       "      <td>hdd</td>\n",
       "      <td>128</td>\n",
       "    </tr>\n",
       "    <tr>\n",
       "      <th>2</th>\n",
       "      <td>3</td>\n",
       "      <td>hp</td>\n",
       "      <td>250_g6</td>\n",
       "      <td>notebook</td>\n",
       "      <td>15.6</td>\n",
       "      <td>intel_core_i5_7200u_2.5ghz</td>\n",
       "      <td>8</td>\n",
       "      <td>intel_hd_graphics_620</td>\n",
       "      <td>no_os</td>\n",
       "      <td>1.86</td>\n",
       "      <td>575.00</td>\n",
       "      <td>1080</td>\n",
       "      <td>1920</td>\n",
       "      <td>0</td>\n",
       "      <td>full_hd</td>\n",
       "      <td>intel_core_i5_7200u</td>\n",
       "      <td>2.5</td>\n",
       "      <td>ssd</td>\n",
       "      <td>256</td>\n",
       "    </tr>\n",
       "    <tr>\n",
       "      <th>3</th>\n",
       "      <td>4</td>\n",
       "      <td>apple</td>\n",
       "      <td>macbook_pro</td>\n",
       "      <td>ultrabook</td>\n",
       "      <td>15.4</td>\n",
       "      <td>intel_core_i7_2.7ghz</td>\n",
       "      <td>16</td>\n",
       "      <td>amd_radeon_pro_455</td>\n",
       "      <td>macos</td>\n",
       "      <td>1.83</td>\n",
       "      <td>2537.45</td>\n",
       "      <td>1800</td>\n",
       "      <td>2880</td>\n",
       "      <td>0</td>\n",
       "      <td>NaN</td>\n",
       "      <td>intel_core_i7</td>\n",
       "      <td>2.7</td>\n",
       "      <td>ssd</td>\n",
       "      <td>512</td>\n",
       "    </tr>\n",
       "    <tr>\n",
       "      <th>4</th>\n",
       "      <td>5</td>\n",
       "      <td>apple</td>\n",
       "      <td>macbook_pro</td>\n",
       "      <td>ultrabook</td>\n",
       "      <td>13.3</td>\n",
       "      <td>intel_core_i5_3.1ghz</td>\n",
       "      <td>8</td>\n",
       "      <td>intel_iris_plus_graphics_650</td>\n",
       "      <td>macos</td>\n",
       "      <td>1.37</td>\n",
       "      <td>1803.60</td>\n",
       "      <td>1600</td>\n",
       "      <td>2560</td>\n",
       "      <td>0</td>\n",
       "      <td>NaN</td>\n",
       "      <td>intel_core_i5</td>\n",
       "      <td>3.1</td>\n",
       "      <td>ssd</td>\n",
       "      <td>256</td>\n",
       "    </tr>\n",
       "  </tbody>\n",
       "</table>\n",
       "</div>"
      ],
      "text/plain": [
       "   laptop_id company      product  type_name  inches  \\\n",
       "0          1   apple  macbook_pro  ultrabook    13.3   \n",
       "1          2   apple  macbook_air  ultrabook    13.3   \n",
       "2          3      hp       250_g6   notebook    15.6   \n",
       "3          4   apple  macbook_pro  ultrabook    15.4   \n",
       "4          5   apple  macbook_pro  ultrabook    13.3   \n",
       "\n",
       "                          cpu  ram_in_gb                           gpu op_sys  \\\n",
       "0        intel_core_i5_2.3ghz          8  intel_iris_plus_graphics_640  macos   \n",
       "1        intel_core_i5_1.8ghz          8        intel_hd_graphics_6000  macos   \n",
       "2  intel_core_i5_7200u_2.5ghz          8         intel_hd_graphics_620  no_os   \n",
       "3        intel_core_i7_2.7ghz         16            amd_radeon_pro_455  macos   \n",
       "4        intel_core_i5_3.1ghz          8  intel_iris_plus_graphics_650  macos   \n",
       "\n",
       "   weight_in_kg  price_euros y_res  x_res  touch_screen  \\\n",
       "0          1.37      1339.69  1600   2560             0   \n",
       "1          1.34       898.94   900   1440             0   \n",
       "2          1.86       575.00  1080   1920             0   \n",
       "3          1.83      2537.45  1800   2880             0   \n",
       "4          1.37      1803.60  1600   2560             0   \n",
       "\n",
       "  screen_resolution_type            processor clock_speed_ghz hard_disk_type  \\\n",
       "0                    NaN        intel_core_i5             2.3            ssd   \n",
       "1                    NaN        intel_core_i5             1.8            hdd   \n",
       "2                full_hd  intel_core_i5_7200u             2.5            ssd   \n",
       "3                    NaN        intel_core_i7             2.7            ssd   \n",
       "4                    NaN        intel_core_i5             3.1            ssd   \n",
       "\n",
       "   memory_gb  \n",
       "0        128  \n",
       "1        128  \n",
       "2        256  \n",
       "3        512  \n",
       "4        256  "
      ]
     },
     "execution_count": 20,
     "metadata": {},
     "output_type": "execute_result"
    }
   ],
   "source": [
    "df.head()"
   ]
  },
  {
   "cell_type": "code",
   "execution_count": 21,
   "metadata": {},
   "outputs": [
    {
     "name": "stdout",
     "output_type": "stream",
     "text": [
      "<class 'pandas.core.frame.DataFrame'>\n",
      "RangeIndex: 1303 entries, 0 to 1302\n",
      "Data columns (total 19 columns):\n",
      " #   Column                  Non-Null Count  Dtype  \n",
      "---  ------                  --------------  -----  \n",
      " 0   laptop_id               1303 non-null   int64  \n",
      " 1   company                 1303 non-null   object \n",
      " 2   product                 1303 non-null   object \n",
      " 3   type_name               1303 non-null   object \n",
      " 4   inches                  1303 non-null   float64\n",
      " 5   cpu                     1303 non-null   object \n",
      " 6   ram_in_gb               1303 non-null   int64  \n",
      " 7   gpu                     1303 non-null   object \n",
      " 8   op_sys                  1303 non-null   object \n",
      " 9   weight_in_kg            1303 non-null   float64\n",
      " 10  price_euros             1303 non-null   float64\n",
      " 11  y_res                   1303 non-null   object \n",
      " 12  x_res                   1303 non-null   int32  \n",
      " 13  touch_screen            1303 non-null   int32  \n",
      " 14  screen_resolution_type  886 non-null    object \n",
      " 15  processor               1303 non-null   object \n",
      " 16  clock_speed_ghz         1303 non-null   object \n",
      " 17  hard_disk_type          1303 non-null   object \n",
      " 18  memory_gb               1303 non-null   int64  \n",
      "dtypes: float64(3), int32(2), int64(3), object(11)\n",
      "memory usage: 183.4+ KB\n"
     ]
    }
   ],
   "source": [
    "df.info()"
   ]
  },
  {
   "cell_type": "code",
   "execution_count": 22,
   "metadata": {},
   "outputs": [],
   "source": [
    "# base feature(numerical + categorical)\n",
    "features = df.columns\n",
    "\n",
    "# Split the columns based on the value attribute\n",
    "numerical = list(df.dtypes[df.dtypes != 'object'].index)\n",
    "categorical = list(df.dtypes[df.dtypes == 'object'].index)"
   ]
  },
  {
   "cell_type": "markdown",
   "metadata": {},
   "source": [
    "OH! It contains both numerical and categorical values"
   ]
  },
  {
   "cell_type": "code",
   "execution_count": 23,
   "metadata": {},
   "outputs": [
    {
     "name": "stdout",
     "output_type": "stream",
     "text": [
      "laptop_id\n",
      "[1 2 3 4 5]\n",
      "1303\n",
      "company\n",
      "['apple' 'hp' 'acer' 'asus' 'dell']\n",
      "19\n",
      "product\n",
      "['macbook_pro' 'macbook_air' '250_g6' 'aspire_3' 'zenbook_ux430un']\n",
      "576\n",
      "type_name\n",
      "['ultrabook' 'notebook' 'netbook' 'gaming' '2_in_1_convertible']\n",
      "6\n",
      "inches\n",
      "[13.3 15.6 15.4 14.  12. ]\n",
      "18\n",
      "cpu\n",
      "['intel_core_i5_2.3ghz' 'intel_core_i5_1.8ghz'\n",
      " 'intel_core_i5_7200u_2.5ghz' 'intel_core_i7_2.7ghz'\n",
      " 'intel_core_i5_3.1ghz']\n",
      "116\n",
      "ram_in_gb\n",
      "[ 8 16  4  2 12]\n",
      "9\n",
      "gpu\n",
      "['intel_iris_plus_graphics_640' 'intel_hd_graphics_6000'\n",
      " 'intel_hd_graphics_620' 'amd_radeon_pro_455'\n",
      " 'intel_iris_plus_graphics_650']\n",
      "110\n",
      "op_sys\n",
      "['macos' 'no_os' 'windows_10' 'mac_os_x' 'linux']\n",
      "9\n",
      "weight_in_kg\n",
      "[1.37 1.34 1.86 1.83 2.1 ]\n",
      "171\n",
      "price_euros\n",
      "[1339.69  898.94  575.   2537.45 1803.6 ]\n",
      "791\n",
      "y_res\n",
      "['1600' '900' '1080' '1800' '768']\n",
      "10\n",
      "x_res\n",
      "[2560 1440 1920 2880 1366]\n",
      "13\n",
      "touch_screen\n",
      "[0 1]\n",
      "2\n",
      "screen_resolution_type\n",
      "[nan 'full_hd' '4k']\n",
      "2\n",
      "processor\n",
      "['intel_core_i5' 'intel_core_i5_7200u' 'intel_core_i7'\n",
      " 'amd_a9-series_9420' 'intel_core_i7_8550u']\n",
      "91\n",
      "clock_speed_ghz\n",
      "['2.3' '1.8' '2.5' '2.7' '3.1']\n",
      "29\n",
      "hard_disk_type\n",
      "['ssd' 'hdd' 'hybrid']\n",
      "3\n",
      "memory_gb\n",
      "[ 128  256  512  500 1000]\n",
      "23\n"
     ]
    }
   ],
   "source": [
    "for col in df.columns:\n",
    "    print(col)\n",
    "    print(df[col].unique()[:5])\n",
    "    print(df[col].nunique())"
   ]
  },
  {
   "cell_type": "code",
   "execution_count": 24,
   "metadata": {},
   "outputs": [
    {
     "name": "stderr",
     "output_type": "stream",
     "text": [
      "E:\\Work\\ml_course\\ml_env\\lib\\site-packages\\seaborn\\distributions.py:2619: FutureWarning: `distplot` is a deprecated function and will be removed in a future version. Please adapt your code to use either `displot` (a figure-level function with similar flexibility) or `histplot` (an axes-level function for histograms).\n",
      "  warnings.warn(msg, FutureWarning)\n"
     ]
    },
    {
     "data": {
      "text/plain": [
       "<AxesSubplot:xlabel='price_euros', ylabel='Density'>"
      ]
     },
     "execution_count": 24,
     "metadata": {},
     "output_type": "execute_result"
    },
    {
     "data": {
      "image/png": "[encoded data removed]",
      "text/plain": [
       "<Figure size 432x288 with 1 Axes>"
      ]
     },
     "metadata": {
      "needs_background": "light"
     },
     "output_type": "display_data"
    }
   ],
   "source": [
    "sns.distplot(df.price_euros, bins=50)"
   ]
  },
  {
   "cell_type": "code",
   "execution_count": 25,
   "metadata": {},
   "outputs": [
    {
     "name": "stderr",
     "output_type": "stream",
     "text": [
      "E:\\Work\\ml_course\\ml_env\\lib\\site-packages\\seaborn\\distributions.py:2619: FutureWarning: `distplot` is a deprecated function and will be removed in a future version. Please adapt your code to use either `displot` (a figure-level function with similar flexibility) or `histplot` (an axes-level function for histograms).\n",
      "  warnings.warn(msg, FutureWarning)\n"
     ]
    },
    {
     "data": {
      "text/plain": [
       "<AxesSubplot:xlabel='price_euros', ylabel='Density'>"
      ]
     },
     "execution_count": 25,
     "metadata": {},
     "output_type": "execute_result"
    },
    {
     "data": {
      "image/png": "[encoded data removed]",
      "text/plain": [
       "<Figure size 432x288 with 1 Axes>"
      ]
     },
     "metadata": {
      "needs_background": "light"
     },
     "output_type": "display_data"
    }
   ],
   "source": [
    "sns.distplot(np.log1p(df.price_euros))"
   ]
  },
  {
   "cell_type": "markdown",
   "metadata": {},
   "source": [
    "It shows it follows Normal Distribution"
   ]
  },
  {
   "cell_type": "code",
   "execution_count": 89,
   "metadata": {},
   "outputs": [
    {
     "data": {
      "text/plain": [
       "<AxesSubplot:>"
      ]
     },
     "metadata": {},
     "output_type": "display_data"
    },
    {
     "data": {
      "image/png": "[encoded data removed]",
      "text/plain": [
       "<Figure size 1080x576 with 1 Axes>"
      ]
     },
     "metadata": {
      "needs_background": "light"
     },
     "output_type": "display_data"
    }
   ],
   "source": [
    "display(df['company'].value_counts().plot(kind='bar'))"
   ]
  },
  {
   "cell_type": "code",
   "execution_count": 91,
   "metadata": {},
   "outputs": [
    {
     "data": {
      "text/plain": [
       "<AxesSubplot:>"
      ]
     },
     "metadata": {},
     "output_type": "display_data"
    },
    {
     "data": {
      "image/png": "[encoded data removed]",
      "text/plain": [
       "<Figure size 1080x576 with 1 Axes>"
      ]
     },
     "metadata": {
      "needs_background": "light"
     },
     "output_type": "display_data"
    }
   ],
   "source": [
    "display(df['type_name'].value_counts().plot(kind='bar'))"
   ]
  },
  {
   "cell_type": "code",
   "execution_count": 92,
   "metadata": {},
   "outputs": [
    {
     "data": {
      "text/plain": [
       "<AxesSubplot:>"
      ]
     },
     "metadata": {},
     "output_type": "display_data"
    },
    {
     "data": {
      "image/png": "[encoded data removed]",
      "text/plain": [
       "<Figure size 1080x576 with 1 Axes>"
      ]
     },
     "metadata": {
      "needs_background": "light"
     },
     "output_type": "display_data"
    }
   ],
   "source": [
    "display(df['ram_in_gb'].value_counts().plot(kind='bar'))"
   ]
  },
  {
   "cell_type": "code",
   "execution_count": 93,
   "metadata": {},
   "outputs": [
    {
     "data": {
      "text/plain": [
       "<AxesSubplot:>"
      ]
     },
     "metadata": {},
     "output_type": "display_data"
    },
    {
     "data": {
      "image/png": "[encoded data removed]",
      "text/plain": [
       "<Figure size 1080x576 with 1 Axes>"
      ]
     },
     "metadata": {
      "needs_background": "light"
     },
     "output_type": "display_data"
    }
   ],
   "source": [
    "display(df['op_sys'].value_counts().plot(kind='bar'))"
   ]
  },
  {
   "cell_type": "markdown",
   "metadata": {},
   "source": [
    "### **2.1 Missing values**"
   ]
  },
  {
   "cell_type": "code",
   "execution_count": 27,
   "metadata": {},
   "outputs": [
    {
     "data": {
      "text/plain": [
       "laptop_id                   0\n",
       "company                     0\n",
       "product                     0\n",
       "type_name                   0\n",
       "inches                      0\n",
       "cpu                         0\n",
       "ram_in_gb                   0\n",
       "gpu                         0\n",
       "op_sys                      0\n",
       "weight_in_kg                0\n",
       "price_euros                 0\n",
       "y_res                       0\n",
       "x_res                       0\n",
       "touch_screen                0\n",
       "screen_resolution_type    417\n",
       "processor                   0\n",
       "clock_speed_ghz             0\n",
       "hard_disk_type              0\n",
       "memory_gb                   0\n",
       "dtype: int64"
      ]
     },
     "execution_count": 27,
     "metadata": {},
     "output_type": "execute_result"
    }
   ],
   "source": [
    "df.isnull().sum()"
   ]
  },
  {
   "cell_type": "code",
   "execution_count": 28,
   "metadata": {},
   "outputs": [],
   "source": [
    "df['screen_resolution_type'].fillna('hd_ready', inplace=True)"
   ]
  },
  {
   "cell_type": "markdown",
   "metadata": {},
   "source": [
    "Great! no missing values"
   ]
  },
  {
   "cell_type": "markdown",
   "metadata": {},
   "source": [
    "### **2.2 Feature Importance Analysis**\n",
    "\n",
    "**Categorical Features**"
   ]
  },
  {
   "cell_type": "code",
   "execution_count": 29,
   "metadata": {},
   "outputs": [],
   "source": [
    "def mutual_info_churn_score(series):\n",
    "    return mutual_info_score(series, df['above_average'])"
   ]
  },
  {
   "cell_type": "code",
   "execution_count": 30,
   "metadata": {},
   "outputs": [],
   "source": [
    "df['above_average'] = (df.price_euros >= 1123).astype(int)"
   ]
  },
  {
   "cell_type": "code",
   "execution_count": 31,
   "metadata": {},
   "outputs": [
    {
     "data": {
      "text/html": [
       "<div>\n",
       "<style scoped>\n",
       "    .dataframe tbody tr th:only-of-type {\n",
       "        vertical-align: middle;\n",
       "    }\n",
       "\n",
       "    .dataframe tbody tr th {\n",
       "        vertical-align: top;\n",
       "    }\n",
       "\n",
       "    .dataframe thead th {\n",
       "        text-align: right;\n",
       "    }\n",
       "</style>\n",
       "<table border=\"1\" class=\"dataframe\">\n",
       "  <thead>\n",
       "    <tr style=\"text-align: right;\">\n",
       "      <th></th>\n",
       "      <th>laptop_id</th>\n",
       "      <th>company</th>\n",
       "      <th>product</th>\n",
       "      <th>type_name</th>\n",
       "      <th>inches</th>\n",
       "      <th>cpu</th>\n",
       "      <th>ram_in_gb</th>\n",
       "      <th>gpu</th>\n",
       "      <th>op_sys</th>\n",
       "      <th>weight_in_kg</th>\n",
       "      <th>price_euros</th>\n",
       "      <th>y_res</th>\n",
       "      <th>x_res</th>\n",
       "      <th>touch_screen</th>\n",
       "      <th>screen_resolution_type</th>\n",
       "      <th>processor</th>\n",
       "      <th>clock_speed_ghz</th>\n",
       "      <th>hard_disk_type</th>\n",
       "      <th>memory_gb</th>\n",
       "      <th>above_average</th>\n",
       "    </tr>\n",
       "  </thead>\n",
       "  <tbody>\n",
       "    <tr>\n",
       "      <th>0</th>\n",
       "      <td>1</td>\n",
       "      <td>apple</td>\n",
       "      <td>macbook_pro</td>\n",
       "      <td>ultrabook</td>\n",
       "      <td>13.3</td>\n",
       "      <td>intel_core_i5_2.3ghz</td>\n",
       "      <td>8</td>\n",
       "      <td>intel_iris_plus_graphics_640</td>\n",
       "      <td>macos</td>\n",
       "      <td>1.37</td>\n",
       "      <td>1339.69</td>\n",
       "      <td>1600</td>\n",
       "      <td>2560</td>\n",
       "      <td>0</td>\n",
       "      <td>hd_ready</td>\n",
       "      <td>intel_core_i5</td>\n",
       "      <td>2.3</td>\n",
       "      <td>ssd</td>\n",
       "      <td>128</td>\n",
       "      <td>1</td>\n",
       "    </tr>\n",
       "    <tr>\n",
       "      <th>1</th>\n",
       "      <td>2</td>\n",
       "      <td>apple</td>\n",
       "      <td>macbook_air</td>\n",
       "      <td>ultrabook</td>\n",
       "      <td>13.3</td>\n",
       "      <td>intel_core_i5_1.8ghz</td>\n",
       "      <td>8</td>\n",
       "      <td>intel_hd_graphics_6000</td>\n",
       "      <td>macos</td>\n",
       "      <td>1.34</td>\n",
       "      <td>898.94</td>\n",
       "      <td>900</td>\n",
       "      <td>1440</td>\n",
       "      <td>0</td>\n",
       "      <td>hd_ready</td>\n",
       "      <td>intel_core_i5</td>\n",
       "      <td>1.8</td>\n",
       "      <td>hdd</td>\n",
       "      <td>128</td>\n",
       "      <td>0</td>\n",
       "    </tr>\n",
       "    <tr>\n",
       "      <th>2</th>\n",
       "      <td>3</td>\n",
       "      <td>hp</td>\n",
       "      <td>250_g6</td>\n",
       "      <td>notebook</td>\n",
       "      <td>15.6</td>\n",
       "      <td>intel_core_i5_7200u_2.5ghz</td>\n",
       "      <td>8</td>\n",
       "      <td>intel_hd_graphics_620</td>\n",
       "      <td>no_os</td>\n",
       "      <td>1.86</td>\n",
       "      <td>575.00</td>\n",
       "      <td>1080</td>\n",
       "      <td>1920</td>\n",
       "      <td>0</td>\n",
       "      <td>full_hd</td>\n",
       "      <td>intel_core_i5_7200u</td>\n",
       "      <td>2.5</td>\n",
       "      <td>ssd</td>\n",
       "      <td>256</td>\n",
       "      <td>0</td>\n",
       "    </tr>\n",
       "    <tr>\n",
       "      <th>3</th>\n",
       "      <td>4</td>\n",
       "      <td>apple</td>\n",
       "      <td>macbook_pro</td>\n",
       "      <td>ultrabook</td>\n",
       "      <td>15.4</td>\n",
       "      <td>intel_core_i7_2.7ghz</td>\n",
       "      <td>16</td>\n",
       "      <td>amd_radeon_pro_455</td>\n",
       "      <td>macos</td>\n",
       "      <td>1.83</td>\n",
       "      <td>2537.45</td>\n",
       "      <td>1800</td>\n",
       "      <td>2880</td>\n",
       "      <td>0</td>\n",
       "      <td>hd_ready</td>\n",
       "      <td>intel_core_i7</td>\n",
       "      <td>2.7</td>\n",
       "      <td>ssd</td>\n",
       "      <td>512</td>\n",
       "      <td>1</td>\n",
       "    </tr>\n",
       "    <tr>\n",
       "      <th>4</th>\n",
       "      <td>5</td>\n",
       "      <td>apple</td>\n",
       "      <td>macbook_pro</td>\n",
       "      <td>ultrabook</td>\n",
       "      <td>13.3</td>\n",
       "      <td>intel_core_i5_3.1ghz</td>\n",
       "      <td>8</td>\n",
       "      <td>intel_iris_plus_graphics_650</td>\n",
       "      <td>macos</td>\n",
       "      <td>1.37</td>\n",
       "      <td>1803.60</td>\n",
       "      <td>1600</td>\n",
       "      <td>2560</td>\n",
       "      <td>0</td>\n",
       "      <td>hd_ready</td>\n",
       "      <td>intel_core_i5</td>\n",
       "      <td>3.1</td>\n",
       "      <td>ssd</td>\n",
       "      <td>256</td>\n",
       "      <td>1</td>\n",
       "    </tr>\n",
       "  </tbody>\n",
       "</table>\n",
       "</div>"
      ],
      "text/plain": [
       "   laptop_id company      product  type_name  inches  \\\n",
       "0          1   apple  macbook_pro  ultrabook    13.3   \n",
       "1          2   apple  macbook_air  ultrabook    13.3   \n",
       "2          3      hp       250_g6   notebook    15.6   \n",
       "3          4   apple  macbook_pro  ultrabook    15.4   \n",
       "4          5   apple  macbook_pro  ultrabook    13.3   \n",
       "\n",
       "                          cpu  ram_in_gb                           gpu op_sys  \\\n",
       "0        intel_core_i5_2.3ghz          8  intel_iris_plus_graphics_640  macos   \n",
       "1        intel_core_i5_1.8ghz          8        intel_hd_graphics_6000  macos   \n",
       "2  intel_core_i5_7200u_2.5ghz          8         intel_hd_graphics_620  no_os   \n",
       "3        intel_core_i7_2.7ghz         16            amd_radeon_pro_455  macos   \n",
       "4        intel_core_i5_3.1ghz          8  intel_iris_plus_graphics_650  macos   \n",
       "\n",
       "   weight_in_kg  price_euros y_res  x_res  touch_screen  \\\n",
       "0          1.37      1339.69  1600   2560             0   \n",
       "1          1.34       898.94   900   1440             0   \n",
       "2          1.86       575.00  1080   1920             0   \n",
       "3          1.83      2537.45  1800   2880             0   \n",
       "4          1.37      1803.60  1600   2560             0   \n",
       "\n",
       "  screen_resolution_type            processor clock_speed_ghz hard_disk_type  \\\n",
       "0               hd_ready        intel_core_i5             2.3            ssd   \n",
       "1               hd_ready        intel_core_i5             1.8            hdd   \n",
       "2                full_hd  intel_core_i5_7200u             2.5            ssd   \n",
       "3               hd_ready        intel_core_i7             2.7            ssd   \n",
       "4               hd_ready        intel_core_i5             3.1            ssd   \n",
       "\n",
       "   memory_gb  above_average  \n",
       "0        128              1  \n",
       "1        128              0  \n",
       "2        256              0  \n",
       "3        512              1  \n",
       "4        256              1  "
      ]
     },
     "execution_count": 31,
     "metadata": {},
     "output_type": "execute_result"
    }
   ],
   "source": [
    "df.head()"
   ]
  },
  {
   "cell_type": "code",
   "execution_count": 32,
   "metadata": {},
   "outputs": [
    {
     "data": {
      "text/plain": [
       "product                   0.55\n",
       "cpu                       0.30\n",
       "processor                 0.29\n",
       "gpu                       0.25\n",
       "clock_speed_ghz           0.21\n",
       "type_name                 0.19\n",
       "y_res                     0.16\n",
       "hard_disk_type            0.15\n",
       "company                   0.07\n",
       "op_sys                    0.06\n",
       "screen_resolution_type    0.06\n",
       "dtype: float64"
      ]
     },
     "execution_count": 32,
     "metadata": {},
     "output_type": "execute_result"
    }
   ],
   "source": [
    "mi = df[categorical].apply(mutual_info_churn_score)\n",
    "mi_score = mi.sort_values(ascending=False)\n",
    "round(mi_score, 2)"
   ]
  },
  {
   "cell_type": "markdown",
   "metadata": {},
   "source": [
    "**Numerical Features**"
   ]
  },
  {
   "cell_type": "code",
   "execution_count": 33,
   "metadata": {},
   "outputs": [
    {
     "data": {
      "text/html": [
       "<div>\n",
       "<style scoped>\n",
       "    .dataframe tbody tr th:only-of-type {\n",
       "        vertical-align: middle;\n",
       "    }\n",
       "\n",
       "    .dataframe tbody tr th {\n",
       "        vertical-align: top;\n",
       "    }\n",
       "\n",
       "    .dataframe thead th {\n",
       "        text-align: right;\n",
       "    }\n",
       "</style>\n",
       "<table border=\"1\" class=\"dataframe\">\n",
       "  <thead>\n",
       "    <tr style=\"text-align: right;\">\n",
       "      <th></th>\n",
       "      <th>laptop_id</th>\n",
       "      <th>inches</th>\n",
       "      <th>ram_in_gb</th>\n",
       "      <th>weight_in_kg</th>\n",
       "      <th>price_euros</th>\n",
       "      <th>x_res</th>\n",
       "      <th>touch_screen</th>\n",
       "      <th>memory_gb</th>\n",
       "      <th>above_average</th>\n",
       "    </tr>\n",
       "  </thead>\n",
       "  <tbody>\n",
       "    <tr>\n",
       "      <th>laptop_id</th>\n",
       "      <td>1.000000</td>\n",
       "      <td>-0.087796</td>\n",
       "      <td>-0.028607</td>\n",
       "      <td>-0.011798</td>\n",
       "      <td>0.067830</td>\n",
       "      <td>-0.042878</td>\n",
       "      <td>0.051558</td>\n",
       "      <td>-0.024488</td>\n",
       "      <td>0.098395</td>\n",
       "    </tr>\n",
       "    <tr>\n",
       "      <th>inches</th>\n",
       "      <td>-0.087796</td>\n",
       "      <td>1.000000</td>\n",
       "      <td>0.237993</td>\n",
       "      <td>0.827631</td>\n",
       "      <td>0.068197</td>\n",
       "      <td>-0.071245</td>\n",
       "      <td>-0.361735</td>\n",
       "      <td>0.538358</td>\n",
       "      <td>-0.069259</td>\n",
       "    </tr>\n",
       "    <tr>\n",
       "      <th>ram_in_gb</th>\n",
       "      <td>-0.028607</td>\n",
       "      <td>0.237993</td>\n",
       "      <td>1.000000</td>\n",
       "      <td>0.383874</td>\n",
       "      <td>0.743007</td>\n",
       "      <td>0.433121</td>\n",
       "      <td>0.116984</td>\n",
       "      <td>0.351363</td>\n",
       "      <td>0.549610</td>\n",
       "    </tr>\n",
       "    <tr>\n",
       "      <th>weight_in_kg</th>\n",
       "      <td>-0.011798</td>\n",
       "      <td>0.827631</td>\n",
       "      <td>0.383874</td>\n",
       "      <td>1.000000</td>\n",
       "      <td>0.210370</td>\n",
       "      <td>-0.032880</td>\n",
       "      <td>-0.294620</td>\n",
       "      <td>0.549754</td>\n",
       "      <td>0.028164</td>\n",
       "    </tr>\n",
       "    <tr>\n",
       "      <th>price_euros</th>\n",
       "      <td>0.067830</td>\n",
       "      <td>0.068197</td>\n",
       "      <td>0.743007</td>\n",
       "      <td>0.210370</td>\n",
       "      <td>1.000000</td>\n",
       "      <td>0.556529</td>\n",
       "      <td>0.191226</td>\n",
       "      <td>0.160819</td>\n",
       "      <td>0.777828</td>\n",
       "    </tr>\n",
       "    <tr>\n",
       "      <th>x_res</th>\n",
       "      <td>-0.042878</td>\n",
       "      <td>-0.071245</td>\n",
       "      <td>0.433121</td>\n",
       "      <td>-0.032880</td>\n",
       "      <td>0.556529</td>\n",
       "      <td>1.000000</td>\n",
       "      <td>0.351066</td>\n",
       "      <td>0.071531</td>\n",
       "      <td>0.453101</td>\n",
       "    </tr>\n",
       "    <tr>\n",
       "      <th>touch_screen</th>\n",
       "      <td>0.051558</td>\n",
       "      <td>-0.361735</td>\n",
       "      <td>0.116984</td>\n",
       "      <td>-0.294620</td>\n",
       "      <td>0.191226</td>\n",
       "      <td>0.351066</td>\n",
       "      <td>1.000000</td>\n",
       "      <td>-0.138481</td>\n",
       "      <td>0.171686</td>\n",
       "    </tr>\n",
       "    <tr>\n",
       "      <th>memory_gb</th>\n",
       "      <td>-0.024488</td>\n",
       "      <td>0.538358</td>\n",
       "      <td>0.351363</td>\n",
       "      <td>0.549754</td>\n",
       "      <td>0.160819</td>\n",
       "      <td>0.071531</td>\n",
       "      <td>-0.138481</td>\n",
       "      <td>1.000000</td>\n",
       "      <td>0.082523</td>\n",
       "    </tr>\n",
       "    <tr>\n",
       "      <th>above_average</th>\n",
       "      <td>0.098395</td>\n",
       "      <td>-0.069259</td>\n",
       "      <td>0.549610</td>\n",
       "      <td>0.028164</td>\n",
       "      <td>0.777828</td>\n",
       "      <td>0.453101</td>\n",
       "      <td>0.171686</td>\n",
       "      <td>0.082523</td>\n",
       "      <td>1.000000</td>\n",
       "    </tr>\n",
       "  </tbody>\n",
       "</table>\n",
       "</div>"
      ],
      "text/plain": [
       "               laptop_id    inches  ram_in_gb  weight_in_kg  price_euros  \\\n",
       "laptop_id       1.000000 -0.087796  -0.028607     -0.011798     0.067830   \n",
       "inches         -0.087796  1.000000   0.237993      0.827631     0.068197   \n",
       "ram_in_gb      -0.028607  0.237993   1.000000      0.383874     0.743007   \n",
       "weight_in_kg   -0.011798  0.827631   0.383874      1.000000     0.210370   \n",
       "price_euros     0.067830  0.068197   0.743007      0.210370     1.000000   \n",
       "x_res          -0.042878 -0.071245   0.433121     -0.032880     0.556529   \n",
       "touch_screen    0.051558 -0.361735   0.116984     -0.294620     0.191226   \n",
       "memory_gb      -0.024488  0.538358   0.351363      0.549754     0.160819   \n",
       "above_average   0.098395 -0.069259   0.549610      0.028164     0.777828   \n",
       "\n",
       "                  x_res  touch_screen  memory_gb  above_average  \n",
       "laptop_id     -0.042878      0.051558  -0.024488       0.098395  \n",
       "inches        -0.071245     -0.361735   0.538358      -0.069259  \n",
       "ram_in_gb      0.433121      0.116984   0.351363       0.549610  \n",
       "weight_in_kg  -0.032880     -0.294620   0.549754       0.028164  \n",
       "price_euros    0.556529      0.191226   0.160819       0.777828  \n",
       "x_res          1.000000      0.351066   0.071531       0.453101  \n",
       "touch_screen   0.351066      1.000000  -0.138481       0.171686  \n",
       "memory_gb      0.071531     -0.138481   1.000000       0.082523  \n",
       "above_average  0.453101      0.171686   0.082523       1.000000  "
      ]
     },
     "execution_count": 33,
     "metadata": {},
     "output_type": "execute_result"
    }
   ],
   "source": [
    "df.corr()"
   ]
  },
  {
   "cell_type": "code",
   "execution_count": 34,
   "metadata": {},
   "outputs": [
    {
     "data": {
      "text/plain": [
       "<AxesSubplot:>"
      ]
     },
     "execution_count": 34,
     "metadata": {},
     "output_type": "execute_result"
    },
    {
     "data": {
      "image/png": "[encoded data removed]",
      "text/plain": [
       "<Figure size 576x360 with 2 Axes>"
      ]
     },
     "metadata": {
      "needs_background": "light"
     },
     "output_type": "display_data"
    }
   ],
   "source": [
    "figure = plt.figure(figsize=(8,5))\n",
    "sns.heatmap(df.corr(),vmin=-1,center=0,vmax=1,annot=True)"
   ]
  },
  {
   "cell_type": "markdown",
   "metadata": {},
   "source": [
    "Convert everything into numeric and see the correlation"
   ]
  },
  {
   "cell_type": "code",
   "execution_count": 35,
   "metadata": {},
   "outputs": [],
   "source": [
    "encode = LabelEncoder()"
   ]
  },
  {
   "cell_type": "code",
   "execution_count": 36,
   "metadata": {},
   "outputs": [],
   "source": [
    "df_num = df.copy()\n",
    "for col in df_num.columns:\n",
    "    df_num[col] = encode.fit_transform(df_num[col])"
   ]
  },
  {
   "cell_type": "code",
   "execution_count": 37,
   "metadata": {},
   "outputs": [
    {
     "data": {
      "text/html": [
       "<div>\n",
       "<style scoped>\n",
       "    .dataframe tbody tr th:only-of-type {\n",
       "        vertical-align: middle;\n",
       "    }\n",
       "\n",
       "    .dataframe tbody tr th {\n",
       "        vertical-align: top;\n",
       "    }\n",
       "\n",
       "    .dataframe thead th {\n",
       "        text-align: right;\n",
       "    }\n",
       "</style>\n",
       "<table border=\"1\" class=\"dataframe\">\n",
       "  <thead>\n",
       "    <tr style=\"text-align: right;\">\n",
       "      <th></th>\n",
       "      <th>laptop_id</th>\n",
       "      <th>company</th>\n",
       "      <th>product</th>\n",
       "      <th>type_name</th>\n",
       "      <th>inches</th>\n",
       "      <th>cpu</th>\n",
       "      <th>ram_in_gb</th>\n",
       "      <th>gpu</th>\n",
       "      <th>op_sys</th>\n",
       "      <th>weight_in_kg</th>\n",
       "      <th>price_euros</th>\n",
       "      <th>y_res</th>\n",
       "      <th>x_res</th>\n",
       "      <th>touch_screen</th>\n",
       "      <th>screen_resolution_type</th>\n",
       "      <th>processor</th>\n",
       "      <th>clock_speed_ghz</th>\n",
       "      <th>hard_disk_type</th>\n",
       "      <th>memory_gb</th>\n",
       "      <th>above_average</th>\n",
       "    </tr>\n",
       "  </thead>\n",
       "  <tbody>\n",
       "    <tr>\n",
       "      <th>0</th>\n",
       "      <td>0</td>\n",
       "      <td>1</td>\n",
       "      <td>289</td>\n",
       "      <td>4</td>\n",
       "      <td>7</td>\n",
       "      <td>53</td>\n",
       "      <td>3</td>\n",
       "      <td>58</td>\n",
       "      <td>4</td>\n",
       "      <td>37</td>\n",
       "      <td>524</td>\n",
       "      <td>4</td>\n",
       "      <td>8</td>\n",
       "      <td>0</td>\n",
       "      <td>2</td>\n",
       "      <td>40</td>\n",
       "      <td>16</td>\n",
       "      <td>2</td>\n",
       "      <td>4</td>\n",
       "      <td>1</td>\n",
       "    </tr>\n",
       "    <tr>\n",
       "      <th>1</th>\n",
       "      <td>1</td>\n",
       "      <td>1</td>\n",
       "      <td>288</td>\n",
       "      <td>4</td>\n",
       "      <td>7</td>\n",
       "      <td>51</td>\n",
       "      <td>3</td>\n",
       "      <td>51</td>\n",
       "      <td>4</td>\n",
       "      <td>34</td>\n",
       "      <td>342</td>\n",
       "      <td>9</td>\n",
       "      <td>1</td>\n",
       "      <td>0</td>\n",
       "      <td>2</td>\n",
       "      <td>40</td>\n",
       "      <td>9</td>\n",
       "      <td>0</td>\n",
       "      <td>4</td>\n",
       "      <td>0</td>\n",
       "    </tr>\n",
       "    <tr>\n",
       "      <th>2</th>\n",
       "      <td>2</td>\n",
       "      <td>7</td>\n",
       "      <td>50</td>\n",
       "      <td>3</td>\n",
       "      <td>14</td>\n",
       "      <td>62</td>\n",
       "      <td>3</td>\n",
       "      <td>53</td>\n",
       "      <td>5</td>\n",
       "      <td>72</td>\n",
       "      <td>168</td>\n",
       "      <td>0</td>\n",
       "      <td>3</td>\n",
       "      <td>0</td>\n",
       "      <td>1</td>\n",
       "      <td>46</td>\n",
       "      <td>18</td>\n",
       "      <td>2</td>\n",
       "      <td>7</td>\n",
       "      <td>0</td>\n",
       "    </tr>\n",
       "    <tr>\n",
       "      <th>3</th>\n",
       "      <td>3</td>\n",
       "      <td>1</td>\n",
       "      <td>289</td>\n",
       "      <td>4</td>\n",
       "      <td>13</td>\n",
       "      <td>73</td>\n",
       "      <td>5</td>\n",
       "      <td>9</td>\n",
       "      <td>4</td>\n",
       "      <td>69</td>\n",
       "      <td>745</td>\n",
       "      <td>5</td>\n",
       "      <td>10</td>\n",
       "      <td>0</td>\n",
       "      <td>2</td>\n",
       "      <td>54</td>\n",
       "      <td>21</td>\n",
       "      <td>2</td>\n",
       "      <td>10</td>\n",
       "      <td>1</td>\n",
       "    </tr>\n",
       "    <tr>\n",
       "      <th>4</th>\n",
       "      <td>4</td>\n",
       "      <td>1</td>\n",
       "      <td>289</td>\n",
       "      <td>4</td>\n",
       "      <td>7</td>\n",
       "      <td>55</td>\n",
       "      <td>3</td>\n",
       "      <td>59</td>\n",
       "      <td>4</td>\n",
       "      <td>37</td>\n",
       "      <td>637</td>\n",
       "      <td>4</td>\n",
       "      <td>8</td>\n",
       "      <td>0</td>\n",
       "      <td>2</td>\n",
       "      <td>40</td>\n",
       "      <td>26</td>\n",
       "      <td>2</td>\n",
       "      <td>7</td>\n",
       "      <td>1</td>\n",
       "    </tr>\n",
       "  </tbody>\n",
       "</table>\n",
       "</div>"
      ],
      "text/plain": [
       "   laptop_id  company  product  type_name  inches  cpu  ram_in_gb  gpu  \\\n",
       "0          0        1      289          4       7   53          3   58   \n",
       "1          1        1      288          4       7   51          3   51   \n",
       "2          2        7       50          3      14   62          3   53   \n",
       "3          3        1      289          4      13   73          5    9   \n",
       "4          4        1      289          4       7   55          3   59   \n",
       "\n",
       "   op_sys  weight_in_kg  price_euros  y_res  x_res  touch_screen  \\\n",
       "0       4            37          524      4      8             0   \n",
       "1       4            34          342      9      1             0   \n",
       "2       5            72          168      0      3             0   \n",
       "3       4            69          745      5     10             0   \n",
       "4       4            37          637      4      8             0   \n",
       "\n",
       "   screen_resolution_type  processor  clock_speed_ghz  hard_disk_type  \\\n",
       "0                       2         40               16               2   \n",
       "1                       2         40                9               0   \n",
       "2                       1         46               18               2   \n",
       "3                       2         54               21               2   \n",
       "4                       2         40               26               2   \n",
       "\n",
       "   memory_gb  above_average  \n",
       "0          4              1  \n",
       "1          4              0  \n",
       "2          7              0  \n",
       "3         10              1  \n",
       "4          7              1  "
      ]
     },
     "execution_count": 37,
     "metadata": {},
     "output_type": "execute_result"
    }
   ],
   "source": [
    "df_num.head()"
   ]
  },
  {
   "cell_type": "code",
   "execution_count": 38,
   "metadata": {},
   "outputs": [
    {
     "data": {
      "text/html": [
       "<div>\n",
       "<style scoped>\n",
       "    .dataframe tbody tr th:only-of-type {\n",
       "        vertical-align: middle;\n",
       "    }\n",
       "\n",
       "    .dataframe tbody tr th {\n",
       "        vertical-align: top;\n",
       "    }\n",
       "\n",
       "    .dataframe thead th {\n",
       "        text-align: right;\n",
       "    }\n",
       "</style>\n",
       "<table border=\"1\" class=\"dataframe\">\n",
       "  <thead>\n",
       "    <tr style=\"text-align: right;\">\n",
       "      <th></th>\n",
       "      <th>laptop_id</th>\n",
       "      <th>company</th>\n",
       "      <th>product</th>\n",
       "      <th>type_name</th>\n",
       "      <th>inches</th>\n",
       "      <th>cpu</th>\n",
       "      <th>ram_in_gb</th>\n",
       "      <th>gpu</th>\n",
       "      <th>op_sys</th>\n",
       "      <th>weight_in_kg</th>\n",
       "      <th>price_euros</th>\n",
       "      <th>y_res</th>\n",
       "      <th>x_res</th>\n",
       "      <th>touch_screen</th>\n",
       "      <th>screen_resolution_type</th>\n",
       "      <th>processor</th>\n",
       "      <th>clock_speed_ghz</th>\n",
       "      <th>hard_disk_type</th>\n",
       "      <th>memory_gb</th>\n",
       "      <th>above_average</th>\n",
       "    </tr>\n",
       "  </thead>\n",
       "  <tbody>\n",
       "    <tr>\n",
       "      <th>laptop_id</th>\n",
       "      <td>1.000000</td>\n",
       "      <td>0.112377</td>\n",
       "      <td>0.027740</td>\n",
       "      <td>-0.083174</td>\n",
       "      <td>-0.079075</td>\n",
       "      <td>-0.031849</td>\n",
       "      <td>-0.059045</td>\n",
       "      <td>-0.004907</td>\n",
       "      <td>0.074740</td>\n",
       "      <td>-0.025287</td>\n",
       "      <td>0.071774</td>\n",
       "      <td>0.092660</td>\n",
       "      <td>-0.041915</td>\n",
       "      <td>0.051547</td>\n",
       "      <td>0.105285</td>\n",
       "      <td>-0.043142</td>\n",
       "      <td>0.108641</td>\n",
       "      <td>-0.072085</td>\n",
       "      <td>-0.025298</td>\n",
       "      <td>0.098451</td>\n",
       "    </tr>\n",
       "    <tr>\n",
       "      <th>company</th>\n",
       "      <td>0.112377</td>\n",
       "      <td>1.000000</td>\n",
       "      <td>0.032530</td>\n",
       "      <td>-0.027247</td>\n",
       "      <td>-0.055414</td>\n",
       "      <td>0.040047</td>\n",
       "      <td>0.090004</td>\n",
       "      <td>0.055956</td>\n",
       "      <td>0.217338</td>\n",
       "      <td>-0.119122</td>\n",
       "      <td>0.182401</td>\n",
       "      <td>-0.133810</td>\n",
       "      <td>0.052789</td>\n",
       "      <td>0.023923</td>\n",
       "      <td>-0.119395</td>\n",
       "      <td>0.020506</td>\n",
       "      <td>0.153464</td>\n",
       "      <td>0.167333</td>\n",
       "      <td>-0.042957</td>\n",
       "      <td>0.163962</td>\n",
       "    </tr>\n",
       "    <tr>\n",
       "      <th>product</th>\n",
       "      <td>0.027740</td>\n",
       "      <td>0.032530</td>\n",
       "      <td>1.000000</td>\n",
       "      <td>0.061698</td>\n",
       "      <td>-0.211070</td>\n",
       "      <td>0.136616</td>\n",
       "      <td>0.057314</td>\n",
       "      <td>0.091214</td>\n",
       "      <td>0.125935</td>\n",
       "      <td>-0.260451</td>\n",
       "      <td>0.200797</td>\n",
       "      <td>-0.065058</td>\n",
       "      <td>0.170029</td>\n",
       "      <td>0.203601</td>\n",
       "      <td>-0.050935</td>\n",
       "      <td>0.136528</td>\n",
       "      <td>-0.044757</td>\n",
       "      <td>0.220793</td>\n",
       "      <td>-0.168101</td>\n",
       "      <td>0.159033</td>\n",
       "    </tr>\n",
       "    <tr>\n",
       "      <th>type_name</th>\n",
       "      <td>-0.083174</td>\n",
       "      <td>-0.027247</td>\n",
       "      <td>0.061698</td>\n",
       "      <td>1.000000</td>\n",
       "      <td>-0.025371</td>\n",
       "      <td>-0.122668</td>\n",
       "      <td>-0.218998</td>\n",
       "      <td>-0.219079</td>\n",
       "      <td>0.019763</td>\n",
       "      <td>-0.225018</td>\n",
       "      <td>-0.127454</td>\n",
       "      <td>0.136244</td>\n",
       "      <td>-0.076055</td>\n",
       "      <td>-0.417188</td>\n",
       "      <td>0.141203</td>\n",
       "      <td>-0.118558</td>\n",
       "      <td>-0.102799</td>\n",
       "      <td>0.043512</td>\n",
       "      <td>-0.252094</td>\n",
       "      <td>-0.111790</td>\n",
       "    </tr>\n",
       "    <tr>\n",
       "      <th>inches</th>\n",
       "      <td>-0.079075</td>\n",
       "      <td>-0.055414</td>\n",
       "      <td>-0.211070</td>\n",
       "      <td>-0.025371</td>\n",
       "      <td>1.000000</td>\n",
       "      <td>0.042651</td>\n",
       "      <td>0.147186</td>\n",
       "      <td>0.180075</td>\n",
       "      <td>0.096209</td>\n",
       "      <td>0.846909</td>\n",
       "      <td>-0.064207</td>\n",
       "      <td>-0.066440</td>\n",
       "      <td>-0.129419</td>\n",
       "      <td>-0.390961</td>\n",
       "      <td>-0.149756</td>\n",
       "      <td>0.028666</td>\n",
       "      <td>0.317203</td>\n",
       "      <td>-0.252512</td>\n",
       "      <td>0.519893</td>\n",
       "      <td>-0.130655</td>\n",
       "    </tr>\n",
       "    <tr>\n",
       "      <th>cpu</th>\n",
       "      <td>-0.031849</td>\n",
       "      <td>0.040047</td>\n",
       "      <td>0.136616</td>\n",
       "      <td>-0.122668</td>\n",
       "      <td>0.042651</td>\n",
       "      <td>1.000000</td>\n",
       "      <td>0.549761</td>\n",
       "      <td>0.460128</td>\n",
       "      <td>0.097634</td>\n",
       "      <td>0.083041</td>\n",
       "      <td>0.595289</td>\n",
       "      <td>-0.320077</td>\n",
       "      <td>0.352849</td>\n",
       "      <td>0.140509</td>\n",
       "      <td>-0.356863</td>\n",
       "      <td>0.994382</td>\n",
       "      <td>0.171721</td>\n",
       "      <td>0.255286</td>\n",
       "      <td>0.303262</td>\n",
       "      <td>0.455567</td>\n",
       "    </tr>\n",
       "    <tr>\n",
       "      <th>ram_in_gb</th>\n",
       "      <td>-0.059045</td>\n",
       "      <td>0.090004</td>\n",
       "      <td>0.057314</td>\n",
       "      <td>-0.218998</td>\n",
       "      <td>0.147186</td>\n",
       "      <td>0.549761</td>\n",
       "      <td>1.000000</td>\n",
       "      <td>0.431988</td>\n",
       "      <td>0.164737</td>\n",
       "      <td>0.214365</td>\n",
       "      <td>0.765207</td>\n",
       "      <td>-0.373905</td>\n",
       "      <td>0.484089</td>\n",
       "      <td>0.138358</td>\n",
       "      <td>-0.452880</td>\n",
       "      <td>0.510720</td>\n",
       "      <td>0.434683</td>\n",
       "      <td>0.349492</td>\n",
       "      <td>0.458561</td>\n",
       "      <td>0.616652</td>\n",
       "    </tr>\n",
       "    <tr>\n",
       "      <th>gpu</th>\n",
       "      <td>-0.004907</td>\n",
       "      <td>0.055956</td>\n",
       "      <td>0.091214</td>\n",
       "      <td>-0.219079</td>\n",
       "      <td>0.180075</td>\n",
       "      <td>0.460128</td>\n",
       "      <td>0.431988</td>\n",
       "      <td>1.000000</td>\n",
       "      <td>0.136916</td>\n",
       "      <td>0.297471</td>\n",
       "      <td>0.462087</td>\n",
       "      <td>-0.221943</td>\n",
       "      <td>0.220029</td>\n",
       "      <td>0.002413</td>\n",
       "      <td>-0.322632</td>\n",
       "      <td>0.449140</td>\n",
       "      <td>0.325882</td>\n",
       "      <td>0.110910</td>\n",
       "      <td>0.272917</td>\n",
       "      <td>0.352362</td>\n",
       "    </tr>\n",
       "    <tr>\n",
       "      <th>op_sys</th>\n",
       "      <td>0.074740</td>\n",
       "      <td>0.217338</td>\n",
       "      <td>0.125935</td>\n",
       "      <td>0.019763</td>\n",
       "      <td>0.096209</td>\n",
       "      <td>0.097634</td>\n",
       "      <td>0.164737</td>\n",
       "      <td>0.136916</td>\n",
       "      <td>1.000000</td>\n",
       "      <td>0.043018</td>\n",
       "      <td>0.286227</td>\n",
       "      <td>-0.180030</td>\n",
       "      <td>0.091301</td>\n",
       "      <td>0.017286</td>\n",
       "      <td>-0.222795</td>\n",
       "      <td>0.067403</td>\n",
       "      <td>0.218385</td>\n",
       "      <td>0.225422</td>\n",
       "      <td>0.100910</td>\n",
       "      <td>0.227249</td>\n",
       "    </tr>\n",
       "    <tr>\n",
       "      <th>weight_in_kg</th>\n",
       "      <td>-0.025287</td>\n",
       "      <td>-0.119122</td>\n",
       "      <td>-0.260451</td>\n",
       "      <td>-0.225018</td>\n",
       "      <td>0.846909</td>\n",
       "      <td>0.083041</td>\n",
       "      <td>0.214365</td>\n",
       "      <td>0.297471</td>\n",
       "      <td>0.043018</td>\n",
       "      <td>1.000000</td>\n",
       "      <td>-0.015488</td>\n",
       "      <td>-0.044424</td>\n",
       "      <td>-0.128447</td>\n",
       "      <td>-0.341345</td>\n",
       "      <td>-0.146892</td>\n",
       "      <td>0.073685</td>\n",
       "      <td>0.324227</td>\n",
       "      <td>-0.300428</td>\n",
       "      <td>0.569385</td>\n",
       "      <td>-0.091027</td>\n",
       "    </tr>\n",
       "    <tr>\n",
       "      <th>price_euros</th>\n",
       "      <td>0.071774</td>\n",
       "      <td>0.182401</td>\n",
       "      <td>0.200797</td>\n",
       "      <td>-0.127454</td>\n",
       "      <td>-0.064207</td>\n",
       "      <td>0.595289</td>\n",
       "      <td>0.765207</td>\n",
       "      <td>0.462087</td>\n",
       "      <td>0.286227</td>\n",
       "      <td>-0.015488</td>\n",
       "      <td>1.000000</td>\n",
       "      <td>-0.414260</td>\n",
       "      <td>0.558606</td>\n",
       "      <td>0.201075</td>\n",
       "      <td>-0.463830</td>\n",
       "      <td>0.548198</td>\n",
       "      <td>0.483738</td>\n",
       "      <td>0.498143</td>\n",
       "      <td>0.269495</td>\n",
       "      <td>0.853684</td>\n",
       "    </tr>\n",
       "    <tr>\n",
       "      <th>y_res</th>\n",
       "      <td>0.092660</td>\n",
       "      <td>-0.133810</td>\n",
       "      <td>-0.065058</td>\n",
       "      <td>0.136244</td>\n",
       "      <td>-0.066440</td>\n",
       "      <td>-0.320077</td>\n",
       "      <td>-0.373905</td>\n",
       "      <td>-0.221943</td>\n",
       "      <td>-0.180030</td>\n",
       "      <td>-0.044424</td>\n",
       "      <td>-0.414260</td>\n",
       "      <td>1.000000</td>\n",
       "      <td>-0.234173</td>\n",
       "      <td>0.003989</td>\n",
       "      <td>0.710688</td>\n",
       "      <td>-0.282815</td>\n",
       "      <td>-0.283420</td>\n",
       "      <td>-0.361663</td>\n",
       "      <td>-0.158445</td>\n",
       "      <td>-0.296377</td>\n",
       "    </tr>\n",
       "    <tr>\n",
       "      <th>x_res</th>\n",
       "      <td>-0.041915</td>\n",
       "      <td>0.052789</td>\n",
       "      <td>0.170029</td>\n",
       "      <td>-0.076055</td>\n",
       "      <td>-0.129419</td>\n",
       "      <td>0.352849</td>\n",
       "      <td>0.484089</td>\n",
       "      <td>0.220029</td>\n",
       "      <td>0.091301</td>\n",
       "      <td>-0.128447</td>\n",
       "      <td>0.558606</td>\n",
       "      <td>-0.234173</td>\n",
       "      <td>1.000000</td>\n",
       "      <td>0.361437</td>\n",
       "      <td>-0.483754</td>\n",
       "      <td>0.329804</td>\n",
       "      <td>0.183835</td>\n",
       "      <td>0.369311</td>\n",
       "      <td>0.125639</td>\n",
       "      <td>0.465014</td>\n",
       "    </tr>\n",
       "    <tr>\n",
       "      <th>touch_screen</th>\n",
       "      <td>0.051547</td>\n",
       "      <td>0.023923</td>\n",
       "      <td>0.203601</td>\n",
       "      <td>-0.417188</td>\n",
       "      <td>-0.390961</td>\n",
       "      <td>0.140509</td>\n",
       "      <td>0.138358</td>\n",
       "      <td>0.002413</td>\n",
       "      <td>0.017286</td>\n",
       "      <td>-0.341345</td>\n",
       "      <td>0.201075</td>\n",
       "      <td>0.003989</td>\n",
       "      <td>0.361437</td>\n",
       "      <td>1.000000</td>\n",
       "      <td>-0.050400</td>\n",
       "      <td>0.138881</td>\n",
       "      <td>-0.084915</td>\n",
       "      <td>0.213002</td>\n",
       "      <td>-0.122397</td>\n",
       "      <td>0.171686</td>\n",
       "    </tr>\n",
       "    <tr>\n",
       "      <th>screen_resolution_type</th>\n",
       "      <td>0.105285</td>\n",
       "      <td>-0.119395</td>\n",
       "      <td>-0.050935</td>\n",
       "      <td>0.141203</td>\n",
       "      <td>-0.149756</td>\n",
       "      <td>-0.356863</td>\n",
       "      <td>-0.452880</td>\n",
       "      <td>-0.322632</td>\n",
       "      <td>-0.222795</td>\n",
       "      <td>-0.146892</td>\n",
       "      <td>-0.463830</td>\n",
       "      <td>0.710688</td>\n",
       "      <td>-0.483754</td>\n",
       "      <td>-0.050400</td>\n",
       "      <td>1.000000</td>\n",
       "      <td>-0.324856</td>\n",
       "      <td>-0.312237</td>\n",
       "      <td>-0.344332</td>\n",
       "      <td>-0.240992</td>\n",
       "      <td>-0.326317</td>\n",
       "    </tr>\n",
       "    <tr>\n",
       "      <th>processor</th>\n",
       "      <td>-0.043142</td>\n",
       "      <td>0.020506</td>\n",
       "      <td>0.136528</td>\n",
       "      <td>-0.118558</td>\n",
       "      <td>0.028666</td>\n",
       "      <td>0.994382</td>\n",
       "      <td>0.510720</td>\n",
       "      <td>0.449140</td>\n",
       "      <td>0.067403</td>\n",
       "      <td>0.073685</td>\n",
       "      <td>0.548198</td>\n",
       "      <td>-0.282815</td>\n",
       "      <td>0.329804</td>\n",
       "      <td>0.138881</td>\n",
       "      <td>-0.324856</td>\n",
       "      <td>1.000000</td>\n",
       "      <td>0.104243</td>\n",
       "      <td>0.223437</td>\n",
       "      <td>0.284158</td>\n",
       "      <td>0.425644</td>\n",
       "    </tr>\n",
       "    <tr>\n",
       "      <th>clock_speed_ghz</th>\n",
       "      <td>0.108641</td>\n",
       "      <td>0.153464</td>\n",
       "      <td>-0.044757</td>\n",
       "      <td>-0.102799</td>\n",
       "      <td>0.317203</td>\n",
       "      <td>0.171721</td>\n",
       "      <td>0.434683</td>\n",
       "      <td>0.325882</td>\n",
       "      <td>0.218385</td>\n",
       "      <td>0.324227</td>\n",
       "      <td>0.483738</td>\n",
       "      <td>-0.283420</td>\n",
       "      <td>0.183835</td>\n",
       "      <td>-0.084915</td>\n",
       "      <td>-0.312237</td>\n",
       "      <td>0.104243</td>\n",
       "      <td>1.000000</td>\n",
       "      <td>0.185824</td>\n",
       "      <td>0.342254</td>\n",
       "      <td>0.357988</td>\n",
       "    </tr>\n",
       "    <tr>\n",
       "      <th>hard_disk_type</th>\n",
       "      <td>-0.072085</td>\n",
       "      <td>0.167333</td>\n",
       "      <td>0.220793</td>\n",
       "      <td>0.043512</td>\n",
       "      <td>-0.252512</td>\n",
       "      <td>0.255286</td>\n",
       "      <td>0.349492</td>\n",
       "      <td>0.110910</td>\n",
       "      <td>0.225422</td>\n",
       "      <td>-0.300428</td>\n",
       "      <td>0.498143</td>\n",
       "      <td>-0.361663</td>\n",
       "      <td>0.369311</td>\n",
       "      <td>0.213002</td>\n",
       "      <td>-0.344332</td>\n",
       "      <td>0.223437</td>\n",
       "      <td>0.185824</td>\n",
       "      <td>1.000000</td>\n",
       "      <td>-0.336284</td>\n",
       "      <td>0.409979</td>\n",
       "    </tr>\n",
       "    <tr>\n",
       "      <th>memory_gb</th>\n",
       "      <td>-0.025298</td>\n",
       "      <td>-0.042957</td>\n",
       "      <td>-0.168101</td>\n",
       "      <td>-0.252094</td>\n",
       "      <td>0.519893</td>\n",
       "      <td>0.303262</td>\n",
       "      <td>0.458561</td>\n",
       "      <td>0.272917</td>\n",
       "      <td>0.100910</td>\n",
       "      <td>0.569385</td>\n",
       "      <td>0.269495</td>\n",
       "      <td>-0.158445</td>\n",
       "      <td>0.125639</td>\n",
       "      <td>-0.122397</td>\n",
       "      <td>-0.240992</td>\n",
       "      <td>0.284158</td>\n",
       "      <td>0.342254</td>\n",
       "      <td>-0.336284</td>\n",
       "      <td>1.000000</td>\n",
       "      <td>0.195810</td>\n",
       "    </tr>\n",
       "    <tr>\n",
       "      <th>above_average</th>\n",
       "      <td>0.098451</td>\n",
       "      <td>0.163962</td>\n",
       "      <td>0.159033</td>\n",
       "      <td>-0.111790</td>\n",
       "      <td>-0.130655</td>\n",
       "      <td>0.455567</td>\n",
       "      <td>0.616652</td>\n",
       "      <td>0.352362</td>\n",
       "      <td>0.227249</td>\n",
       "      <td>-0.091027</td>\n",
       "      <td>0.853684</td>\n",
       "      <td>-0.296377</td>\n",
       "      <td>0.465014</td>\n",
       "      <td>0.171686</td>\n",
       "      <td>-0.326317</td>\n",
       "      <td>0.425644</td>\n",
       "      <td>0.357988</td>\n",
       "      <td>0.409979</td>\n",
       "      <td>0.195810</td>\n",
       "      <td>1.000000</td>\n",
       "    </tr>\n",
       "  </tbody>\n",
       "</table>\n",
       "</div>"
      ],
      "text/plain": [
       "                        laptop_id   company   product  type_name    inches  \\\n",
       "laptop_id                1.000000  0.112377  0.027740  -0.083174 -0.079075   \n",
       "company                  0.112377  1.000000  0.032530  -0.027247 -0.055414   \n",
       "product                  0.027740  0.032530  1.000000   0.061698 -0.211070   \n",
       "type_name               -0.083174 -0.027247  0.061698   1.000000 -0.025371   \n",
       "inches                  -0.079075 -0.055414 -0.211070  -0.025371  1.000000   \n",
       "cpu                     -0.031849  0.040047  0.136616  -0.122668  0.042651   \n",
       "ram_in_gb               -0.059045  0.090004  0.057314  -0.218998  0.147186   \n",
       "gpu                     -0.004907  0.055956  0.091214  -0.219079  0.180075   \n",
       "op_sys                   0.074740  0.217338  0.125935   0.019763  0.096209   \n",
       "weight_in_kg            -0.025287 -0.119122 -0.260451  -0.225018  0.846909   \n",
       "price_euros              0.071774  0.182401  0.200797  -0.127454 -0.064207   \n",
       "y_res                    0.092660 -0.133810 -0.065058   0.136244 -0.066440   \n",
       "x_res                   -0.041915  0.052789  0.170029  -0.076055 -0.129419   \n",
       "touch_screen             0.051547  0.023923  0.203601  -0.417188 -0.390961   \n",
       "screen_resolution_type   0.105285 -0.119395 -0.050935   0.141203 -0.149756   \n",
       "processor               -0.043142  0.020506  0.136528  -0.118558  0.028666   \n",
       "clock_speed_ghz          0.108641  0.153464 -0.044757  -0.102799  0.317203   \n",
       "hard_disk_type          -0.072085  0.167333  0.220793   0.043512 -0.252512   \n",
       "memory_gb               -0.025298 -0.042957 -0.168101  -0.252094  0.519893   \n",
       "above_average            0.098451  0.163962  0.159033  -0.111790 -0.130655   \n",
       "\n",
       "                             cpu  ram_in_gb       gpu    op_sys  weight_in_kg  \\\n",
       "laptop_id              -0.031849  -0.059045 -0.004907  0.074740     -0.025287   \n",
       "company                 0.040047   0.090004  0.055956  0.217338     -0.119122   \n",
       "product                 0.136616   0.057314  0.091214  0.125935     -0.260451   \n",
       "type_name              -0.122668  -0.218998 -0.219079  0.019763     -0.225018   \n",
       "inches                  0.042651   0.147186  0.180075  0.096209      0.846909   \n",
       "cpu                     1.000000   0.549761  0.460128  0.097634      0.083041   \n",
       "ram_in_gb               0.549761   1.000000  0.431988  0.164737      0.214365   \n",
       "gpu                     0.460128   0.431988  1.000000  0.136916      0.297471   \n",
       "op_sys                  0.097634   0.164737  0.136916  1.000000      0.043018   \n",
       "weight_in_kg            0.083041   0.214365  0.297471  0.043018      1.000000   \n",
       "price_euros             0.595289   0.765207  0.462087  0.286227     -0.015488   \n",
       "y_res                  -0.320077  -0.373905 -0.221943 -0.180030     -0.044424   \n",
       "x_res                   0.352849   0.484089  0.220029  0.091301     -0.128447   \n",
       "touch_screen            0.140509   0.138358  0.002413  0.017286     -0.341345   \n",
       "screen_resolution_type -0.356863  -0.452880 -0.322632 -0.222795     -0.146892   \n",
       "processor               0.994382   0.510720  0.449140  0.067403      0.073685   \n",
       "clock_speed_ghz         0.171721   0.434683  0.325882  0.218385      0.324227   \n",
       "hard_disk_type          0.255286   0.349492  0.110910  0.225422     -0.300428   \n",
       "memory_gb               0.303262   0.458561  0.272917  0.100910      0.569385   \n",
       "above_average           0.455567   0.616652  0.352362  0.227249     -0.091027   \n",
       "\n",
       "                        price_euros     y_res     x_res  touch_screen  \\\n",
       "laptop_id                  0.071774  0.092660 -0.041915      0.051547   \n",
       "company                    0.182401 -0.133810  0.052789      0.023923   \n",
       "product                    0.200797 -0.065058  0.170029      0.203601   \n",
       "type_name                 -0.127454  0.136244 -0.076055     -0.417188   \n",
       "inches                    -0.064207 -0.066440 -0.129419     -0.390961   \n",
       "cpu                        0.595289 -0.320077  0.352849      0.140509   \n",
       "ram_in_gb                  0.765207 -0.373905  0.484089      0.138358   \n",
       "gpu                        0.462087 -0.221943  0.220029      0.002413   \n",
       "op_sys                     0.286227 -0.180030  0.091301      0.017286   \n",
       "weight_in_kg              -0.015488 -0.044424 -0.128447     -0.341345   \n",
       "price_euros                1.000000 -0.414260  0.558606      0.201075   \n",
       "y_res                     -0.414260  1.000000 -0.234173      0.003989   \n",
       "x_res                      0.558606 -0.234173  1.000000      0.361437   \n",
       "touch_screen               0.201075  0.003989  0.361437      1.000000   \n",
       "screen_resolution_type    -0.463830  0.710688 -0.483754     -0.050400   \n",
       "processor                  0.548198 -0.282815  0.329804      0.138881   \n",
       "clock_speed_ghz            0.483738 -0.283420  0.183835     -0.084915   \n",
       "hard_disk_type             0.498143 -0.361663  0.369311      0.213002   \n",
       "memory_gb                  0.269495 -0.158445  0.125639     -0.122397   \n",
       "above_average              0.853684 -0.296377  0.465014      0.171686   \n",
       "\n",
       "                        screen_resolution_type  processor  clock_speed_ghz  \\\n",
       "laptop_id                             0.105285  -0.043142         0.108641   \n",
       "company                              -0.119395   0.020506         0.153464   \n",
       "product                              -0.050935   0.136528        -0.044757   \n",
       "type_name                             0.141203  -0.118558        -0.102799   \n",
       "inches                               -0.149756   0.028666         0.317203   \n",
       "cpu                                  -0.356863   0.994382         0.171721   \n",
       "ram_in_gb                            -0.452880   0.510720         0.434683   \n",
       "gpu                                  -0.322632   0.449140         0.325882   \n",
       "op_sys                               -0.222795   0.067403         0.218385   \n",
       "weight_in_kg                         -0.146892   0.073685         0.324227   \n",
       "price_euros                          -0.463830   0.548198         0.483738   \n",
       "y_res                                 0.710688  -0.282815        -0.283420   \n",
       "x_res                                -0.483754   0.329804         0.183835   \n",
       "touch_screen                         -0.050400   0.138881        -0.084915   \n",
       "screen_resolution_type                1.000000  -0.324856        -0.312237   \n",
       "processor                            -0.324856   1.000000         0.104243   \n",
       "clock_speed_ghz                      -0.312237   0.104243         1.000000   \n",
       "hard_disk_type                       -0.344332   0.223437         0.185824   \n",
       "memory_gb                            -0.240992   0.284158         0.342254   \n",
       "above_average                        -0.326317   0.425644         0.357988   \n",
       "\n",
       "                        hard_disk_type  memory_gb  above_average  \n",
       "laptop_id                    -0.072085  -0.025298       0.098451  \n",
       "company                       0.167333  -0.042957       0.163962  \n",
       "product                       0.220793  -0.168101       0.159033  \n",
       "type_name                     0.043512  -0.252094      -0.111790  \n",
       "inches                       -0.252512   0.519893      -0.130655  \n",
       "cpu                           0.255286   0.303262       0.455567  \n",
       "ram_in_gb                     0.349492   0.458561       0.616652  \n",
       "gpu                           0.110910   0.272917       0.352362  \n",
       "op_sys                        0.225422   0.100910       0.227249  \n",
       "weight_in_kg                 -0.300428   0.569385      -0.091027  \n",
       "price_euros                   0.498143   0.269495       0.853684  \n",
       "y_res                        -0.361663  -0.158445      -0.296377  \n",
       "x_res                         0.369311   0.125639       0.465014  \n",
       "touch_screen                  0.213002  -0.122397       0.171686  \n",
       "screen_resolution_type       -0.344332  -0.240992      -0.326317  \n",
       "processor                     0.223437   0.284158       0.425644  \n",
       "clock_speed_ghz               0.185824   0.342254       0.357988  \n",
       "hard_disk_type                1.000000  -0.336284       0.409979  \n",
       "memory_gb                    -0.336284   1.000000       0.195810  \n",
       "above_average                 0.409979   0.195810       1.000000  "
      ]
     },
     "execution_count": 38,
     "metadata": {},
     "output_type": "execute_result"
    }
   ],
   "source": [
    "df_num.corr()"
   ]
  },
  {
   "cell_type": "code",
   "execution_count": 39,
   "metadata": {},
   "outputs": [
    {
     "data": {
      "text/plain": [
       "<AxesSubplot:>"
      ]
     },
     "execution_count": 39,
     "metadata": {},
     "output_type": "execute_result"
    },
    {
     "data": {
      "image/png": "[encoded data removed]",
      "text/plain": [
       "<Figure size 720x576 with 2 Axes>"
      ]
     },
     "metadata": {
      "needs_background": "light"
     },
     "output_type": "display_data"
    }
   ],
   "source": [
    "fig = plt.figure(figsize=(10,8))\n",
    "sns.heatmap(df_num[numerical].corr(),vmin=-1,center=0,vmax=1, annot=True)"
   ]
  },
  {
   "cell_type": "markdown",
   "metadata": {},
   "source": [
    "Do we really need laptop_id column?? nah! let's remove it"
   ]
  },
  {
   "cell_type": "code",
   "execution_count": 40,
   "metadata": {},
   "outputs": [],
   "source": [
    "df = df.drop('laptop_id', axis=1)"
   ]
  },
  {
   "cell_type": "code",
   "execution_count": 41,
   "metadata": {},
   "outputs": [
    {
     "data": {
      "text/html": [
       "<div>\n",
       "<style scoped>\n",
       "    .dataframe tbody tr th:only-of-type {\n",
       "        vertical-align: middle;\n",
       "    }\n",
       "\n",
       "    .dataframe tbody tr th {\n",
       "        vertical-align: top;\n",
       "    }\n",
       "\n",
       "    .dataframe thead th {\n",
       "        text-align: right;\n",
       "    }\n",
       "</style>\n",
       "<table border=\"1\" class=\"dataframe\">\n",
       "  <thead>\n",
       "    <tr style=\"text-align: right;\">\n",
       "      <th></th>\n",
       "      <th>company</th>\n",
       "      <th>product</th>\n",
       "      <th>type_name</th>\n",
       "      <th>inches</th>\n",
       "      <th>cpu</th>\n",
       "      <th>ram_in_gb</th>\n",
       "      <th>gpu</th>\n",
       "      <th>op_sys</th>\n",
       "      <th>weight_in_kg</th>\n",
       "      <th>price_euros</th>\n",
       "      <th>y_res</th>\n",
       "      <th>x_res</th>\n",
       "      <th>touch_screen</th>\n",
       "      <th>screen_resolution_type</th>\n",
       "      <th>processor</th>\n",
       "      <th>clock_speed_ghz</th>\n",
       "      <th>hard_disk_type</th>\n",
       "      <th>memory_gb</th>\n",
       "      <th>above_average</th>\n",
       "    </tr>\n",
       "  </thead>\n",
       "  <tbody>\n",
       "    <tr>\n",
       "      <th>0</th>\n",
       "      <td>apple</td>\n",
       "      <td>macbook_pro</td>\n",
       "      <td>ultrabook</td>\n",
       "      <td>13.3</td>\n",
       "      <td>intel_core_i5_2.3ghz</td>\n",
       "      <td>8</td>\n",
       "      <td>intel_iris_plus_graphics_640</td>\n",
       "      <td>macos</td>\n",
       "      <td>1.37</td>\n",
       "      <td>1339.69</td>\n",
       "      <td>1600</td>\n",
       "      <td>2560</td>\n",
       "      <td>0</td>\n",
       "      <td>hd_ready</td>\n",
       "      <td>intel_core_i5</td>\n",
       "      <td>2.3</td>\n",
       "      <td>ssd</td>\n",
       "      <td>128</td>\n",
       "      <td>1</td>\n",
       "    </tr>\n",
       "    <tr>\n",
       "      <th>1</th>\n",
       "      <td>apple</td>\n",
       "      <td>macbook_air</td>\n",
       "      <td>ultrabook</td>\n",
       "      <td>13.3</td>\n",
       "      <td>intel_core_i5_1.8ghz</td>\n",
       "      <td>8</td>\n",
       "      <td>intel_hd_graphics_6000</td>\n",
       "      <td>macos</td>\n",
       "      <td>1.34</td>\n",
       "      <td>898.94</td>\n",
       "      <td>900</td>\n",
       "      <td>1440</td>\n",
       "      <td>0</td>\n",
       "      <td>hd_ready</td>\n",
       "      <td>intel_core_i5</td>\n",
       "      <td>1.8</td>\n",
       "      <td>hdd</td>\n",
       "      <td>128</td>\n",
       "      <td>0</td>\n",
       "    </tr>\n",
       "    <tr>\n",
       "      <th>2</th>\n",
       "      <td>hp</td>\n",
       "      <td>250_g6</td>\n",
       "      <td>notebook</td>\n",
       "      <td>15.6</td>\n",
       "      <td>intel_core_i5_7200u_2.5ghz</td>\n",
       "      <td>8</td>\n",
       "      <td>intel_hd_graphics_620</td>\n",
       "      <td>no_os</td>\n",
       "      <td>1.86</td>\n",
       "      <td>575.00</td>\n",
       "      <td>1080</td>\n",
       "      <td>1920</td>\n",
       "      <td>0</td>\n",
       "      <td>full_hd</td>\n",
       "      <td>intel_core_i5_7200u</td>\n",
       "      <td>2.5</td>\n",
       "      <td>ssd</td>\n",
       "      <td>256</td>\n",
       "      <td>0</td>\n",
       "    </tr>\n",
       "    <tr>\n",
       "      <th>3</th>\n",
       "      <td>apple</td>\n",
       "      <td>macbook_pro</td>\n",
       "      <td>ultrabook</td>\n",
       "      <td>15.4</td>\n",
       "      <td>intel_core_i7_2.7ghz</td>\n",
       "      <td>16</td>\n",
       "      <td>amd_radeon_pro_455</td>\n",
       "      <td>macos</td>\n",
       "      <td>1.83</td>\n",
       "      <td>2537.45</td>\n",
       "      <td>1800</td>\n",
       "      <td>2880</td>\n",
       "      <td>0</td>\n",
       "      <td>hd_ready</td>\n",
       "      <td>intel_core_i7</td>\n",
       "      <td>2.7</td>\n",
       "      <td>ssd</td>\n",
       "      <td>512</td>\n",
       "      <td>1</td>\n",
       "    </tr>\n",
       "    <tr>\n",
       "      <th>4</th>\n",
       "      <td>apple</td>\n",
       "      <td>macbook_pro</td>\n",
       "      <td>ultrabook</td>\n",
       "      <td>13.3</td>\n",
       "      <td>intel_core_i5_3.1ghz</td>\n",
       "      <td>8</td>\n",
       "      <td>intel_iris_plus_graphics_650</td>\n",
       "      <td>macos</td>\n",
       "      <td>1.37</td>\n",
       "      <td>1803.60</td>\n",
       "      <td>1600</td>\n",
       "      <td>2560</td>\n",
       "      <td>0</td>\n",
       "      <td>hd_ready</td>\n",
       "      <td>intel_core_i5</td>\n",
       "      <td>3.1</td>\n",
       "      <td>ssd</td>\n",
       "      <td>256</td>\n",
       "      <td>1</td>\n",
       "    </tr>\n",
       "  </tbody>\n",
       "</table>\n",
       "</div>"
      ],
      "text/plain": [
       "  company      product  type_name  inches                         cpu  \\\n",
       "0   apple  macbook_pro  ultrabook    13.3        intel_core_i5_2.3ghz   \n",
       "1   apple  macbook_air  ultrabook    13.3        intel_core_i5_1.8ghz   \n",
       "2      hp       250_g6   notebook    15.6  intel_core_i5_7200u_2.5ghz   \n",
       "3   apple  macbook_pro  ultrabook    15.4        intel_core_i7_2.7ghz   \n",
       "4   apple  macbook_pro  ultrabook    13.3        intel_core_i5_3.1ghz   \n",
       "\n",
       "   ram_in_gb                           gpu op_sys  weight_in_kg  price_euros  \\\n",
       "0          8  intel_iris_plus_graphics_640  macos          1.37      1339.69   \n",
       "1          8        intel_hd_graphics_6000  macos          1.34       898.94   \n",
       "2          8         intel_hd_graphics_620  no_os          1.86       575.00   \n",
       "3         16            amd_radeon_pro_455  macos          1.83      2537.45   \n",
       "4          8  intel_iris_plus_graphics_650  macos          1.37      1803.60   \n",
       "\n",
       "  y_res  x_res  touch_screen screen_resolution_type            processor  \\\n",
       "0  1600   2560             0               hd_ready        intel_core_i5   \n",
       "1   900   1440             0               hd_ready        intel_core_i5   \n",
       "2  1080   1920             0                full_hd  intel_core_i5_7200u   \n",
       "3  1800   2880             0               hd_ready        intel_core_i7   \n",
       "4  1600   2560             0               hd_ready        intel_core_i5   \n",
       "\n",
       "  clock_speed_ghz hard_disk_type  memory_gb  above_average  \n",
       "0             2.3            ssd        128              1  \n",
       "1             1.8            hdd        128              0  \n",
       "2             2.5            ssd        256              0  \n",
       "3             2.7            ssd        512              1  \n",
       "4             3.1            ssd        256              1  "
      ]
     },
     "execution_count": 41,
     "metadata": {},
     "output_type": "execute_result"
    }
   ],
   "source": [
    "df.head()"
   ]
  },
  {
   "cell_type": "code",
   "execution_count": 42,
   "metadata": {},
   "outputs": [],
   "source": [
    "# base feature(numerical + categorical)\n",
    "features = df.columns\n",
    "\n",
    "# Split the columns based on the value attribute\n",
    "numerical = list(df.dtypes[df.dtypes != 'object'].index)\n",
    "categorical = list(df.dtypes[df.dtypes == 'object'].index)"
   ]
  },
  {
   "cell_type": "markdown",
   "metadata": {},
   "source": [
    "### **2.3 Target Variable Analysis**"
   ]
  },
  {
   "cell_type": "code",
   "execution_count": 43,
   "metadata": {},
   "outputs": [
    {
     "data": {
      "image/png": "[encoded data removed]",
      "text/plain": [
       "<Figure size 576x576 with 1 Axes>"
      ]
     },
     "metadata": {
      "needs_background": "light"
     },
     "output_type": "display_data"
    }
   ],
   "source": [
    "plt.rcParams['figure.figsize']=8,8 \n",
    "s = sns.countplot(x = \"above_average\", data = df)\n",
    "for p in s.patches:\n",
    "    s.annotate(format(p.get_height(), '.1f'), \n",
    "               (p.get_x() + p.get_width() / 2., p.get_height()), \n",
    "                ha = 'center', va = 'center', \n",
    "                xytext = (0, 9), \n",
    "                textcoords = 'offset points')\n",
    "plt.show()"
   ]
  },
  {
   "cell_type": "code",
   "execution_count": 44,
   "metadata": {},
   "outputs": [],
   "source": [
    "df = df.drop('above_average', axis=1)"
   ]
  },
  {
   "cell_type": "markdown",
   "metadata": {},
   "source": [
    "## 3. Train the Model\n",
    "\n",
    "#### **Setup the validation framework**"
   ]
  },
  {
   "cell_type": "code",
   "execution_count": 45,
   "metadata": {},
   "outputs": [],
   "source": [
    "from sklearn.model_selection import train_test_split\n",
    "\n",
    "df_full_train, df_test = train_test_split(df, test_size=0.2, random_state=1)\n",
    "df_train, df_val = train_test_split(df_full_train, test_size=0.25, random_state=1)\n",
    "\n",
    "df_train = df_train.reset_index(drop=True)\n",
    "df_val = df_val.reset_index(drop=True)\n",
    "df_test = df_test.reset_index(drop=True)\n",
    "df_full_train = df_full_train.reset_index(drop=True)\n",
    "\n",
    "y_train = df_train.price_euros.values\n",
    "y_val = df_val.price_euros.values\n",
    "y_test = df_test.price_euros.values\n",
    "\n",
    "del df_train['price_euros']\n",
    "del df_val['price_euros']\n",
    "del df_test['price_euros']"
   ]
  },
  {
   "cell_type": "code",
   "execution_count": 46,
   "metadata": {},
   "outputs": [
    {
     "data": {
      "text/html": [
       "<div>\n",
       "<style scoped>\n",
       "    .dataframe tbody tr th:only-of-type {\n",
       "        vertical-align: middle;\n",
       "    }\n",
       "\n",
       "    .dataframe tbody tr th {\n",
       "        vertical-align: top;\n",
       "    }\n",
       "\n",
       "    .dataframe thead th {\n",
       "        text-align: right;\n",
       "    }\n",
       "</style>\n",
       "<table border=\"1\" class=\"dataframe\">\n",
       "  <thead>\n",
       "    <tr style=\"text-align: right;\">\n",
       "      <th></th>\n",
       "      <th>company</th>\n",
       "      <th>product</th>\n",
       "      <th>type_name</th>\n",
       "      <th>inches</th>\n",
       "      <th>cpu</th>\n",
       "      <th>ram_in_gb</th>\n",
       "      <th>gpu</th>\n",
       "      <th>op_sys</th>\n",
       "      <th>weight_in_kg</th>\n",
       "      <th>y_res</th>\n",
       "      <th>x_res</th>\n",
       "      <th>touch_screen</th>\n",
       "      <th>screen_resolution_type</th>\n",
       "      <th>processor</th>\n",
       "      <th>clock_speed_ghz</th>\n",
       "      <th>hard_disk_type</th>\n",
       "      <th>memory_gb</th>\n",
       "    </tr>\n",
       "  </thead>\n",
       "  <tbody>\n",
       "    <tr>\n",
       "      <th>0</th>\n",
       "      <td>dell</td>\n",
       "      <td>xps_13</td>\n",
       "      <td>ultrabook</td>\n",
       "      <td>13.3</td>\n",
       "      <td>intel_core_i7_7560u_2.4ghz</td>\n",
       "      <td>8</td>\n",
       "      <td>intel_iris_plus_graphics_640</td>\n",
       "      <td>windows_10</td>\n",
       "      <td>1.23</td>\n",
       "      <td>1080</td>\n",
       "      <td>1920</td>\n",
       "      <td>0</td>\n",
       "      <td>full_hd</td>\n",
       "      <td>intel_core_i7_7560u</td>\n",
       "      <td>2.4</td>\n",
       "      <td>ssd</td>\n",
       "      <td>256</td>\n",
       "    </tr>\n",
       "    <tr>\n",
       "      <th>1</th>\n",
       "      <td>hp</td>\n",
       "      <td>17-bs001nv_(i5-7200u/6gb/2tb/radeon</td>\n",
       "      <td>notebook</td>\n",
       "      <td>17.3</td>\n",
       "      <td>intel_core_i5_7200u_2.5ghz</td>\n",
       "      <td>6</td>\n",
       "      <td>amd_radeon_520</td>\n",
       "      <td>windows_10</td>\n",
       "      <td>2.71</td>\n",
       "      <td>1080</td>\n",
       "      <td>1920</td>\n",
       "      <td>0</td>\n",
       "      <td>full_hd</td>\n",
       "      <td>intel_core_i5_7200u</td>\n",
       "      <td>2.5</td>\n",
       "      <td>hdd</td>\n",
       "      <td>2000</td>\n",
       "    </tr>\n",
       "    <tr>\n",
       "      <th>2</th>\n",
       "      <td>dell</td>\n",
       "      <td>latitude_5480</td>\n",
       "      <td>notebook</td>\n",
       "      <td>14.0</td>\n",
       "      <td>intel_core_i5_7200u_2.5ghz</td>\n",
       "      <td>4</td>\n",
       "      <td>intel_hd_graphics_620</td>\n",
       "      <td>windows_10</td>\n",
       "      <td>1.60</td>\n",
       "      <td>768</td>\n",
       "      <td>1366</td>\n",
       "      <td>0</td>\n",
       "      <td>hd_ready</td>\n",
       "      <td>intel_core_i5_7200u</td>\n",
       "      <td>2.5</td>\n",
       "      <td>hdd</td>\n",
       "      <td>500</td>\n",
       "    </tr>\n",
       "    <tr>\n",
       "      <th>3</th>\n",
       "      <td>dell</td>\n",
       "      <td>xps_13</td>\n",
       "      <td>ultrabook</td>\n",
       "      <td>13.3</td>\n",
       "      <td>intel_core_i5_8250u_1.6ghz</td>\n",
       "      <td>8</td>\n",
       "      <td>intel_uhd_graphics_620</td>\n",
       "      <td>windows_10</td>\n",
       "      <td>1.20</td>\n",
       "      <td>1080</td>\n",
       "      <td>1920</td>\n",
       "      <td>0</td>\n",
       "      <td>full_hd</td>\n",
       "      <td>intel_core_i5_8250u</td>\n",
       "      <td>1.6</td>\n",
       "      <td>ssd</td>\n",
       "      <td>256</td>\n",
       "    </tr>\n",
       "    <tr>\n",
       "      <th>4</th>\n",
       "      <td>dell</td>\n",
       "      <td>alienware_15</td>\n",
       "      <td>gaming</td>\n",
       "      <td>15.6</td>\n",
       "      <td>intel_core_i7_6700hq_2.6ghz</td>\n",
       "      <td>16</td>\n",
       "      <td>nvidia_geforce_gtx_970m</td>\n",
       "      <td>windows_10</td>\n",
       "      <td>3.21</td>\n",
       "      <td>2160</td>\n",
       "      <td>3840</td>\n",
       "      <td>0</td>\n",
       "      <td>4k</td>\n",
       "      <td>intel_core_i7_6700hq</td>\n",
       "      <td>2.6</td>\n",
       "      <td>hybrid</td>\n",
       "      <td>1256</td>\n",
       "    </tr>\n",
       "  </tbody>\n",
       "</table>\n",
       "</div>"
      ],
      "text/plain": [
       "  company                              product  type_name  inches  \\\n",
       "0    dell                               xps_13  ultrabook    13.3   \n",
       "1      hp  17-bs001nv_(i5-7200u/6gb/2tb/radeon   notebook    17.3   \n",
       "2    dell                        latitude_5480   notebook    14.0   \n",
       "3    dell                               xps_13  ultrabook    13.3   \n",
       "4    dell                         alienware_15     gaming    15.6   \n",
       "\n",
       "                           cpu  ram_in_gb                           gpu  \\\n",
       "0   intel_core_i7_7560u_2.4ghz          8  intel_iris_plus_graphics_640   \n",
       "1   intel_core_i5_7200u_2.5ghz          6                amd_radeon_520   \n",
       "2   intel_core_i5_7200u_2.5ghz          4         intel_hd_graphics_620   \n",
       "3   intel_core_i5_8250u_1.6ghz          8        intel_uhd_graphics_620   \n",
       "4  intel_core_i7_6700hq_2.6ghz         16       nvidia_geforce_gtx_970m   \n",
       "\n",
       "       op_sys  weight_in_kg y_res  x_res  touch_screen screen_resolution_type  \\\n",
       "0  windows_10          1.23  1080   1920             0                full_hd   \n",
       "1  windows_10          2.71  1080   1920             0                full_hd   \n",
       "2  windows_10          1.60   768   1366             0               hd_ready   \n",
       "3  windows_10          1.20  1080   1920             0                full_hd   \n",
       "4  windows_10          3.21  2160   3840             0                     4k   \n",
       "\n",
       "              processor clock_speed_ghz hard_disk_type  memory_gb  \n",
       "0   intel_core_i7_7560u             2.4            ssd        256  \n",
       "1   intel_core_i5_7200u             2.5            hdd       2000  \n",
       "2   intel_core_i5_7200u             2.5            hdd        500  \n",
       "3   intel_core_i5_8250u             1.6            ssd        256  \n",
       "4  intel_core_i7_6700hq             2.6         hybrid       1256  "
      ]
     },
     "execution_count": 46,
     "metadata": {},
     "output_type": "execute_result"
    }
   ],
   "source": [
    "df_train.head()"
   ]
  },
  {
   "cell_type": "code",
   "execution_count": 47,
   "metadata": {},
   "outputs": [],
   "source": [
    "from sklearn.feature_extraction import DictVectorizer"
   ]
  },
  {
   "cell_type": "code",
   "execution_count": 48,
   "metadata": {},
   "outputs": [],
   "source": [
    "dv = DictVectorizer()\n",
    "\n",
    "train_dict = df_train.to_dict(orient='records')\n",
    "X_train = dv.fit_transform(train_dict)\n",
    "\n",
    "val_dict = df_val.to_dict(orient='records')\n",
    "X_val = dv.transform(val_dict)\n",
    "\n",
    "test_dict = df_test.to_dict(orient='records')\n",
    "X_test = dv.transform(test_dict)"
   ]
  },
  {
   "cell_type": "code",
   "execution_count": 49,
   "metadata": {},
   "outputs": [
    {
     "data": {
      "text/plain": [
       "{'company': 'dell',\n",
       " 'product': 'xps_13',\n",
       " 'type_name': 'ultrabook',\n",
       " 'inches': 13.3,\n",
       " 'cpu': 'intel_core_i7_7560u_2.4ghz',\n",
       " 'ram_in_gb': 8,\n",
       " 'gpu': 'intel_iris_plus_graphics_640',\n",
       " 'op_sys': 'windows_10',\n",
       " 'weight_in_kg': 1.23,\n",
       " 'y_res': '1080',\n",
       " 'x_res': 1920,\n",
       " 'touch_screen': 0,\n",
       " 'screen_resolution_type': 'full_hd',\n",
       " 'processor': 'intel_core_i7_7560u',\n",
       " 'clock_speed_ghz': '2.4',\n",
       " 'hard_disk_type': 'ssd',\n",
       " 'memory_gb': 256}"
      ]
     },
     "execution_count": 49,
     "metadata": {},
     "output_type": "execute_result"
    }
   ],
   "source": [
    "train_dict[0]"
   ]
  },
  {
   "cell_type": "code",
   "execution_count": 50,
   "metadata": {},
   "outputs": [],
   "source": [
    "scores = []\n",
    "au_scores = []"
   ]
  },
  {
   "cell_type": "markdown",
   "metadata": {},
   "source": [
    "### **Model - 1 Linear Regression**"
   ]
  },
  {
   "cell_type": "code",
   "execution_count": 51,
   "metadata": {},
   "outputs": [
    {
     "data": {
      "text/plain": [
       "LinearRegression()"
      ]
     },
     "execution_count": 51,
     "metadata": {},
     "output_type": "execute_result"
    }
   ],
   "source": [
    "from sklearn.linear_model import LinearRegression\n",
    "lr = LinearRegression()\n",
    "lr.fit(X_train, y_train)"
   ]
  },
  {
   "cell_type": "code",
   "execution_count": 52,
   "metadata": {},
   "outputs": [],
   "source": [
    "y_pred = lr.predict(X_val)"
   ]
  },
  {
   "cell_type": "code",
   "execution_count": 53,
   "metadata": {},
   "outputs": [],
   "source": [
    "lr_score = lr.score(X_val, y_val)\n",
    "scores.append(lr_score)"
   ]
  },
  {
   "cell_type": "code",
   "execution_count": 54,
   "metadata": {},
   "outputs": [
    {
     "data": {
      "text/plain": [
       "Text(0, 0.5, 'Predicted Values')"
      ]
     },
     "execution_count": 54,
     "metadata": {},
     "output_type": "execute_result"
    },
    {
     "data": {
      "image/png": "[encoded data removed]",
      "text/plain": [
       "<Figure size 576x576 with 1 Axes>"
      ]
     },
     "metadata": {
      "needs_background": "light"
     },
     "output_type": "display_data"
    }
   ],
   "source": [
    "plt.scatter(y_val,y_pred)\n",
    "plt.title('Linear Regression')\n",
    "plt.xlabel(\"True Values\")\n",
    "plt.ylabel(\"Predicted Values\")"
   ]
  },
  {
   "cell_type": "markdown",
   "metadata": {},
   "source": [
    "#### **Cross-Validation**"
   ]
  },
  {
   "cell_type": "code",
   "execution_count": 55,
   "metadata": {},
   "outputs": [
    {
     "data": {
      "text/plain": [
       "array([0.69298891, 0.86224003, 0.77368759, 0.75738456, 0.79985877])"
      ]
     },
     "execution_count": 55,
     "metadata": {},
     "output_type": "execute_result"
    }
   ],
   "source": [
    "from sklearn.model_selection import cross_val_score, KFold\n",
    "cross_scores = cross_val_score(lr, X_train, y_train, scoring='r2', cv=5)\n",
    "cross_scores"
   ]
  },
  {
   "cell_type": "code",
   "execution_count": 56,
   "metadata": {},
   "outputs": [
    {
     "data": {
      "text/plain": [
       "array([0.74662693, 0.81223134, 0.84613779, 0.71665101, 0.82630316])"
      ]
     },
     "execution_count": 56,
     "metadata": {},
     "output_type": "execute_result"
    }
   ],
   "source": [
    "folds = KFold(n_splits = 5, shuffle = True, random_state = 42)\n",
    "cross_scores = cross_val_score(lr, X_train, y_train, scoring='r2', cv=folds)\n",
    "cross_scores  "
   ]
  },
  {
   "cell_type": "markdown",
   "metadata": {},
   "source": [
    "### **Model - 2 DecisionTree Regression**"
   ]
  },
  {
   "cell_type": "code",
   "execution_count": 60,
   "metadata": {},
   "outputs": [
    {
     "data": {
      "text/plain": [
       "DecisionTreeRegressor()"
      ]
     },
     "execution_count": 60,
     "metadata": {},
     "output_type": "execute_result"
    }
   ],
   "source": [
    "from sklearn.tree import DecisionTreeRegressor\n",
    "Dt = DecisionTreeRegressor()\n",
    "Dt.fit(X_train, y_train)"
   ]
  },
  {
   "cell_type": "code",
   "execution_count": 61,
   "metadata": {},
   "outputs": [],
   "source": [
    "# Predicting the test set \n",
    "dt_pred = Dt.predict(X_val)"
   ]
  },
  {
   "cell_type": "code",
   "execution_count": 62,
   "metadata": {},
   "outputs": [],
   "source": [
    "dt_score = Dt.score(X_val, y_val)\n",
    "\n",
    "scores.append(dt_score)"
   ]
  },
  {
   "cell_type": "markdown",
   "metadata": {},
   "source": [
    "### **Model - 3 XGBoost Regression**"
   ]
  },
  {
   "cell_type": "code",
   "execution_count": 64,
   "metadata": {},
   "outputs": [
    {
     "data": {
      "text/plain": [
       "XGBRegressor(base_score=0.5, booster='gbtree', colsample_bylevel=1,\n",
       "             colsample_bynode=1, colsample_bytree=1, enable_categorical=False,\n",
       "             gamma=0, gpu_id=-1, importance_type=None,\n",
       "             interaction_constraints='', learning_rate=0.300000012,\n",
       "             max_delta_step=0, max_depth=3, min_child_weight=1, missing=nan,\n",
       "             monotone_constraints='()', n_estimators=15, n_jobs=4,\n",
       "             num_parallel_tree=1, predictor='auto', random_state=0, reg_alpha=0,\n",
       "             reg_lambda=1, scale_pos_weight=1, subsample=1, tree_method='exact',\n",
       "             validate_parameters=1, verbosity=None)"
      ]
     },
     "execution_count": 64,
     "metadata": {},
     "output_type": "execute_result"
    }
   ],
   "source": [
    "from xgboost import XGBRegressor\n",
    "xgb = XGBRegressor(n_estimators=15,max_depth=3)\n",
    "xgb.fit(X_train,y_train)"
   ]
  },
  {
   "cell_type": "code",
   "execution_count": 65,
   "metadata": {},
   "outputs": [],
   "source": [
    "xgb_pred = xgb.predict(X_val)"
   ]
  },
  {
   "cell_type": "code",
   "execution_count": null,
   "metadata": {},
   "outputs": [],
   "source": [
    "xgb_score = xgb.score(X_val, y_val)\n",
    "\n",
    "scores.append(xgb_score)"
   ]
  },
  {
   "cell_type": "code",
   "execution_count": 85,
   "metadata": {},
   "outputs": [],
   "source": [
    "xgb_accuracy = metrics.r2_score(y_val, xgb_pred)\n",
    "au_scores.append(xgb_accuracy)"
   ]
  },
  {
   "cell_type": "markdown",
   "metadata": {},
   "source": [
    "### **Model - 4 RandomForest Regression**"
   ]
  },
  {
   "cell_type": "code",
   "execution_count": 68,
   "metadata": {},
   "outputs": [],
   "source": [
    "from sklearn.ensemble import RandomForestRegressor"
   ]
  },
  {
   "cell_type": "code",
   "execution_count": 70,
   "metadata": {},
   "outputs": [],
   "source": [
    "list1 = []\n",
    "for estimator in range(10,100):\n",
    "    rf = RandomForestRegressor(n_estimators=estimator)\n",
    "    rf.fit(X_train,y_train)\n",
    "    rf_pred = rf.predict(X_val)\n",
    "    rf_score = rf.score(X_val, y_val)\n",
    "    list1.append(rf_score)"
   ]
  },
  {
   "cell_type": "code",
   "execution_count": 73,
   "metadata": {},
   "outputs": [
    {
     "data": {
      "image/png": "[encoded data removed]",
      "text/plain": [
       "<Figure size 576x576 with 1 Axes>"
      ]
     },
     "metadata": {
      "needs_background": "light"
     },
     "output_type": "display_data"
    }
   ],
   "source": [
    "plt.plot(list(range(10,100)), list1)\n",
    "plt.show()"
   ]
  },
  {
   "cell_type": "code",
   "execution_count": 74,
   "metadata": {},
   "outputs": [],
   "source": [
    "rf = RandomForestRegressor(n_estimators=55)\n",
    "rf.fit(X_train,y_train)\n",
    "\n",
    "rf_pred = rf.predict(X_val)\n",
    "\n",
    "rf_score = rf.score(X_val, y_val)\n",
    "scores.append(rf_score)"
   ]
  },
  {
   "cell_type": "code",
   "execution_count": 86,
   "metadata": {},
   "outputs": [],
   "source": [
    "rf_accuracy = metrics.r2_score(y_val, rf_pred)\n",
    "au_scores.append(rf_accuracy)"
   ]
  },
  {
   "cell_type": "code",
   "execution_count": 75,
   "metadata": {},
   "outputs": [
    {
     "data": {
      "text/plain": [
       "[0.8039407424816417,\n",
       " 0.7238642650536055,\n",
       " 0.8315575224629834,\n",
       " 0.8370245207214642]"
      ]
     },
     "execution_count": 75,
     "metadata": {},
     "output_type": "execute_result"
    }
   ],
   "source": [
    "scores"
   ]
  },
  {
   "cell_type": "code",
   "execution_count": 87,
   "metadata": {},
   "outputs": [
    {
     "data": {
      "text/plain": [
       "[0.8039407424816417,\n",
       " 0.7238642650536055,\n",
       " 0.8315575224629834,\n",
       " 0.8370245207214642]"
      ]
     },
     "execution_count": 87,
     "metadata": {},
     "output_type": "execute_result"
    }
   ],
   "source": [
    "au_scores"
   ]
  },
  {
   "cell_type": "code",
   "execution_count": 76,
   "metadata": {},
   "outputs": [
    {
     "data": {
      "image/png": "[encoded data removed]",
      "text/plain": [
       "<Figure size 1080x576 with 1 Axes>"
      ]
     },
     "metadata": {
      "needs_background": "light"
     },
     "output_type": "display_data"
    }
   ],
   "source": [
    "models = ['LinearRegression','DecisionTree','XGBoost','RandomForest']\n",
    "# Visualising the accuracy score of each classification model\n",
    "plt.rcParams['figure.figsize']=15,8 \n",
    "ax = sns.barplot(x=models, y=scores, palette = \"rocket\", saturation =1.5)\n",
    "plt.xlabel(\"Classifier Models\", fontsize = 20 )\n",
    "plt.ylabel(\"% of Accuracy\", fontsize = 20)\n",
    "plt.title(\"Accuracy of different Classifier Models\", fontsize = 20)\n",
    "plt.xticks(fontsize = 13, horizontalalignment = 'center', rotation = 0)\n",
    "plt.yticks(fontsize = 13)\n",
    "for p in ax.patches:\n",
    "    width, height = p.get_width(), p.get_height()\n",
    "    x, y = p.get_xy() \n",
    "    ax.annotate(f'{height:.2%}', (x + width/2, y + height*1.02), ha='center', fontsize = 'x-large')\n",
    "plt.show()"
   ]
  },
  {
   "cell_type": "markdown",
   "metadata": {},
   "source": [
    "RandomForest gives better result among the four model so will use the **RandomForestClassifier** as our final model"
   ]
  }
 ],
 "metadata": {
  "kernelspec": {
   "display_name": "ml_course",
   "language": "python",
   "name": "ml_course"
  },
  "language_info": {
   "codemirror_mode": {
    "name": "ipython",
    "version": 3
   },
   "file_extension": ".py",
   "mimetype": "text/x-python",
   "name": "python",
   "nbconvert_exporter": "python",
   "pygments_lexer": "ipython3",
   "version": "3.8.2"
  }
 },
 "nbformat": 4,
 "nbformat_minor": 4
}
