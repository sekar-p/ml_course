{
 "cells": [
  {
   "cell_type": "code",
   "execution_count": 1,
   "metadata": {},
   "outputs": [],
   "source": [
    "import tensorflow as tf\n",
    "from tensorflow import keras\n",
    "from keras.preprocessing.image import ImageDataGenerator\n",
    "import numpy as np"
   ]
  },
  {
   "cell_type": "code",
   "execution_count": 2,
   "metadata": {},
   "outputs": [],
   "source": [
    "inputs = keras.Input(shape=(150,150,3))\n",
    "\n",
    "conv_layer = keras.layers.Conv2D(32,(3,3),activation='relu')(inputs)\n",
    "\n",
    "pool = keras.layers.MaxPooling2D(pool_size=(2, 2))(conv_layer)\n",
    "\n",
    "vector = keras.layers.Flatten()(pool)\n",
    "\n",
    "densed_layer = keras.layers.Dense(64,activation='relu')(vector)\n",
    "\n",
    "final_layer = keras.layers.Dense(1, activation='sigmoid')(densed_layer)\n",
    "\n",
    "model = keras.Model(inputs, final_layer)\n",
    "\n",
    "optimizer = keras.optimizers.SGD(learning_rate=0.002,momentum=0.8)"
   ]
  },
  {
   "cell_type": "markdown",
   "metadata": {},
   "source": [
    "# Question - 1"
   ]
  },
  {
   "cell_type": "code",
   "execution_count": null,
   "metadata": {},
   "outputs": [],
   "source": [
    "# Will use BinaryCrossEntropy since its binary classification\n",
    "loss = keras.losses.BinaryCrossentropy()"
   ]
  },
  {
   "cell_type": "markdown",
   "metadata": {},
   "source": [
    "# Question - 2"
   ]
  },
  {
   "cell_type": "code",
   "execution_count": 3,
   "metadata": {},
   "outputs": [
    {
     "name": "stdout",
     "output_type": "stream",
     "text": [
      "Model: \"model\"\n",
      "_________________________________________________________________\n",
      " Layer (type)                Output Shape              Param #   \n",
      "=================================================================\n",
      " input_1 (InputLayer)        [(None, 150, 150, 3)]     0         \n",
      "                                                                 \n",
      " conv2d (Conv2D)             (None, 148, 148, 32)      896       \n",
      "                                                                 \n",
      " max_pooling2d (MaxPooling2D  (None, 74, 74, 32)       0         \n",
      " )                                                               \n",
      "                                                                 \n",
      " flatten (Flatten)           (None, 175232)            0         \n",
      "                                                                 \n",
      " dense (Dense)               (None, 64)                11214912  \n",
      "                                                                 \n",
      " dense_1 (Dense)             (None, 1)                 65        \n",
      "                                                                 \n",
      "=================================================================\n",
      "Total params: 11,215,873\n",
      "Trainable params: 11,215,873\n",
      "Non-trainable params: 0\n",
      "_________________________________________________________________\n"
     ]
    }
   ],
   "source": [
    "model.compile(optimizer=optimizer, loss=loss, metrics=['accuracy'])\n",
    "model.summary()"
   ]
  },
  {
   "cell_type": "code",
   "execution_count": 4,
   "metadata": {},
   "outputs": [
    {
     "name": "stdout",
     "output_type": "stream",
     "text": [
      "Found 20000 images belonging to 2 classes.\n",
      "Found 5000 images belonging to 2 classes.\n"
     ]
    }
   ],
   "source": [
    "train_gen = ImageDataGenerator(rescale=1./255)\n",
    "\n",
    "train_ds = train_gen.flow_from_directory(\n",
    "    r'.\\train',\n",
    "    target_size=(150,150),\n",
    "    batch_size=20,\n",
    "    shuffle=True,\n",
    "    class_mode='binary'\n",
    "    )\n",
    "\n",
    "val_ds = train_gen.flow_from_directory(\n",
    "    r'.\\validation',\n",
    "    target_size=(150,150),\n",
    "    batch_size=20,\n",
    "    shuffle=True,\n",
    "    class_mode='binary'\n",
    "    )"
   ]
  },
  {
   "cell_type": "code",
   "execution_count": 5,
   "metadata": {},
   "outputs": [
    {
     "name": "stdout",
     "output_type": "stream",
     "text": [
      "Epoch 1/10\n",
      "100/100 [==============================] - 72s 713ms/step - loss: 0.7010 - accuracy: 0.4905 - val_loss: 0.6926 - val_accuracy: 0.5020\n",
      "Epoch 2/10\n",
      "100/100 [==============================] - 69s 691ms/step - loss: 0.6929 - accuracy: 0.4975 - val_loss: 0.6915 - val_accuracy: 0.5420\n",
      "Epoch 3/10\n",
      "100/100 [==============================] - 69s 695ms/step - loss: 0.6907 - accuracy: 0.5345 - val_loss: 0.6897 - val_accuracy: 0.5430\n",
      "Epoch 4/10\n",
      "100/100 [==============================] - 73s 728ms/step - loss: 0.6893 - accuracy: 0.5425 - val_loss: 0.6871 - val_accuracy: 0.5280\n",
      "Epoch 5/10\n",
      "100/100 [==============================] - 76s 763ms/step - loss: 0.6824 - accuracy: 0.5555 - val_loss: 0.6818 - val_accuracy: 0.5590\n",
      "Epoch 6/10\n",
      "100/100 [==============================] - 70s 700ms/step - loss: 0.6859 - accuracy: 0.5330 - val_loss: 0.6771 - val_accuracy: 0.5850\n",
      "Epoch 7/10\n",
      "100/100 [==============================] - 71s 712ms/step - loss: 0.6784 - accuracy: 0.5740 - val_loss: 0.6657 - val_accuracy: 0.5990\n",
      "Epoch 8/10\n",
      "100/100 [==============================] - 72s 719ms/step - loss: 0.6781 - accuracy: 0.5705 - val_loss: 0.6757 - val_accuracy: 0.5750\n",
      "Epoch 9/10\n",
      "100/100 [==============================] - 70s 699ms/step - loss: 0.6673 - accuracy: 0.5825 - val_loss: 0.6679 - val_accuracy: 0.5950\n",
      "Epoch 10/10\n",
      "100/100 [==============================] - 69s 692ms/step - loss: 0.6633 - accuracy: 0.5860 - val_loss: 0.6443 - val_accuracy: 0.6410\n"
     ]
    }
   ],
   "source": [
    "training = model.fit(train_ds, steps_per_epoch=100, epochs=10, validation_data=val_ds, validation_steps=50)"
   ]
  },
  {
   "cell_type": "markdown",
   "metadata": {},
   "source": [
    "# Question - 3"
   ]
  },
  {
   "cell_type": "code",
   "execution_count": 6,
   "metadata": {},
   "outputs": [
    {
     "data": {
      "text/plain": [
       "[0.49050000309944153,\n",
       " 0.4975000023841858,\n",
       " 0.534500002861023,\n",
       " 0.5425000190734863,\n",
       " 0.5554999709129333,\n",
       " 0.5329999923706055,\n",
       " 0.5740000009536743,\n",
       " 0.5705000162124634,\n",
       " 0.5824999809265137,\n",
       " 0.5860000252723694]"
      ]
     },
     "execution_count": 6,
     "metadata": {},
     "output_type": "execute_result"
    }
   ],
   "source": [
    "training.history['accuracy']"
   ]
  },
  {
   "cell_type": "code",
   "execution_count": 7,
   "metadata": {},
   "outputs": [
    {
     "data": {
      "text/plain": [
       "0.5489999949932098"
      ]
     },
     "execution_count": 7,
     "metadata": {},
     "output_type": "execute_result"
    }
   ],
   "source": [
    "\n",
    "np.median(training.history['accuracy'])"
   ]
  },
  {
   "cell_type": "markdown",
   "metadata": {},
   "source": [
    "# Question - 4"
   ]
  },
  {
   "cell_type": "code",
   "execution_count": 8,
   "metadata": {},
   "outputs": [
    {
     "data": {
      "text/plain": [
       "0.01098853965324752"
      ]
     },
     "execution_count": 8,
     "metadata": {},
     "output_type": "execute_result"
    }
   ],
   "source": [
    "np.std(training.history['loss'])"
   ]
  },
  {
   "cell_type": "markdown",
   "metadata": {},
   "source": [
    "# Question - 5"
   ]
  },
  {
   "cell_type": "code",
   "execution_count": 9,
   "metadata": {},
   "outputs": [
    {
     "name": "stdout",
     "output_type": "stream",
     "text": [
      "Found 20000 images belonging to 2 classes.\n",
      "Found 5000 images belonging to 2 classes.\n"
     ]
    }
   ],
   "source": [
    "train_gen = ImageDataGenerator(rescale=1./255,\n",
    "                               rotation_range=40,\n",
    "                               width_shift_range=0.2,\n",
    "                               height_shift_range=0.2,\n",
    "                               shear_range=0.2,\n",
    "                               zoom_range=0.2,\n",
    "                               horizontal_flip=True,\n",
    "                               fill_mode='nearest')\n",
    "train_ds = train_gen.flow_from_directory(\n",
    "    r'.\\train',\n",
    "    target_size=(150,150),\n",
    "    batch_size=20,\n",
    "    shuffle=True,\n",
    "    class_mode='binary'\n",
    "    )\n",
    "val_ds = train_gen.flow_from_directory(\n",
    "    r'.\\validation',\n",
    "    target_size=(150,150),\n",
    "    batch_size=20,\n",
    "    shuffle=True,\n",
    "    class_mode='binary'\n",
    "    )"
   ]
  },
  {
   "cell_type": "code",
   "execution_count": 10,
   "metadata": {},
   "outputs": [
    {
     "name": "stdout",
     "output_type": "stream",
     "text": [
      "Epoch 1/10\n",
      "100/100 [==============================] - 96s 964ms/step - loss: 0.6785 - accuracy: 0.5645 - val_loss: 0.6797 - val_accuracy: 0.5600\n",
      "Epoch 2/10\n",
      "100/100 [==============================] - 99s 989ms/step - loss: 0.6681 - accuracy: 0.5825 - val_loss: 0.6683 - val_accuracy: 0.5940\n",
      "Epoch 3/10\n",
      "100/100 [==============================] - 99s 987ms/step - loss: 0.6705 - accuracy: 0.5795 - val_loss: 0.6638 - val_accuracy: 0.5820\n",
      "Epoch 4/10\n",
      "100/100 [==============================] - 98s 985ms/step - loss: 0.6658 - accuracy: 0.5980 - val_loss: 0.6696 - val_accuracy: 0.5860\n",
      "Epoch 5/10\n",
      "100/100 [==============================] - 100s 998ms/step - loss: 0.6645 - accuracy: 0.5850 - val_loss: 0.6659 - val_accuracy: 0.5830\n",
      "Epoch 6/10\n",
      "100/100 [==============================] - 101s 1s/step - loss: 0.6686 - accuracy: 0.5920 - val_loss: 0.6569 - val_accuracy: 0.5960\n",
      "Epoch 7/10\n",
      "100/100 [==============================] - 100s 1000ms/step - loss: 0.6708 - accuracy: 0.5735 - val_loss: 0.6655 - val_accuracy: 0.5860\n",
      "Epoch 8/10\n",
      "100/100 [==============================] - 98s 980ms/step - loss: 0.6695 - accuracy: 0.5775 - val_loss: 0.6696 - val_accuracy: 0.5650\n",
      "Epoch 9/10\n",
      "100/100 [==============================] - 108s 1s/step - loss: 0.6589 - accuracy: 0.6070 - val_loss: 0.6760 - val_accuracy: 0.5580\n",
      "Epoch 10/10\n",
      "100/100 [==============================] - 112s 1s/step - loss: 0.6653 - accuracy: 0.5905 - val_loss: 0.6500 - val_accuracy: 0.6030\n"
     ]
    }
   ],
   "source": [
    "training = model.fit(train_ds, steps_per_epoch=100, epochs=10, validation_data=val_ds, validation_steps=50)"
   ]
  },
  {
   "cell_type": "code",
   "execution_count": 11,
   "metadata": {},
   "outputs": [
    {
     "data": {
      "text/plain": [
       "0.6665277898311615"
      ]
     },
     "execution_count": 11,
     "metadata": {},
     "output_type": "execute_result"
    }
   ],
   "source": [
    "np.mean(training.history['val_loss'])"
   ]
  },
  {
   "cell_type": "markdown",
   "metadata": {},
   "source": [
    "# Question - 6"
   ]
  },
  {
   "cell_type": "code",
   "execution_count": 13,
   "metadata": {},
   "outputs": [
    {
     "data": {
      "text/plain": [
       "0.58160001039505"
      ]
     },
     "execution_count": 13,
     "metadata": {},
     "output_type": "execute_result"
    }
   ],
   "source": [
    "np.average(training.history['val_accuracy'][5:])"
   ]
  }
 ],
 "metadata": {
  "kernelspec": {
   "display_name": "ml_course",
   "language": "python",
   "name": "ml_course"
  },
  "language_info": {
   "codemirror_mode": {
    "name": "ipython",
    "version": 3
   },
   "file_extension": ".py",
   "mimetype": "text/x-python",
   "name": "python",
   "nbconvert_exporter": "python",
   "pygments_lexer": "ipython3",
   "version": "3.8.2"
  }
 },
 "nbformat": 4,
 "nbformat_minor": 4
}
